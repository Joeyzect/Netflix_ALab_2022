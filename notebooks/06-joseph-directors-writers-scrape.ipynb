{
 "cells": [
  {
   "cell_type": "code",
   "execution_count": 10,
   "metadata": {},
   "outputs": [],
   "source": [
    "import pandas as pd\n",
    "import numpy as np"
   ]
  },
  {
   "cell_type": "code",
   "execution_count": 6,
   "metadata": {},
   "outputs": [
    {
     "name": "stderr",
     "output_type": "stream",
     "text": [
      "C:\\Users\\Joeyz\\AppData\\Local\\Temp\\ipykernel_8844\\2674795029.py:4: DtypeWarning: Columns (4) have mixed types. Specify dtype option on import or set low_memory=False.\n",
      "  titles = pd.read_csv('../data/raw/title.basics.tsv', sep='\\t')\n"
     ]
    }
   ],
   "source": [
    "# Read in data from crew csv\n",
    "crew = pd.read_csv('../data/raw/title.crew.tsv', sep='\\t')\n",
    "ratings = pd.read_csv('../data/raw/title.ratings.tsv', sep='\\t')\n",
    "titles = pd.read_csv('../data/raw/title.basics.tsv', sep='\\t')\n"
   ]
  },
  {
   "cell_type": "code",
   "execution_count": 17,
   "metadata": {},
   "outputs": [],
   "source": [
    "titles.replace('\\\\N', np.nan, inplace=True)\n",
    "titles['startYear'] = titles['startYear'].astype(float)"
   ]
  },
  {
   "cell_type": "code",
   "execution_count": 20,
   "metadata": {},
   "outputs": [
    {
     "data": {
      "text/html": [
       "<div>\n",
       "<style scoped>\n",
       "    .dataframe tbody tr th:only-of-type {\n",
       "        vertical-align: middle;\n",
       "    }\n",
       "\n",
       "    .dataframe tbody tr th {\n",
       "        vertical-align: top;\n",
       "    }\n",
       "\n",
       "    .dataframe thead th {\n",
       "        text-align: right;\n",
       "    }\n",
       "</style>\n",
       "<table border=\"1\" class=\"dataframe\">\n",
       "  <thead>\n",
       "    <tr style=\"text-align: right;\">\n",
       "      <th></th>\n",
       "      <th>tconst</th>\n",
       "      <th>titleType</th>\n",
       "      <th>primaryTitle</th>\n",
       "      <th>originalTitle</th>\n",
       "      <th>isAdult</th>\n",
       "      <th>startYear</th>\n",
       "      <th>endYear</th>\n",
       "      <th>runtimeMinutes</th>\n",
       "      <th>genres</th>\n",
       "    </tr>\n",
       "  </thead>\n",
       "  <tbody>\n",
       "    <tr>\n",
       "      <th>9273127</th>\n",
       "      <td>tt9916848</td>\n",
       "      <td>tvEpisode</td>\n",
       "      <td>Episode #3.17</td>\n",
       "      <td>Episode #3.17</td>\n",
       "      <td>0</td>\n",
       "      <td>2010.0</td>\n",
       "      <td>NaN</td>\n",
       "      <td>NaN</td>\n",
       "      <td>Action,Drama,Family</td>\n",
       "    </tr>\n",
       "    <tr>\n",
       "      <th>9273128</th>\n",
       "      <td>tt9916850</td>\n",
       "      <td>tvEpisode</td>\n",
       "      <td>Episode #3.19</td>\n",
       "      <td>Episode #3.19</td>\n",
       "      <td>0</td>\n",
       "      <td>2010.0</td>\n",
       "      <td>NaN</td>\n",
       "      <td>NaN</td>\n",
       "      <td>Action,Drama,Family</td>\n",
       "    </tr>\n",
       "    <tr>\n",
       "      <th>9273129</th>\n",
       "      <td>tt9916852</td>\n",
       "      <td>tvEpisode</td>\n",
       "      <td>Episode #3.20</td>\n",
       "      <td>Episode #3.20</td>\n",
       "      <td>0</td>\n",
       "      <td>2010.0</td>\n",
       "      <td>NaN</td>\n",
       "      <td>NaN</td>\n",
       "      <td>Action,Drama,Family</td>\n",
       "    </tr>\n",
       "    <tr>\n",
       "      <th>9273130</th>\n",
       "      <td>tt9916856</td>\n",
       "      <td>short</td>\n",
       "      <td>The Wind</td>\n",
       "      <td>The Wind</td>\n",
       "      <td>0</td>\n",
       "      <td>2015.0</td>\n",
       "      <td>NaN</td>\n",
       "      <td>27</td>\n",
       "      <td>Short</td>\n",
       "    </tr>\n",
       "    <tr>\n",
       "      <th>9273131</th>\n",
       "      <td>tt9916880</td>\n",
       "      <td>tvEpisode</td>\n",
       "      <td>Horrid Henry Knows It All</td>\n",
       "      <td>Horrid Henry Knows It All</td>\n",
       "      <td>0</td>\n",
       "      <td>2014.0</td>\n",
       "      <td>NaN</td>\n",
       "      <td>10</td>\n",
       "      <td>Adventure,Animation,Comedy</td>\n",
       "    </tr>\n",
       "  </tbody>\n",
       "</table>\n",
       "</div>"
      ],
      "text/plain": [
       "            tconst  titleType               primaryTitle  \\\n",
       "9273127  tt9916848  tvEpisode              Episode #3.17   \n",
       "9273128  tt9916850  tvEpisode              Episode #3.19   \n",
       "9273129  tt9916852  tvEpisode              Episode #3.20   \n",
       "9273130  tt9916856      short                   The Wind   \n",
       "9273131  tt9916880  tvEpisode  Horrid Henry Knows It All   \n",
       "\n",
       "                     originalTitle isAdult  startYear endYear runtimeMinutes  \\\n",
       "9273127              Episode #3.17       0     2010.0     NaN            NaN   \n",
       "9273128              Episode #3.19       0     2010.0     NaN            NaN   \n",
       "9273129              Episode #3.20       0     2010.0     NaN            NaN   \n",
       "9273130                   The Wind       0     2015.0     NaN             27   \n",
       "9273131  Horrid Henry Knows It All       0     2014.0     NaN             10   \n",
       "\n",
       "                             genres  \n",
       "9273127         Action,Drama,Family  \n",
       "9273128         Action,Drama,Family  \n",
       "9273129         Action,Drama,Family  \n",
       "9273130                       Short  \n",
       "9273131  Adventure,Animation,Comedy  "
      ]
     },
     "execution_count": 20,
     "metadata": {},
     "output_type": "execute_result"
    }
   ],
   "source": [
    "titles.tail()"
   ]
  },
  {
   "cell_type": "code",
   "execution_count": 22,
   "metadata": {},
   "outputs": [],
   "source": [
    "between_1950_2020_titles = titles[(titles['startYear']>=1950) & (titles['startYear']<=2020) & (titles['titleType'] != 'tvEpisode')]['tconst']"
   ]
  },
  {
   "cell_type": "code",
   "execution_count": 23,
   "metadata": {},
   "outputs": [],
   "source": [
    "#Heuristic: Let's filter out movies with less than 10000 votes\n",
    "\n",
    "high_votes = ratings[ratings['numVotes'] > 10000]"
   ]
  },
  {
   "cell_type": "code",
   "execution_count": 25,
   "metadata": {},
   "outputs": [],
   "source": [
    "votes_and_titles = pd.merge(between_1950_2020_titles, high_votes, on='tconst')"
   ]
  },
  {
   "cell_type": "code",
   "execution_count": null,
   "metadata": {},
   "outputs": [],
   "source": [
    "#Turn the directors column into a list\n",
    "crew['directors'] = crew['directors'].str.split(',')"
   ]
  },
  {
   "cell_type": "code",
   "execution_count": 32,
   "metadata": {},
   "outputs": [],
   "source": [
    "# explode directors column\n",
    "directors = crew[['tconst', 'directors']].explode('directors')\n"
   ]
  },
  {
   "cell_type": "code",
   "execution_count": 34,
   "metadata": {},
   "outputs": [],
   "source": [
    "# Merge the directors with the titles\n",
    "directors_and_titles = pd.merge(directors, votes_and_titles, on='tconst')"
   ]
  },
  {
   "cell_type": "code",
   "execution_count": 85,
   "metadata": {},
   "outputs": [],
   "source": [
    "from sklearn.preprocessing import normalize"
   ]
  },
  {
   "cell_type": "code",
   "execution_count": 94,
   "metadata": {},
   "outputs": [],
   "source": [
    "#Create 3 columns with votes, normalized votes, and rankings\n",
    "director_votes = directors_and_titles.groupby('directors')['numVotes'].sum()\n",
    "normalized_director_votes = normalize(director_votes.values.reshape(1, -1))\n",
    "ranked_director_votes = director_votes.rank(ascending=False)\n",
    "final_director_rankings = pd.DataFrame({'director':director_votes.index, 'rank':ranked_director_votes.values, 'total_votes':director_votes.values, 'normalized_votes': normalized_director_votes[0]})\n",
    "final_director_rankings.to_csv('../data/interim/director_rankings.csv', index=False)"
   ]
  },
  {
   "cell_type": "markdown",
   "metadata": {},
   "source": [
    "Now Repeat with the Writers"
   ]
  },
  {
   "cell_type": "code",
   "execution_count": 95,
   "metadata": {},
   "outputs": [],
   "source": [
    "crew['writers'] = crew['writers'].str.split(',')\n",
    "writers = crew[['tconst', 'writers']].explode('writers')"
   ]
  },
  {
   "cell_type": "code",
   "execution_count": 96,
   "metadata": {},
   "outputs": [],
   "source": [
    "writers_and_titles = pd.merge(writers, votes_and_titles, on='tconst')"
   ]
  },
  {
   "cell_type": "code",
   "execution_count": 97,
   "metadata": {},
   "outputs": [],
   "source": [
    "\n",
    "writer_votes = writers_and_titles.groupby('writers')['numVotes'].sum()\n",
    "normalized_writer_votes = normalize(writer_votes.values.reshape(1, -1))\n",
    "ranked_writer_votes = writer_votes.rank(ascending=False)\n",
    "final_writer_rankings = pd.DataFrame({'writer':writer_votes.index, 'rank':ranked_writer_votes.values, 'total_votes':writer_votes.values, 'normalized_votes': normalized_writer_votes[0]})\n",
    "final_writer_rankings.to_csv('../data/interim/writer_rankings.csv', index=False)"
   ]
  }
 ],
 "metadata": {
  "kernelspec": {
   "display_name": "Python 3.10.4 ('netflix_proj')",
   "language": "python",
   "name": "python3"
  },
  "language_info": {
   "codemirror_mode": {
    "name": "ipython",
    "version": 3
   },
   "file_extension": ".py",
   "mimetype": "text/x-python",
   "name": "python",
   "nbconvert_exporter": "python",
   "pygments_lexer": "ipython3",
   "version": "3.10.4"
  },
  "orig_nbformat": 4,
  "vscode": {
   "interpreter": {
    "hash": "a9958285388ffb0985a92a2fa62daaced4f70ddc8281d758effbeb55efac45cc"
   }
  }
 },
 "nbformat": 4,
 "nbformat_minor": 2
}
