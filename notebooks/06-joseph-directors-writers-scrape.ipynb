{
 "cells": [
  {
   "cell_type": "code",
   "execution_count": 1,
   "metadata": {},
   "outputs": [],
   "source": [
    "import pandas as pd\n",
    "import numpy as np"
   ]
  },
  {
   "cell_type": "code",
   "execution_count": 2,
   "metadata": {},
   "outputs": [
    {
     "name": "stderr",
     "output_type": "stream",
     "text": [
      "/var/folders/b9/1w_dn_kj5zgffq25ztcmwj5m0000gn/T/ipykernel_1305/1931529237.py:4: DtypeWarning: Columns (4) have mixed types. Specify dtype option on import or set low_memory=False.\n",
      "  titles = pd.read_csv('/Users/zachwayne/Dropbox (MIT)/Netflix - Seize the Data/title.basics.tsv', sep='\\t')\n"
     ]
    }
   ],
   "source": [
    "# Read in data from crew csv\n",
    "crew = pd.read_csv('/Users/zachwayne/Dropbox (MIT)/Netflix - Seize the Data/title.crew.tsv', sep='\\t')\n",
    "ratings = pd.read_csv('/Users/zachwayne/Dropbox (MIT)/Netflix - Seize the Data/title.ratings.tsv', sep='\\t')\n",
    "titles = pd.read_csv('/Users/zachwayne/Dropbox (MIT)/Netflix - Seize the Data/title.basics.tsv', sep='\\t')\n"
   ]
  },
  {
   "cell_type": "code",
   "execution_count": 3,
   "metadata": {},
   "outputs": [],
   "source": [
    "titles.replace('\\\\N', np.nan, inplace=True)\n",
    "titles['startYear'] = titles['startYear'].astype(float)"
   ]
  },
  {
   "cell_type": "code",
   "execution_count": 4,
   "metadata": {},
   "outputs": [
    {
     "data": {
      "text/html": [
       "<div>\n",
       "<style scoped>\n",
       "    .dataframe tbody tr th:only-of-type {\n",
       "        vertical-align: middle;\n",
       "    }\n",
       "\n",
       "    .dataframe tbody tr th {\n",
       "        vertical-align: top;\n",
       "    }\n",
       "\n",
       "    .dataframe thead th {\n",
       "        text-align: right;\n",
       "    }\n",
       "</style>\n",
       "<table border=\"1\" class=\"dataframe\">\n",
       "  <thead>\n",
       "    <tr style=\"text-align: right;\">\n",
       "      <th></th>\n",
       "      <th>tconst</th>\n",
       "      <th>titleType</th>\n",
       "      <th>primaryTitle</th>\n",
       "      <th>originalTitle</th>\n",
       "      <th>isAdult</th>\n",
       "      <th>startYear</th>\n",
       "      <th>endYear</th>\n",
       "      <th>runtimeMinutes</th>\n",
       "      <th>genres</th>\n",
       "    </tr>\n",
       "  </thead>\n",
       "  <tbody>\n",
       "    <tr>\n",
       "      <th>9273127</th>\n",
       "      <td>tt9916848</td>\n",
       "      <td>tvEpisode</td>\n",
       "      <td>Episode #3.17</td>\n",
       "      <td>Episode #3.17</td>\n",
       "      <td>0</td>\n",
       "      <td>2010.0</td>\n",
       "      <td>NaN</td>\n",
       "      <td>NaN</td>\n",
       "      <td>Action,Drama,Family</td>\n",
       "    </tr>\n",
       "    <tr>\n",
       "      <th>9273128</th>\n",
       "      <td>tt9916850</td>\n",
       "      <td>tvEpisode</td>\n",
       "      <td>Episode #3.19</td>\n",
       "      <td>Episode #3.19</td>\n",
       "      <td>0</td>\n",
       "      <td>2010.0</td>\n",
       "      <td>NaN</td>\n",
       "      <td>NaN</td>\n",
       "      <td>Action,Drama,Family</td>\n",
       "    </tr>\n",
       "    <tr>\n",
       "      <th>9273129</th>\n",
       "      <td>tt9916852</td>\n",
       "      <td>tvEpisode</td>\n",
       "      <td>Episode #3.20</td>\n",
       "      <td>Episode #3.20</td>\n",
       "      <td>0</td>\n",
       "      <td>2010.0</td>\n",
       "      <td>NaN</td>\n",
       "      <td>NaN</td>\n",
       "      <td>Action,Drama,Family</td>\n",
       "    </tr>\n",
       "    <tr>\n",
       "      <th>9273130</th>\n",
       "      <td>tt9916856</td>\n",
       "      <td>short</td>\n",
       "      <td>The Wind</td>\n",
       "      <td>The Wind</td>\n",
       "      <td>0</td>\n",
       "      <td>2015.0</td>\n",
       "      <td>NaN</td>\n",
       "      <td>27</td>\n",
       "      <td>Short</td>\n",
       "    </tr>\n",
       "    <tr>\n",
       "      <th>9273131</th>\n",
       "      <td>tt9916880</td>\n",
       "      <td>tvEpisode</td>\n",
       "      <td>Horrid Henry Knows It All</td>\n",
       "      <td>Horrid Henry Knows It All</td>\n",
       "      <td>0</td>\n",
       "      <td>2014.0</td>\n",
       "      <td>NaN</td>\n",
       "      <td>10</td>\n",
       "      <td>Adventure,Animation,Comedy</td>\n",
       "    </tr>\n",
       "  </tbody>\n",
       "</table>\n",
       "</div>"
      ],
      "text/plain": [
       "            tconst  titleType               primaryTitle  \\\n",
       "9273127  tt9916848  tvEpisode              Episode #3.17   \n",
       "9273128  tt9916850  tvEpisode              Episode #3.19   \n",
       "9273129  tt9916852  tvEpisode              Episode #3.20   \n",
       "9273130  tt9916856      short                   The Wind   \n",
       "9273131  tt9916880  tvEpisode  Horrid Henry Knows It All   \n",
       "\n",
       "                     originalTitle isAdult  startYear endYear runtimeMinutes  \\\n",
       "9273127              Episode #3.17       0     2010.0     NaN            NaN   \n",
       "9273128              Episode #3.19       0     2010.0     NaN            NaN   \n",
       "9273129              Episode #3.20       0     2010.0     NaN            NaN   \n",
       "9273130                   The Wind       0     2015.0     NaN             27   \n",
       "9273131  Horrid Henry Knows It All       0     2014.0     NaN             10   \n",
       "\n",
       "                             genres  \n",
       "9273127         Action,Drama,Family  \n",
       "9273128         Action,Drama,Family  \n",
       "9273129         Action,Drama,Family  \n",
       "9273130                       Short  \n",
       "9273131  Adventure,Animation,Comedy  "
      ]
     },
     "execution_count": 4,
     "metadata": {},
     "output_type": "execute_result"
    }
   ],
   "source": [
    "titles.tail()"
   ]
  },
  {
   "cell_type": "code",
   "execution_count": 5,
   "metadata": {},
   "outputs": [],
   "source": [
    "between_1950_2020_titles = titles[(titles['startYear']>=1950) & (titles['startYear']<=2020) & (titles['titleType'] != 'tvEpisode')]['tconst']"
   ]
  },
  {
   "cell_type": "code",
   "execution_count": 6,
   "metadata": {},
   "outputs": [],
   "source": [
    "#Heuristic: Let's filter out movies with less than 10000 votes\n",
    "\n",
    "high_votes = ratings[ratings['numVotes'] > 10000]"
   ]
  },
  {
   "cell_type": "code",
   "execution_count": 7,
   "metadata": {},
   "outputs": [],
   "source": [
    "votes_and_titles = pd.merge(between_1950_2020_titles, high_votes, on='tconst')"
   ]
  },
  {
   "cell_type": "code",
   "execution_count": 9,
   "metadata": {},
   "outputs": [],
   "source": [
    "#Turn the directors column into a list\n",
    "crew['directors'] = crew['directors'].str.split(',')"
   ]
  },
  {
   "cell_type": "code",
   "execution_count": 10,
   "metadata": {},
   "outputs": [],
   "source": [
    "# explode directors column\n",
    "directors = crew[['tconst', 'directors']].explode('directors')\n"
   ]
  },
  {
   "cell_type": "code",
   "execution_count": 11,
   "metadata": {},
   "outputs": [],
   "source": [
    "# Merge the directors with the titles\n",
    "directors_and_titles = pd.merge(directors, votes_and_titles, on='tconst')"
   ]
  },
  {
   "cell_type": "code",
   "execution_count": 12,
   "metadata": {},
   "outputs": [],
   "source": [
    "from sklearn.preprocessing import normalize"
   ]
  },
  {
   "cell_type": "code",
   "execution_count": 21,
   "metadata": {},
   "outputs": [],
   "source": [
    "#Create 3 columns with votes, normalized votes, and rankings\n",
    "director_votes = directors_and_titles.groupby('directors')['numVotes'].sum()\n",
    "normalized_director_votes = normalize(director_votes.values.reshape(1, -1))\n",
    "ranked_director_votes = director_votes.rank(ascending=False)\n",
    "final_director_rankings = pd.DataFrame({'director':director_votes.index, 'rank':ranked_director_votes.values, 'total_votes':director_votes.values, 'normalized_votes': normalized_director_votes[0]})\n",
    "final_director_rankings.sort_values('rank', inplace=True)\n",
    "#final_director_rankings.to_csv('../data/interim/director_rankings.csv', index=False)"
   ]
  },
  {
   "cell_type": "code",
   "execution_count": 15,
   "metadata": {},
   "outputs": [],
   "source": [
    "names = pd.read_csv('/Users/zachwayne/Dropbox (MIT)/Netflix - Seize the Data/name.basics.tsv', sep='\\t')"
   ]
  },
  {
   "cell_type": "code",
   "execution_count": 22,
   "metadata": {},
   "outputs": [],
   "source": [
    "# merge names with director rankings\n",
    "final_director_rankings = pd.merge(final_director_rankings, names, left_on='director', right_on='nconst', how='left')\n",
    "final_director_rankings.drop(columns=['nconst', 'birthYear', 'deathYear', 'primaryProfession', 'knownForTitles'], inplace=True)"
   ]
  },
  {
   "cell_type": "code",
   "execution_count": 23,
   "metadata": {},
   "outputs": [
    {
     "data": {
      "text/html": [
       "<div>\n",
       "<style scoped>\n",
       "    .dataframe tbody tr th:only-of-type {\n",
       "        vertical-align: middle;\n",
       "    }\n",
       "\n",
       "    .dataframe tbody tr th {\n",
       "        vertical-align: top;\n",
       "    }\n",
       "\n",
       "    .dataframe thead th {\n",
       "        text-align: right;\n",
       "    }\n",
       "</style>\n",
       "<table border=\"1\" class=\"dataframe\">\n",
       "  <thead>\n",
       "    <tr style=\"text-align: right;\">\n",
       "      <th></th>\n",
       "      <th>director</th>\n",
       "      <th>rank</th>\n",
       "      <th>total_votes</th>\n",
       "      <th>normalized_votes</th>\n",
       "      <th>primaryName</th>\n",
       "    </tr>\n",
       "  </thead>\n",
       "  <tbody>\n",
       "    <tr>\n",
       "      <th>0</th>\n",
       "      <td>nm0634240</td>\n",
       "      <td>1.0</td>\n",
       "      <td>13965885</td>\n",
       "      <td>0.191970</td>\n",
       "      <td>Christopher Nolan</td>\n",
       "    </tr>\n",
       "    <tr>\n",
       "      <th>1</th>\n",
       "      <td>nm0000229</td>\n",
       "      <td>2.0</td>\n",
       "      <td>13326650</td>\n",
       "      <td>0.183184</td>\n",
       "      <td>Steven Spielberg</td>\n",
       "    </tr>\n",
       "    <tr>\n",
       "      <th>2</th>\n",
       "      <td>nm0000233</td>\n",
       "      <td>3.0</td>\n",
       "      <td>11033530</td>\n",
       "      <td>0.151663</td>\n",
       "      <td>Quentin Tarantino</td>\n",
       "    </tr>\n",
       "    <tr>\n",
       "      <th>3</th>\n",
       "      <td>nm0000217</td>\n",
       "      <td>4.0</td>\n",
       "      <td>9540815</td>\n",
       "      <td>0.131145</td>\n",
       "      <td>Martin Scorsese</td>\n",
       "    </tr>\n",
       "    <tr>\n",
       "      <th>4</th>\n",
       "      <td>nm0000399</td>\n",
       "      <td>5.0</td>\n",
       "      <td>9033019</td>\n",
       "      <td>0.124165</td>\n",
       "      <td>David Fincher</td>\n",
       "    </tr>\n",
       "  </tbody>\n",
       "</table>\n",
       "</div>"
      ],
      "text/plain": [
       "    director  rank  total_votes  normalized_votes        primaryName\n",
       "0  nm0634240   1.0     13965885          0.191970  Christopher Nolan\n",
       "1  nm0000229   2.0     13326650          0.183184   Steven Spielberg\n",
       "2  nm0000233   3.0     11033530          0.151663  Quentin Tarantino\n",
       "3  nm0000217   4.0      9540815          0.131145    Martin Scorsese\n",
       "4  nm0000399   5.0      9033019          0.124165      David Fincher"
      ]
     },
     "execution_count": 23,
     "metadata": {},
     "output_type": "execute_result"
    }
   ],
   "source": [
    "final_director_rankings.head()"
   ]
  },
  {
   "cell_type": "markdown",
   "metadata": {},
   "source": [
    "Now Repeat with the Writers"
   ]
  },
  {
   "cell_type": "code",
   "execution_count": 24,
   "metadata": {},
   "outputs": [],
   "source": [
    "crew['writers'] = crew['writers'].str.split(',')\n",
    "writers = crew[['tconst', 'writers']].explode('writers')"
   ]
  },
  {
   "cell_type": "code",
   "execution_count": 25,
   "metadata": {},
   "outputs": [],
   "source": [
    "writers_and_titles = pd.merge(writers, votes_and_titles, on='tconst')"
   ]
  },
  {
   "cell_type": "code",
   "execution_count": 26,
   "metadata": {},
   "outputs": [],
   "source": [
    "\n",
    "writer_votes = writers_and_titles.groupby('writers')['numVotes'].sum()\n",
    "normalized_writer_votes = normalize(writer_votes.values.reshape(1, -1))\n",
    "ranked_writer_votes = writer_votes.rank(ascending=False)\n",
    "final_writer_rankings = pd.DataFrame({'writer':writer_votes.index, 'rank':ranked_writer_votes.values, 'total_votes':writer_votes.values, 'normalized_votes': normalized_writer_votes[0]})\n",
    "#final_writer_rankings.to_csv('../data/interim/writer_rankings.csv', index=False)\n",
    "final_writer_rankings.sort_values('rank', inplace=True)\n"
   ]
  },
  {
   "cell_type": "code",
   "execution_count": 27,
   "metadata": {},
   "outputs": [],
   "source": [
    "# merge names with director rankings\n",
    "final_writer_rankings = pd.merge(final_writer_rankings, names, left_on='writer', right_on='nconst', how='left')\n",
    "final_writer_rankings.drop(columns=['nconst', 'birthYear', 'deathYear', 'primaryProfession', 'knownForTitles'], inplace=True)"
   ]
  },
  {
   "cell_type": "code",
   "execution_count": 28,
   "metadata": {},
   "outputs": [
    {
     "data": {
      "text/html": [
       "<div>\n",
       "<style scoped>\n",
       "    .dataframe tbody tr th:only-of-type {\n",
       "        vertical-align: middle;\n",
       "    }\n",
       "\n",
       "    .dataframe tbody tr th {\n",
       "        vertical-align: top;\n",
       "    }\n",
       "\n",
       "    .dataframe thead th {\n",
       "        text-align: right;\n",
       "    }\n",
       "</style>\n",
       "<table border=\"1\" class=\"dataframe\">\n",
       "  <thead>\n",
       "    <tr style=\"text-align: right;\">\n",
       "      <th></th>\n",
       "      <th>writer</th>\n",
       "      <th>rank</th>\n",
       "      <th>total_votes</th>\n",
       "      <th>normalized_votes</th>\n",
       "      <th>primaryName</th>\n",
       "    </tr>\n",
       "  </thead>\n",
       "  <tbody>\n",
       "    <tr>\n",
       "      <th>0</th>\n",
       "      <td>nm0498278</td>\n",
       "      <td>1.0</td>\n",
       "      <td>19928451</td>\n",
       "      <td>0.249145</td>\n",
       "      <td>Stan Lee</td>\n",
       "    </tr>\n",
       "    <tr>\n",
       "      <th>1</th>\n",
       "      <td>nm0456158</td>\n",
       "      <td>2.0</td>\n",
       "      <td>18396525</td>\n",
       "      <td>0.229993</td>\n",
       "      <td>Jack Kirby</td>\n",
       "    </tr>\n",
       "    <tr>\n",
       "      <th>2</th>\n",
       "      <td>nm0634240</td>\n",
       "      <td>3.0</td>\n",
       "      <td>14449606</td>\n",
       "      <td>0.180648</td>\n",
       "      <td>Christopher Nolan</td>\n",
       "    </tr>\n",
       "    <tr>\n",
       "      <th>3</th>\n",
       "      <td>nm0000184</td>\n",
       "      <td>4.0</td>\n",
       "      <td>12630074</td>\n",
       "      <td>0.157901</td>\n",
       "      <td>George Lucas</td>\n",
       "    </tr>\n",
       "    <tr>\n",
       "      <th>4</th>\n",
       "      <td>nm0004170</td>\n",
       "      <td>5.0</td>\n",
       "      <td>11501813</td>\n",
       "      <td>0.143795</td>\n",
       "      <td>Bob Kane</td>\n",
       "    </tr>\n",
       "  </tbody>\n",
       "</table>\n",
       "</div>"
      ],
      "text/plain": [
       "      writer  rank  total_votes  normalized_votes        primaryName\n",
       "0  nm0498278   1.0     19928451          0.249145           Stan Lee\n",
       "1  nm0456158   2.0     18396525          0.229993         Jack Kirby\n",
       "2  nm0634240   3.0     14449606          0.180648  Christopher Nolan\n",
       "3  nm0000184   4.0     12630074          0.157901       George Lucas\n",
       "4  nm0004170   5.0     11501813          0.143795           Bob Kane"
      ]
     },
     "execution_count": 28,
     "metadata": {},
     "output_type": "execute_result"
    }
   ],
   "source": [
    "final_writer_rankings.head()"
   ]
  },
  {
   "cell_type": "code",
   "execution_count": 29,
   "metadata": {},
   "outputs": [
    {
     "data": {
      "text/html": [
       "<div>\n",
       "<style scoped>\n",
       "    .dataframe tbody tr th:only-of-type {\n",
       "        vertical-align: middle;\n",
       "    }\n",
       "\n",
       "    .dataframe tbody tr th {\n",
       "        vertical-align: top;\n",
       "    }\n",
       "\n",
       "    .dataframe thead th {\n",
       "        text-align: right;\n",
       "    }\n",
       "</style>\n",
       "<table border=\"1\" class=\"dataframe\">\n",
       "  <thead>\n",
       "    <tr style=\"text-align: right;\">\n",
       "      <th></th>\n",
       "      <th>tconst</th>\n",
       "      <th>directors</th>\n",
       "      <th>writers</th>\n",
       "    </tr>\n",
       "  </thead>\n",
       "  <tbody>\n",
       "    <tr>\n",
       "      <th>0</th>\n",
       "      <td>tt0000001</td>\n",
       "      <td>[nm0005690]</td>\n",
       "      <td>[\\N]</td>\n",
       "    </tr>\n",
       "    <tr>\n",
       "      <th>1</th>\n",
       "      <td>tt0000002</td>\n",
       "      <td>[nm0721526]</td>\n",
       "      <td>[\\N]</td>\n",
       "    </tr>\n",
       "    <tr>\n",
       "      <th>2</th>\n",
       "      <td>tt0000003</td>\n",
       "      <td>[nm0721526]</td>\n",
       "      <td>[\\N]</td>\n",
       "    </tr>\n",
       "    <tr>\n",
       "      <th>3</th>\n",
       "      <td>tt0000004</td>\n",
       "      <td>[nm0721526]</td>\n",
       "      <td>[\\N]</td>\n",
       "    </tr>\n",
       "    <tr>\n",
       "      <th>4</th>\n",
       "      <td>tt0000005</td>\n",
       "      <td>[nm0005690]</td>\n",
       "      <td>[\\N]</td>\n",
       "    </tr>\n",
       "    <tr>\n",
       "      <th>...</th>\n",
       "      <td>...</td>\n",
       "      <td>...</td>\n",
       "      <td>...</td>\n",
       "    </tr>\n",
       "    <tr>\n",
       "      <th>9275709</th>\n",
       "      <td>tt9916848</td>\n",
       "      <td>[nm5519375, nm5519454]</td>\n",
       "      <td>[nm6182221, nm1628284, nm2921377]</td>\n",
       "    </tr>\n",
       "    <tr>\n",
       "      <th>9275710</th>\n",
       "      <td>tt9916850</td>\n",
       "      <td>[nm5519454, nm5519375]</td>\n",
       "      <td>[nm6182221, nm1628284, nm2921377]</td>\n",
       "    </tr>\n",
       "    <tr>\n",
       "      <th>9275711</th>\n",
       "      <td>tt9916852</td>\n",
       "      <td>[nm5519454, nm5519375]</td>\n",
       "      <td>[nm6182221, nm1628284, nm2921377]</td>\n",
       "    </tr>\n",
       "    <tr>\n",
       "      <th>9275712</th>\n",
       "      <td>tt9916856</td>\n",
       "      <td>[nm10538645]</td>\n",
       "      <td>[nm6951431]</td>\n",
       "    </tr>\n",
       "    <tr>\n",
       "      <th>9275713</th>\n",
       "      <td>tt9916880</td>\n",
       "      <td>[nm0996406]</td>\n",
       "      <td>[nm1482639, nm2586970]</td>\n",
       "    </tr>\n",
       "  </tbody>\n",
       "</table>\n",
       "<p>9275714 rows × 3 columns</p>\n",
       "</div>"
      ],
      "text/plain": [
       "            tconst               directors                            writers\n",
       "0        tt0000001             [nm0005690]                               [\\N]\n",
       "1        tt0000002             [nm0721526]                               [\\N]\n",
       "2        tt0000003             [nm0721526]                               [\\N]\n",
       "3        tt0000004             [nm0721526]                               [\\N]\n",
       "4        tt0000005             [nm0005690]                               [\\N]\n",
       "...            ...                     ...                                ...\n",
       "9275709  tt9916848  [nm5519375, nm5519454]  [nm6182221, nm1628284, nm2921377]\n",
       "9275710  tt9916850  [nm5519454, nm5519375]  [nm6182221, nm1628284, nm2921377]\n",
       "9275711  tt9916852  [nm5519454, nm5519375]  [nm6182221, nm1628284, nm2921377]\n",
       "9275712  tt9916856            [nm10538645]                        [nm6951431]\n",
       "9275713  tt9916880             [nm0996406]             [nm1482639, nm2586970]\n",
       "\n",
       "[9275714 rows x 3 columns]"
      ]
     },
     "execution_count": 29,
     "metadata": {},
     "output_type": "execute_result"
    }
   ],
   "source": [
    "crew"
   ]
  },
  {
   "cell_type": "markdown",
   "metadata": {},
   "source": [
    "Now for writers"
   ]
  },
  {
   "cell_type": "code",
   "execution_count": 20,
   "metadata": {},
   "outputs": [],
   "source": [
    "principals = pd.read_csv('/Users/zachwayne/Dropbox (MIT)/Netflix - Seize the Data/title.principals.tsv', sep='\\t')"
   ]
  },
  {
   "cell_type": "code",
   "execution_count": 21,
   "metadata": {},
   "outputs": [
    {
     "data": {
      "text/plain": [
       "array(['self', 'director', 'cinematographer', 'composer', 'producer',\n",
       "       'editor', 'actor', 'actress', 'writer', 'production_designer',\n",
       "       'archive_footage', 'archive_sound'], dtype=object)"
      ]
     },
     "execution_count": 21,
     "metadata": {},
     "output_type": "execute_result"
    }
   ],
   "source": [
    "# get unique categories from the principals\n",
    "principals['category'].unique()"
   ]
  },
  {
   "cell_type": "code",
   "execution_count": 9,
   "metadata": {},
   "outputs": [],
   "source": [
    "# only keep actor categories\n",
    "principals = principals[principals['category'].isin(['actor', 'actress'])]"
   ]
  },
  {
   "cell_type": "code",
   "execution_count": null,
   "metadata": {},
   "outputs": [],
   "source": []
  },
  {
   "cell_type": "code",
   "execution_count": 10,
   "metadata": {},
   "outputs": [],
   "source": [
    "actors_and_titles = pd.merge(principals, votes_and_titles, on='tconst')"
   ]
  },
  {
   "cell_type": "code",
   "execution_count": 13,
   "metadata": {},
   "outputs": [],
   "source": [
    "actors_votes = actors_and_titles.groupby('nconst')['numVotes'].sum()\n",
    "normalized_actor_votes = normalize(actors_votes.values.reshape(1, -1))\n",
    "ranked_actor_votes = actors_votes.rank(ascending=False)\n",
    "final_actor_rankings = pd.DataFrame({'actor':actors_votes.index, 'rank':ranked_actor_votes.values, 'total_votes':actors_votes.values, 'normalized_votes': normalized_actor_votes[0]})\n",
    "#final_writer_rankings.to_csv('../data/interim/writer_rankings.csv', index=False)\n",
    "final_actor_rankings.sort_values('rank', inplace=True)\n"
   ]
  },
  {
   "cell_type": "code",
   "execution_count": 16,
   "metadata": {},
   "outputs": [],
   "source": [
    "# merge names with director rankings\n",
    "final_actor_rankings = pd.merge(final_actor_rankings, names, left_on='actor', right_on='nconst', how='left')\n",
    "final_actor_rankings.drop(columns=['nconst', 'birthYear', 'deathYear', 'primaryProfession', 'knownForTitles'], inplace=True)"
   ]
  },
  {
   "cell_type": "code",
   "execution_count": 22,
   "metadata": {},
   "outputs": [
    {
     "data": {
      "text/html": [
       "<div>\n",
       "<style scoped>\n",
       "    .dataframe tbody tr th:only-of-type {\n",
       "        vertical-align: middle;\n",
       "    }\n",
       "\n",
       "    .dataframe tbody tr th {\n",
       "        vertical-align: top;\n",
       "    }\n",
       "\n",
       "    .dataframe thead th {\n",
       "        text-align: right;\n",
       "    }\n",
       "</style>\n",
       "<table border=\"1\" class=\"dataframe\">\n",
       "  <thead>\n",
       "    <tr style=\"text-align: right;\">\n",
       "      <th></th>\n",
       "      <th>actor</th>\n",
       "      <th>rank</th>\n",
       "      <th>total_votes</th>\n",
       "      <th>normalized_votes</th>\n",
       "      <th>primaryName</th>\n",
       "    </tr>\n",
       "  </thead>\n",
       "  <tbody>\n",
       "    <tr>\n",
       "      <th>0</th>\n",
       "      <td>nm0000093</td>\n",
       "      <td>1.0</td>\n",
       "      <td>16486392</td>\n",
       "      <td>0.163386</td>\n",
       "      <td>Brad Pitt</td>\n",
       "    </tr>\n",
       "    <tr>\n",
       "      <th>1</th>\n",
       "      <td>nm0000138</td>\n",
       "      <td>2.0</td>\n",
       "      <td>15165809</td>\n",
       "      <td>0.150298</td>\n",
       "      <td>Leonardo DiCaprio</td>\n",
       "    </tr>\n",
       "    <tr>\n",
       "      <th>2</th>\n",
       "      <td>nm0000158</td>\n",
       "      <td>3.0</td>\n",
       "      <td>15163169</td>\n",
       "      <td>0.150272</td>\n",
       "      <td>Tom Hanks</td>\n",
       "    </tr>\n",
       "    <tr>\n",
       "      <th>3</th>\n",
       "      <td>nm0000134</td>\n",
       "      <td>4.0</td>\n",
       "      <td>14179951</td>\n",
       "      <td>0.140528</td>\n",
       "      <td>Robert De Niro</td>\n",
       "    </tr>\n",
       "    <tr>\n",
       "      <th>4</th>\n",
       "      <td>nm0000168</td>\n",
       "      <td>5.0</td>\n",
       "      <td>12947706</td>\n",
       "      <td>0.128316</td>\n",
       "      <td>Samuel L. Jackson</td>\n",
       "    </tr>\n",
       "    <tr>\n",
       "      <th>5</th>\n",
       "      <td>nm0000288</td>\n",
       "      <td>6.0</td>\n",
       "      <td>12767307</td>\n",
       "      <td>0.126528</td>\n",
       "      <td>Christian Bale</td>\n",
       "    </tr>\n",
       "    <tr>\n",
       "      <th>6</th>\n",
       "      <td>nm0000375</td>\n",
       "      <td>7.0</td>\n",
       "      <td>12361664</td>\n",
       "      <td>0.122508</td>\n",
       "      <td>Robert Downey Jr.</td>\n",
       "    </tr>\n",
       "    <tr>\n",
       "      <th>7</th>\n",
       "      <td>nm0000246</td>\n",
       "      <td>8.0</td>\n",
       "      <td>12158498</td>\n",
       "      <td>0.120495</td>\n",
       "      <td>Bruce Willis</td>\n",
       "    </tr>\n",
       "    <tr>\n",
       "      <th>8</th>\n",
       "      <td>nm0000354</td>\n",
       "      <td>9.0</td>\n",
       "      <td>11593490</td>\n",
       "      <td>0.114895</td>\n",
       "      <td>Matt Damon</td>\n",
       "    </tr>\n",
       "    <tr>\n",
       "      <th>9</th>\n",
       "      <td>nm0000151</td>\n",
       "      <td>10.0</td>\n",
       "      <td>11344567</td>\n",
       "      <td>0.112429</td>\n",
       "      <td>Morgan Freeman</td>\n",
       "    </tr>\n",
       "    <tr>\n",
       "      <th>10</th>\n",
       "      <td>nm0000136</td>\n",
       "      <td>11.0</td>\n",
       "      <td>11199336</td>\n",
       "      <td>0.110989</td>\n",
       "      <td>Johnny Depp</td>\n",
       "    </tr>\n",
       "    <tr>\n",
       "      <th>11</th>\n",
       "      <td>nm0005212</td>\n",
       "      <td>12.0</td>\n",
       "      <td>10252641</td>\n",
       "      <td>0.101607</td>\n",
       "      <td>Ian McKellen</td>\n",
       "    </tr>\n",
       "    <tr>\n",
       "      <th>12</th>\n",
       "      <td>nm0000129</td>\n",
       "      <td>13.0</td>\n",
       "      <td>10247707</td>\n",
       "      <td>0.101558</td>\n",
       "      <td>Tom Cruise</td>\n",
       "    </tr>\n",
       "    <tr>\n",
       "      <th>13</th>\n",
       "      <td>nm0000148</td>\n",
       "      <td>14.0</td>\n",
       "      <td>10220586</td>\n",
       "      <td>0.101289</td>\n",
       "      <td>Harrison Ford</td>\n",
       "    </tr>\n",
       "    <tr>\n",
       "      <th>14</th>\n",
       "      <td>nm0262635</td>\n",
       "      <td>15.0</td>\n",
       "      <td>9759931</td>\n",
       "      <td>0.096724</td>\n",
       "      <td>Chris Evans</td>\n",
       "    </tr>\n",
       "    <tr>\n",
       "      <th>15</th>\n",
       "      <td>nm0424060</td>\n",
       "      <td>16.0</td>\n",
       "      <td>9373100</td>\n",
       "      <td>0.092891</td>\n",
       "      <td>Scarlett Johansson</td>\n",
       "    </tr>\n",
       "    <tr>\n",
       "      <th>16</th>\n",
       "      <td>nm0089217</td>\n",
       "      <td>17.0</td>\n",
       "      <td>9188444</td>\n",
       "      <td>0.091061</td>\n",
       "      <td>Orlando Bloom</td>\n",
       "    </tr>\n",
       "    <tr>\n",
       "      <th>17</th>\n",
       "      <td>nm0413168</td>\n",
       "      <td>18.0</td>\n",
       "      <td>9095620</td>\n",
       "      <td>0.090141</td>\n",
       "      <td>Hugh Jackman</td>\n",
       "    </tr>\n",
       "    <tr>\n",
       "      <th>18</th>\n",
       "      <td>nm0000553</td>\n",
       "      <td>19.0</td>\n",
       "      <td>9058524</td>\n",
       "      <td>0.089773</td>\n",
       "      <td>Liam Neeson</td>\n",
       "    </tr>\n",
       "    <tr>\n",
       "      <th>19</th>\n",
       "      <td>nm0749263</td>\n",
       "      <td>20.0</td>\n",
       "      <td>8718720</td>\n",
       "      <td>0.086405</td>\n",
       "      <td>Mark Ruffalo</td>\n",
       "    </tr>\n",
       "  </tbody>\n",
       "</table>\n",
       "</div>"
      ],
      "text/plain": [
       "        actor  rank  total_votes  normalized_votes         primaryName\n",
       "0   nm0000093   1.0     16486392          0.163386           Brad Pitt\n",
       "1   nm0000138   2.0     15165809          0.150298   Leonardo DiCaprio\n",
       "2   nm0000158   3.0     15163169          0.150272           Tom Hanks\n",
       "3   nm0000134   4.0     14179951          0.140528      Robert De Niro\n",
       "4   nm0000168   5.0     12947706          0.128316   Samuel L. Jackson\n",
       "5   nm0000288   6.0     12767307          0.126528      Christian Bale\n",
       "6   nm0000375   7.0     12361664          0.122508   Robert Downey Jr.\n",
       "7   nm0000246   8.0     12158498          0.120495        Bruce Willis\n",
       "8   nm0000354   9.0     11593490          0.114895          Matt Damon\n",
       "9   nm0000151  10.0     11344567          0.112429      Morgan Freeman\n",
       "10  nm0000136  11.0     11199336          0.110989         Johnny Depp\n",
       "11  nm0005212  12.0     10252641          0.101607        Ian McKellen\n",
       "12  nm0000129  13.0     10247707          0.101558          Tom Cruise\n",
       "13  nm0000148  14.0     10220586          0.101289       Harrison Ford\n",
       "14  nm0262635  15.0      9759931          0.096724         Chris Evans\n",
       "15  nm0424060  16.0      9373100          0.092891  Scarlett Johansson\n",
       "16  nm0089217  17.0      9188444          0.091061       Orlando Bloom\n",
       "17  nm0413168  18.0      9095620          0.090141        Hugh Jackman\n",
       "18  nm0000553  19.0      9058524          0.089773         Liam Neeson\n",
       "19  nm0749263  20.0      8718720          0.086405        Mark Ruffalo"
      ]
     },
     "execution_count": 22,
     "metadata": {},
     "output_type": "execute_result"
    }
   ],
   "source": [
    "final_actor_rankings.head(20)"
   ]
  }
 ],
 "metadata": {
  "kernelspec": {
   "display_name": "Python 3.9.12 ('base')",
   "language": "python",
   "name": "python3"
  },
  "language_info": {
   "codemirror_mode": {
    "name": "ipython",
    "version": 3
   },
   "file_extension": ".py",
   "mimetype": "text/x-python",
   "name": "python",
   "nbconvert_exporter": "python",
   "pygments_lexer": "ipython3",
   "version": "3.9.12"
  },
  "orig_nbformat": 4,
  "vscode": {
   "interpreter": {
    "hash": "9065f229f78de392276990b09d69cf52daf9e7892e0a6186d0873b2049073fcb"
   }
  }
 },
 "nbformat": 4,
 "nbformat_minor": 2
}
