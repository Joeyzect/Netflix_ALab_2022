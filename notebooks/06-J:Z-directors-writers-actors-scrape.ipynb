{
 "cells": [
  {
   "cell_type": "code",
   "execution_count": 2,
   "metadata": {},
   "outputs": [],
   "source": [
    "import pandas as pd\n",
    "import numpy as np"
   ]
  },
  {
   "cell_type": "code",
   "execution_count": 40,
   "metadata": {},
   "outputs": [
    {
     "name": "stderr",
     "output_type": "stream",
     "text": [
      "/var/folders/b9/1w_dn_kj5zgffq25ztcmwj5m0000gn/T/ipykernel_7007/1931529237.py:4: DtypeWarning: Columns (4) have mixed types. Specify dtype option on import or set low_memory=False.\n",
      "  titles = pd.read_csv('/Users/zachwayne/Dropbox (MIT)/Netflix - Seize the Data/title.basics.tsv', sep='\\t')\n"
     ]
    }
   ],
   "source": [
    "# Read in data from crew csv\n",
    "crew = pd.read_csv('/Users/zachwayne/Dropbox (MIT)/Netflix - Seize the Data/title.crew.tsv', sep='\\t')\n",
    "ratings = pd.read_csv('/Users/zachwayne/Dropbox (MIT)/Netflix - Seize the Data/title.ratings.tsv', sep='\\t')\n",
    "titles = pd.read_csv('/Users/zachwayne/Dropbox (MIT)/Netflix - Seize the Data/title.basics.tsv', sep='\\t')\n"
   ]
  },
  {
   "cell_type": "code",
   "execution_count": 41,
   "metadata": {},
   "outputs": [],
   "source": [
    "titles.replace('\\\\N', np.nan, inplace=True)\n",
    "titles['startYear'] = titles['startYear'].astype(float)"
   ]
  },
  {
   "cell_type": "code",
   "execution_count": 6,
   "metadata": {},
   "outputs": [
    {
     "data": {
      "text/html": [
       "<div>\n",
       "<style scoped>\n",
       "    .dataframe tbody tr th:only-of-type {\n",
       "        vertical-align: middle;\n",
       "    }\n",
       "\n",
       "    .dataframe tbody tr th {\n",
       "        vertical-align: top;\n",
       "    }\n",
       "\n",
       "    .dataframe thead th {\n",
       "        text-align: right;\n",
       "    }\n",
       "</style>\n",
       "<table border=\"1\" class=\"dataframe\">\n",
       "  <thead>\n",
       "    <tr style=\"text-align: right;\">\n",
       "      <th></th>\n",
       "      <th>tconst</th>\n",
       "      <th>titleType</th>\n",
       "      <th>primaryTitle</th>\n",
       "      <th>originalTitle</th>\n",
       "      <th>isAdult</th>\n",
       "      <th>startYear</th>\n",
       "      <th>endYear</th>\n",
       "      <th>runtimeMinutes</th>\n",
       "      <th>genres</th>\n",
       "    </tr>\n",
       "  </thead>\n",
       "  <tbody>\n",
       "    <tr>\n",
       "      <th>9273127</th>\n",
       "      <td>tt9916848</td>\n",
       "      <td>tvEpisode</td>\n",
       "      <td>Episode #3.17</td>\n",
       "      <td>Episode #3.17</td>\n",
       "      <td>0</td>\n",
       "      <td>2010.0</td>\n",
       "      <td>NaN</td>\n",
       "      <td>NaN</td>\n",
       "      <td>Action,Drama,Family</td>\n",
       "    </tr>\n",
       "    <tr>\n",
       "      <th>9273128</th>\n",
       "      <td>tt9916850</td>\n",
       "      <td>tvEpisode</td>\n",
       "      <td>Episode #3.19</td>\n",
       "      <td>Episode #3.19</td>\n",
       "      <td>0</td>\n",
       "      <td>2010.0</td>\n",
       "      <td>NaN</td>\n",
       "      <td>NaN</td>\n",
       "      <td>Action,Drama,Family</td>\n",
       "    </tr>\n",
       "    <tr>\n",
       "      <th>9273129</th>\n",
       "      <td>tt9916852</td>\n",
       "      <td>tvEpisode</td>\n",
       "      <td>Episode #3.20</td>\n",
       "      <td>Episode #3.20</td>\n",
       "      <td>0</td>\n",
       "      <td>2010.0</td>\n",
       "      <td>NaN</td>\n",
       "      <td>NaN</td>\n",
       "      <td>Action,Drama,Family</td>\n",
       "    </tr>\n",
       "    <tr>\n",
       "      <th>9273130</th>\n",
       "      <td>tt9916856</td>\n",
       "      <td>short</td>\n",
       "      <td>The Wind</td>\n",
       "      <td>The Wind</td>\n",
       "      <td>0</td>\n",
       "      <td>2015.0</td>\n",
       "      <td>NaN</td>\n",
       "      <td>27</td>\n",
       "      <td>Short</td>\n",
       "    </tr>\n",
       "    <tr>\n",
       "      <th>9273131</th>\n",
       "      <td>tt9916880</td>\n",
       "      <td>tvEpisode</td>\n",
       "      <td>Horrid Henry Knows It All</td>\n",
       "      <td>Horrid Henry Knows It All</td>\n",
       "      <td>0</td>\n",
       "      <td>2014.0</td>\n",
       "      <td>NaN</td>\n",
       "      <td>10</td>\n",
       "      <td>Adventure,Animation,Comedy</td>\n",
       "    </tr>\n",
       "  </tbody>\n",
       "</table>\n",
       "</div>"
      ],
      "text/plain": [
       "            tconst  titleType               primaryTitle  \\\n",
       "9273127  tt9916848  tvEpisode              Episode #3.17   \n",
       "9273128  tt9916850  tvEpisode              Episode #3.19   \n",
       "9273129  tt9916852  tvEpisode              Episode #3.20   \n",
       "9273130  tt9916856      short                   The Wind   \n",
       "9273131  tt9916880  tvEpisode  Horrid Henry Knows It All   \n",
       "\n",
       "                     originalTitle isAdult  startYear endYear runtimeMinutes  \\\n",
       "9273127              Episode #3.17       0     2010.0     NaN            NaN   \n",
       "9273128              Episode #3.19       0     2010.0     NaN            NaN   \n",
       "9273129              Episode #3.20       0     2010.0     NaN            NaN   \n",
       "9273130                   The Wind       0     2015.0     NaN             27   \n",
       "9273131  Horrid Henry Knows It All       0     2014.0     NaN             10   \n",
       "\n",
       "                             genres  \n",
       "9273127         Action,Drama,Family  \n",
       "9273128         Action,Drama,Family  \n",
       "9273129         Action,Drama,Family  \n",
       "9273130                       Short  \n",
       "9273131  Adventure,Animation,Comedy  "
      ]
     },
     "execution_count": 6,
     "metadata": {},
     "output_type": "execute_result"
    }
   ],
   "source": [
    "titles.tail()"
   ]
  },
  {
   "cell_type": "code",
   "execution_count": 42,
   "metadata": {},
   "outputs": [],
   "source": [
    "# so we don't predict on the popularity of titles using the titles popularity\n",
    "between_1950_2020_titles = titles[(titles['startYear']>=1950) & (titles['startYear']<=2020) & (titles['titleType'] != 'tvEpisode')]['tconst']"
   ]
  },
  {
   "cell_type": "code",
   "execution_count": 43,
   "metadata": {},
   "outputs": [],
   "source": [
    "votes_and_titles = pd.merge(between_1950_2020_titles, ratings, on='tconst')\n"
   ]
  },
  {
   "cell_type": "code",
   "execution_count": 9,
   "metadata": {},
   "outputs": [],
   "source": [
    "#Turn the directors column into a list\n",
    "crew['directors'] = crew['directors'].str.split(',')"
   ]
  },
  {
   "cell_type": "code",
   "execution_count": 10,
   "metadata": {},
   "outputs": [],
   "source": [
    "# explode directors column\n",
    "directors = crew[['tconst', 'directors']].explode('directors')\n"
   ]
  },
  {
   "cell_type": "code",
   "execution_count": 44,
   "metadata": {},
   "outputs": [],
   "source": [
    "# Merge the directors with the titles\n",
    "directors_and_titles = pd.merge(directors, votes_and_titles, on='tconst')"
   ]
  },
  {
   "cell_type": "code",
   "execution_count": 45,
   "metadata": {},
   "outputs": [],
   "source": [
    "directors_and_titles.replace('\\\\N', np.nan, inplace=True)"
   ]
  },
  {
   "cell_type": "code",
   "execution_count": 12,
   "metadata": {},
   "outputs": [],
   "source": [
    "from sklearn.preprocessing import normalize"
   ]
  },
  {
   "cell_type": "code",
   "execution_count": 46,
   "metadata": {},
   "outputs": [],
   "source": [
    "#Create 3 columns with votes, normalized votes, and rankings\n",
    "director_votes = directors_and_titles.groupby('directors')['numVotes'].sum()\n",
    "normalized_director_votes = normalize(director_votes.values.reshape(1, -1))\n",
    "ranked_director_votes = director_votes.rank(ascending=False)\n",
    "final_director_rankings = pd.DataFrame({'director':director_votes.index, 'rank':ranked_director_votes.values, 'total_votes':director_votes.values, 'normalized_votes': normalized_director_votes[0]})\n",
    "final_director_rankings.sort_values('rank', inplace=True)\n",
    "#final_director_rankings.to_csv('../data/interim/director_rankings.csv', index=False)"
   ]
  },
  {
   "cell_type": "code",
   "execution_count": 14,
   "metadata": {},
   "outputs": [],
   "source": [
    "names = pd.read_csv('/Users/zachwayne/Dropbox (MIT)/Netflix - Seize the Data/name.basics.tsv', sep='\\t')"
   ]
  },
  {
   "cell_type": "code",
   "execution_count": 47,
   "metadata": {},
   "outputs": [],
   "source": [
    "# merge names with director rankings\n",
    "final_director_rankings = pd.merge(final_director_rankings, names, left_on='director', right_on='nconst', how='left')\n",
    "final_director_rankings.drop(columns=['nconst', 'birthYear', 'deathYear', 'primaryProfession', 'knownForTitles'], inplace=True)"
   ]
  },
  {
   "cell_type": "code",
   "execution_count": 16,
   "metadata": {},
   "outputs": [
    {
     "data": {
      "text/html": [
       "<div>\n",
       "<style scoped>\n",
       "    .dataframe tbody tr th:only-of-type {\n",
       "        vertical-align: middle;\n",
       "    }\n",
       "\n",
       "    .dataframe tbody tr th {\n",
       "        vertical-align: top;\n",
       "    }\n",
       "\n",
       "    .dataframe thead th {\n",
       "        text-align: right;\n",
       "    }\n",
       "</style>\n",
       "<table border=\"1\" class=\"dataframe\">\n",
       "  <thead>\n",
       "    <tr style=\"text-align: right;\">\n",
       "      <th></th>\n",
       "      <th>director</th>\n",
       "      <th>rank</th>\n",
       "      <th>total_votes</th>\n",
       "      <th>normalized_votes</th>\n",
       "      <th>primaryName</th>\n",
       "    </tr>\n",
       "  </thead>\n",
       "  <tbody>\n",
       "    <tr>\n",
       "      <th>0</th>\n",
       "      <td>nm0634240</td>\n",
       "      <td>1.0</td>\n",
       "      <td>13968320</td>\n",
       "      <td>0.188562</td>\n",
       "      <td>Christopher Nolan</td>\n",
       "    </tr>\n",
       "    <tr>\n",
       "      <th>1</th>\n",
       "      <td>nm0000229</td>\n",
       "      <td>2.0</td>\n",
       "      <td>13347289</td>\n",
       "      <td>0.180179</td>\n",
       "      <td>Steven Spielberg</td>\n",
       "    </tr>\n",
       "    <tr>\n",
       "      <th>2</th>\n",
       "      <td>nm0000233</td>\n",
       "      <td>3.0</td>\n",
       "      <td>11039425</td>\n",
       "      <td>0.149024</td>\n",
       "      <td>Quentin Tarantino</td>\n",
       "    </tr>\n",
       "    <tr>\n",
       "      <th>3</th>\n",
       "      <td>nm0000217</td>\n",
       "      <td>4.0</td>\n",
       "      <td>9615982</td>\n",
       "      <td>0.129809</td>\n",
       "      <td>Martin Scorsese</td>\n",
       "    </tr>\n",
       "    <tr>\n",
       "      <th>4</th>\n",
       "      <td>nm0000399</td>\n",
       "      <td>5.0</td>\n",
       "      <td>9040967</td>\n",
       "      <td>0.122047</td>\n",
       "      <td>David Fincher</td>\n",
       "    </tr>\n",
       "  </tbody>\n",
       "</table>\n",
       "</div>"
      ],
      "text/plain": [
       "    director  rank  total_votes  normalized_votes        primaryName\n",
       "0  nm0634240   1.0     13968320          0.188562  Christopher Nolan\n",
       "1  nm0000229   2.0     13347289          0.180179   Steven Spielberg\n",
       "2  nm0000233   3.0     11039425          0.149024  Quentin Tarantino\n",
       "3  nm0000217   4.0      9615982          0.129809    Martin Scorsese\n",
       "4  nm0000399   5.0      9040967          0.122047      David Fincher"
      ]
     },
     "execution_count": 16,
     "metadata": {},
     "output_type": "execute_result"
    }
   ],
   "source": [
    "final_director_rankings.head()"
   ]
  },
  {
   "cell_type": "markdown",
   "metadata": {},
   "source": [
    "Now Repeat with the Writers"
   ]
  },
  {
   "cell_type": "code",
   "execution_count": 17,
   "metadata": {},
   "outputs": [],
   "source": [
    "crew['writers'] = crew['writers'].str.split(',')\n",
    "writers = crew[['tconst', 'writers']].explode('writers')"
   ]
  },
  {
   "cell_type": "code",
   "execution_count": 48,
   "metadata": {},
   "outputs": [],
   "source": [
    "writers_and_titles = pd.merge(writers, votes_and_titles, on='tconst')\n",
    "writers_and_titles.replace('\\\\N', np.nan, inplace=True)"
   ]
  },
  {
   "cell_type": "code",
   "execution_count": 49,
   "metadata": {},
   "outputs": [],
   "source": [
    "writer_votes = writers_and_titles.groupby('writers')['numVotes'].sum()\n",
    "normalized_writer_votes = normalize(writer_votes.values.reshape(1, -1))\n",
    "ranked_writer_votes = writer_votes.rank(ascending=False)\n",
    "final_writer_rankings = pd.DataFrame({'writer':writer_votes.index, 'rank':ranked_writer_votes.values, 'total_votes':writer_votes.values, 'normalized_votes': normalized_writer_votes[0]})\n",
    "#final_writer_rankings.to_csv('../data/interim/writer_rankings.csv', index=False)\n",
    "final_writer_rankings.sort_values('rank', inplace=True)\n"
   ]
  },
  {
   "cell_type": "code",
   "execution_count": 50,
   "metadata": {},
   "outputs": [],
   "source": [
    "# merge names with director rankings\n",
    "final_writer_rankings = pd.merge(final_writer_rankings, names, left_on='writer', right_on='nconst', how='left')\n",
    "final_writer_rankings.drop(columns=['nconst', 'birthYear', 'deathYear', 'primaryProfession', 'knownForTitles'], inplace=True)"
   ]
  },
  {
   "cell_type": "code",
   "execution_count": 21,
   "metadata": {},
   "outputs": [
    {
     "data": {
      "text/html": [
       "<div>\n",
       "<style scoped>\n",
       "    .dataframe tbody tr th:only-of-type {\n",
       "        vertical-align: middle;\n",
       "    }\n",
       "\n",
       "    .dataframe tbody tr th {\n",
       "        vertical-align: top;\n",
       "    }\n",
       "\n",
       "    .dataframe thead th {\n",
       "        text-align: right;\n",
       "    }\n",
       "</style>\n",
       "<table border=\"1\" class=\"dataframe\">\n",
       "  <thead>\n",
       "    <tr style=\"text-align: right;\">\n",
       "      <th></th>\n",
       "      <th>writer</th>\n",
       "      <th>rank</th>\n",
       "      <th>total_votes</th>\n",
       "      <th>normalized_votes</th>\n",
       "      <th>primaryName</th>\n",
       "    </tr>\n",
       "  </thead>\n",
       "  <tbody>\n",
       "    <tr>\n",
       "      <th>0</th>\n",
       "      <td>nm0498278</td>\n",
       "      <td>1.0</td>\n",
       "      <td>20091111</td>\n",
       "      <td>0.245264</td>\n",
       "      <td>Stan Lee</td>\n",
       "    </tr>\n",
       "    <tr>\n",
       "      <th>1</th>\n",
       "      <td>nm0456158</td>\n",
       "      <td>2.0</td>\n",
       "      <td>18559908</td>\n",
       "      <td>0.226572</td>\n",
       "      <td>Jack Kirby</td>\n",
       "    </tr>\n",
       "    <tr>\n",
       "      <th>2</th>\n",
       "      <td>nm0634240</td>\n",
       "      <td>3.0</td>\n",
       "      <td>14453251</td>\n",
       "      <td>0.176440</td>\n",
       "      <td>Christopher Nolan</td>\n",
       "    </tr>\n",
       "    <tr>\n",
       "      <th>3</th>\n",
       "      <td>\\N</td>\n",
       "      <td>4.0</td>\n",
       "      <td>12945663</td>\n",
       "      <td>0.158036</td>\n",
       "      <td>NaN</td>\n",
       "    </tr>\n",
       "    <tr>\n",
       "      <th>4</th>\n",
       "      <td>nm0000184</td>\n",
       "      <td>5.0</td>\n",
       "      <td>12760963</td>\n",
       "      <td>0.155781</td>\n",
       "      <td>George Lucas</td>\n",
       "    </tr>\n",
       "  </tbody>\n",
       "</table>\n",
       "</div>"
      ],
      "text/plain": [
       "      writer  rank  total_votes  normalized_votes        primaryName\n",
       "0  nm0498278   1.0     20091111          0.245264           Stan Lee\n",
       "1  nm0456158   2.0     18559908          0.226572         Jack Kirby\n",
       "2  nm0634240   3.0     14453251          0.176440  Christopher Nolan\n",
       "3         \\N   4.0     12945663          0.158036                NaN\n",
       "4  nm0000184   5.0     12760963          0.155781       George Lucas"
      ]
     },
     "execution_count": 21,
     "metadata": {},
     "output_type": "execute_result"
    }
   ],
   "source": [
    "final_writer_rankings.head()"
   ]
  },
  {
   "cell_type": "markdown",
   "metadata": {},
   "source": [
    "Now for actors"
   ]
  },
  {
   "cell_type": "code",
   "execution_count": 22,
   "metadata": {},
   "outputs": [],
   "source": [
    "principals = pd.read_csv('/Users/zachwayne/Dropbox (MIT)/Netflix - Seize the Data/title.principals.tsv', sep='\\t')"
   ]
  },
  {
   "cell_type": "code",
   "execution_count": 23,
   "metadata": {},
   "outputs": [],
   "source": [
    "# only keep actor categories\n",
    "principals = principals[principals['category'].isin(['actor', 'actress', 'self'])]"
   ]
  },
  {
   "cell_type": "code",
   "execution_count": 51,
   "metadata": {},
   "outputs": [],
   "source": [
    "actors_and_titles = pd.merge(principals, votes_and_titles, on='tconst')\n",
    "actors_and_titles.replace('\\\\N', np.nan, inplace=True)"
   ]
  },
  {
   "cell_type": "code",
   "execution_count": 52,
   "metadata": {},
   "outputs": [],
   "source": [
    "actors_votes = actors_and_titles.groupby('nconst')['numVotes'].sum()\n",
    "normalized_actor_votes = normalize(actors_votes.values.reshape(1, -1))\n",
    "ranked_actor_votes = actors_votes.rank(ascending=False)\n",
    "final_actor_rankings = pd.DataFrame({'actor':actors_votes.index, 'rank':ranked_actor_votes.values, 'total_votes':actors_votes.values, 'normalized_votes': normalized_actor_votes[0]})\n",
    "#final_writer_rankings.to_csv('../data/interim/writer_rankings.csv', index=False)\n",
    "final_actor_rankings.sort_values('rank', inplace=True)\n"
   ]
  },
  {
   "cell_type": "code",
   "execution_count": 53,
   "metadata": {},
   "outputs": [],
   "source": [
    "# merge names with director rankings\n",
    "final_actor_rankings = pd.merge(final_actor_rankings, names, left_on='actor', right_on='nconst', how='left')\n",
    "final_actor_rankings.drop(columns=['nconst', 'birthYear', 'deathYear', 'primaryProfession', 'knownForTitles'], inplace=True)"
   ]
  },
  {
   "cell_type": "code",
   "execution_count": 27,
   "metadata": {},
   "outputs": [
    {
     "data": {
      "text/html": [
       "<div>\n",
       "<style scoped>\n",
       "    .dataframe tbody tr th:only-of-type {\n",
       "        vertical-align: middle;\n",
       "    }\n",
       "\n",
       "    .dataframe tbody tr th {\n",
       "        vertical-align: top;\n",
       "    }\n",
       "\n",
       "    .dataframe thead th {\n",
       "        text-align: right;\n",
       "    }\n",
       "</style>\n",
       "<table border=\"1\" class=\"dataframe\">\n",
       "  <thead>\n",
       "    <tr style=\"text-align: right;\">\n",
       "      <th></th>\n",
       "      <th>actor</th>\n",
       "      <th>rank</th>\n",
       "      <th>total_votes</th>\n",
       "      <th>normalized_votes</th>\n",
       "      <th>primaryName</th>\n",
       "    </tr>\n",
       "  </thead>\n",
       "  <tbody>\n",
       "    <tr>\n",
       "      <th>0</th>\n",
       "      <td>nm0000093</td>\n",
       "      <td>1.0</td>\n",
       "      <td>16530792</td>\n",
       "      <td>0.160947</td>\n",
       "      <td>Brad Pitt</td>\n",
       "    </tr>\n",
       "    <tr>\n",
       "      <th>1</th>\n",
       "      <td>nm0000158</td>\n",
       "      <td>2.0</td>\n",
       "      <td>15423302</td>\n",
       "      <td>0.150164</td>\n",
       "      <td>Tom Hanks</td>\n",
       "    </tr>\n",
       "    <tr>\n",
       "      <th>2</th>\n",
       "      <td>nm0000138</td>\n",
       "      <td>3.0</td>\n",
       "      <td>15226225</td>\n",
       "      <td>0.148245</td>\n",
       "      <td>Leonardo DiCaprio</td>\n",
       "    </tr>\n",
       "    <tr>\n",
       "      <th>3</th>\n",
       "      <td>nm0000134</td>\n",
       "      <td>4.0</td>\n",
       "      <td>14291725</td>\n",
       "      <td>0.139147</td>\n",
       "      <td>Robert De Niro</td>\n",
       "    </tr>\n",
       "    <tr>\n",
       "      <th>4</th>\n",
       "      <td>nm0000168</td>\n",
       "      <td>5.0</td>\n",
       "      <td>13073220</td>\n",
       "      <td>0.127283</td>\n",
       "      <td>Samuel L. Jackson</td>\n",
       "    </tr>\n",
       "    <tr>\n",
       "      <th>5</th>\n",
       "      <td>nm0000288</td>\n",
       "      <td>6.0</td>\n",
       "      <td>12795612</td>\n",
       "      <td>0.124581</td>\n",
       "      <td>Christian Bale</td>\n",
       "    </tr>\n",
       "    <tr>\n",
       "      <th>6</th>\n",
       "      <td>nm0000375</td>\n",
       "      <td>7.0</td>\n",
       "      <td>12435752</td>\n",
       "      <td>0.121077</td>\n",
       "      <td>Robert Downey Jr.</td>\n",
       "    </tr>\n",
       "    <tr>\n",
       "      <th>7</th>\n",
       "      <td>nm0000246</td>\n",
       "      <td>8.0</td>\n",
       "      <td>12215948</td>\n",
       "      <td>0.118937</td>\n",
       "      <td>Bruce Willis</td>\n",
       "    </tr>\n",
       "    <tr>\n",
       "      <th>8</th>\n",
       "      <td>nm0000354</td>\n",
       "      <td>9.0</td>\n",
       "      <td>11687925</td>\n",
       "      <td>0.113796</td>\n",
       "      <td>Matt Damon</td>\n",
       "    </tr>\n",
       "    <tr>\n",
       "      <th>9</th>\n",
       "      <td>nm0000151</td>\n",
       "      <td>10.0</td>\n",
       "      <td>11444477</td>\n",
       "      <td>0.111426</td>\n",
       "      <td>Morgan Freeman</td>\n",
       "    </tr>\n",
       "    <tr>\n",
       "      <th>10</th>\n",
       "      <td>nm0000136</td>\n",
       "      <td>11.0</td>\n",
       "      <td>11265917</td>\n",
       "      <td>0.109687</td>\n",
       "      <td>Johnny Depp</td>\n",
       "    </tr>\n",
       "    <tr>\n",
       "      <th>11</th>\n",
       "      <td>nm0005212</td>\n",
       "      <td>12.0</td>\n",
       "      <td>10340466</td>\n",
       "      <td>0.100677</td>\n",
       "      <td>Ian McKellen</td>\n",
       "    </tr>\n",
       "    <tr>\n",
       "      <th>12</th>\n",
       "      <td>nm0000129</td>\n",
       "      <td>13.0</td>\n",
       "      <td>10265042</td>\n",
       "      <td>0.099942</td>\n",
       "      <td>Tom Cruise</td>\n",
       "    </tr>\n",
       "    <tr>\n",
       "      <th>13</th>\n",
       "      <td>nm0000148</td>\n",
       "      <td>14.0</td>\n",
       "      <td>10246508</td>\n",
       "      <td>0.099762</td>\n",
       "      <td>Harrison Ford</td>\n",
       "    </tr>\n",
       "    <tr>\n",
       "      <th>14</th>\n",
       "      <td>nm0262635</td>\n",
       "      <td>15.0</td>\n",
       "      <td>9774509</td>\n",
       "      <td>0.095167</td>\n",
       "      <td>Chris Evans</td>\n",
       "    </tr>\n",
       "    <tr>\n",
       "      <th>15</th>\n",
       "      <td>nm0424060</td>\n",
       "      <td>16.0</td>\n",
       "      <td>9385215</td>\n",
       "      <td>0.091376</td>\n",
       "      <td>Scarlett Johansson</td>\n",
       "    </tr>\n",
       "    <tr>\n",
       "      <th>16</th>\n",
       "      <td>nm0089217</td>\n",
       "      <td>17.0</td>\n",
       "      <td>9248639</td>\n",
       "      <td>0.090047</td>\n",
       "      <td>Orlando Bloom</td>\n",
       "    </tr>\n",
       "    <tr>\n",
       "      <th>17</th>\n",
       "      <td>nm0000553</td>\n",
       "      <td>18.0</td>\n",
       "      <td>9132908</td>\n",
       "      <td>0.088920</td>\n",
       "      <td>Liam Neeson</td>\n",
       "    </tr>\n",
       "    <tr>\n",
       "      <th>18</th>\n",
       "      <td>nm0413168</td>\n",
       "      <td>19.0</td>\n",
       "      <td>9128374</td>\n",
       "      <td>0.088876</td>\n",
       "      <td>Hugh Jackman</td>\n",
       "    </tr>\n",
       "    <tr>\n",
       "      <th>19</th>\n",
       "      <td>nm0749263</td>\n",
       "      <td>20.0</td>\n",
       "      <td>8754684</td>\n",
       "      <td>0.085237</td>\n",
       "      <td>Mark Ruffalo</td>\n",
       "    </tr>\n",
       "  </tbody>\n",
       "</table>\n",
       "</div>"
      ],
      "text/plain": [
       "        actor  rank  total_votes  normalized_votes         primaryName\n",
       "0   nm0000093   1.0     16530792          0.160947           Brad Pitt\n",
       "1   nm0000158   2.0     15423302          0.150164           Tom Hanks\n",
       "2   nm0000138   3.0     15226225          0.148245   Leonardo DiCaprio\n",
       "3   nm0000134   4.0     14291725          0.139147      Robert De Niro\n",
       "4   nm0000168   5.0     13073220          0.127283   Samuel L. Jackson\n",
       "5   nm0000288   6.0     12795612          0.124581      Christian Bale\n",
       "6   nm0000375   7.0     12435752          0.121077   Robert Downey Jr.\n",
       "7   nm0000246   8.0     12215948          0.118937        Bruce Willis\n",
       "8   nm0000354   9.0     11687925          0.113796          Matt Damon\n",
       "9   nm0000151  10.0     11444477          0.111426      Morgan Freeman\n",
       "10  nm0000136  11.0     11265917          0.109687         Johnny Depp\n",
       "11  nm0005212  12.0     10340466          0.100677        Ian McKellen\n",
       "12  nm0000129  13.0     10265042          0.099942          Tom Cruise\n",
       "13  nm0000148  14.0     10246508          0.099762       Harrison Ford\n",
       "14  nm0262635  15.0      9774509          0.095167         Chris Evans\n",
       "15  nm0424060  16.0      9385215          0.091376  Scarlett Johansson\n",
       "16  nm0089217  17.0      9248639          0.090047       Orlando Bloom\n",
       "17  nm0000553  18.0      9132908          0.088920         Liam Neeson\n",
       "18  nm0413168  19.0      9128374          0.088876        Hugh Jackman\n",
       "19  nm0749263  20.0      8754684          0.085237        Mark Ruffalo"
      ]
     },
     "execution_count": 27,
     "metadata": {},
     "output_type": "execute_result"
    }
   ],
   "source": [
    "final_actor_rankings.head(20)"
   ]
  },
  {
   "cell_type": "code",
   "execution_count": 54,
   "metadata": {},
   "outputs": [],
   "source": [
    "# write all rankings to csv\n",
    "final_director_rankings.to_csv('/Users/zachwayne/Dropbox (MIT)/Netflix - Seize the Data/director_rankings.csv', index=False)\n",
    "final_writer_rankings.to_csv('/Users/zachwayne/Dropbox (MIT)/Netflix - Seize the Data/writer_rankings.csv', index=False)\n",
    "final_actor_rankings.to_csv('/Users/zachwayne/Dropbox (MIT)/Netflix - Seize the Data/actor_rankings.csv', index=False)"
   ]
  }
 ],
 "metadata": {
  "kernelspec": {
   "display_name": "Python 3.9.12 ('base')",
   "language": "python",
   "name": "python3"
  },
  "language_info": {
   "codemirror_mode": {
    "name": "ipython",
    "version": 3
   },
   "file_extension": ".py",
   "mimetype": "text/x-python",
   "name": "python",
   "nbconvert_exporter": "python",
   "pygments_lexer": "ipython3",
   "version": "3.9.12"
  },
  "orig_nbformat": 4,
  "vscode": {
   "interpreter": {
    "hash": "9065f229f78de392276990b09d69cf52daf9e7892e0a6186d0873b2049073fcb"
   }
  }
 },
 "nbformat": 4,
 "nbformat_minor": 2
}
