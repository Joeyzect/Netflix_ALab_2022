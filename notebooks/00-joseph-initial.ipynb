{
 "cells": [
  {
   "cell_type": "code",
   "execution_count": 1,
   "metadata": {},
   "outputs": [],
   "source": [
    "import pandas as pd\n",
    "import re"
   ]
  },
  {
   "cell_type": "code",
   "execution_count": 2,
   "metadata": {},
   "outputs": [],
   "source": [
    "netflix_data = pd.read_csv('../data/raw/netflix_branded_titles_with_release_year.csv')"
   ]
  },
  {
   "cell_type": "code",
   "execution_count": 3,
   "metadata": {},
   "outputs": [],
   "source": [
    "#split combined_title into title and season\n",
    "netflix_data.rename(columns={'title_desc':'combined_title'}, inplace=True)\n",
    "netflix_data[['title', 'season']] = netflix_data['combined_title'].str.split(': Season ', expand=True)\n",
    "netflix_data['title'] = netflix_data['title'].str.lower()\n",
    "netflix_data['is_tv_show'] = netflix_data['season'].notnull()\n",
    "netflix_data['release_year'] = netflix_data['release_year'].astype('int')"
   ]
  },
  {
   "cell_type": "code",
   "execution_count": 4,
   "metadata": {},
   "outputs": [],
   "source": [
    "#read imdb movie data\n",
    "imdb_movie_data = pd.read_csv('../data/processed/imdb_movies.csv')"
   ]
  },
  {
   "cell_type": "code",
   "execution_count": 5,
   "metadata": {},
   "outputs": [],
   "source": [
    "#read matched data\n",
    "matched_data = pd.read_csv('../data/raw/matched_wIMDB.tsv', sep='\\t')[['tconst', 'title', 'release_year', 'season']]"
   ]
  },
  {
   "cell_type": "code",
   "execution_count": 15,
   "metadata": {},
   "outputs": [],
   "source": [
    "imdb_clean_movie = imdb_movie_data[['tconst', 'title', 'startYear']].rename(columns={'startYear':'release_year'})"
   ]
  },
  {
   "cell_type": "code",
   "execution_count": 16,
   "metadata": {},
   "outputs": [],
   "source": [
    "imdb_clean2 = pd.concat([imdb_clean_movie, matched_data], axis=0)"
   ]
  },
  {
   "cell_type": "code",
   "execution_count": 45,
   "metadata": {},
   "outputs": [],
   "source": [
    "movie_merge = netflix_data[~netflix_data['is_tv_show']].merge(imdb_clean2, on=['title', 'release_year'], how='left', indicator=True)"
   ]
  },
  {
   "cell_type": "code",
   "execution_count": 65,
   "metadata": {},
   "outputs": [],
   "source": [
    "good_batch_1 = movie_merge[(movie_merge['_merge']=='both') & (movie_merge['tconst'].notnull())].groupby('title', as_index=False).filter(lambda x: len(x) == 1)[['tconst', 'title', 'release_year']]\n",
    "good_batch_1.to_csv('../data/processed/good_batch_1.csv', index=False)\n",
    "#824 unique matches on title alone\n",
    "#Drops to 818 if match on year"
   ]
  },
  {
   "cell_type": "code",
   "execution_count": 68,
   "metadata": {},
   "outputs": [],
   "source": [
    "manual_match_1 = good_batch_1.groupby('title', as_index=False).filter(lambda x: len(x) > 1)[['tconst', 'title', 'release_year']].drop_duplicates()\n",
    "manual_match_1.to_csv('../data/processed/manual_match_1.csv', index=False)"
   ]
  },
  {
   "cell_type": "code",
   "execution_count": 69,
   "metadata": {},
   "outputs": [],
   "source": [
    "fails = movie_merge[movie_merge['_merge']=='left_only']"
   ]
  },
  {
   "cell_type": "code",
   "execution_count": 6,
   "metadata": {},
   "outputs": [],
   "source": [
    "imdb_all = pd.read_csv('../data/processed/imdb_all.csv').rename(columns={'startYear':'release_year'})"
   ]
  },
  {
   "cell_type": "code",
   "execution_count": 74,
   "metadata": {},
   "outputs": [],
   "source": [
    "movie_merge2 = fails[['title', 'release_year']].merge(imdb_all, on=['title', 'release_year'], how='left', indicator=True)"
   ]
  },
  {
   "cell_type": "code",
   "execution_count": 78,
   "metadata": {},
   "outputs": [],
   "source": [
    "good_batch_2 = movie_merge2[(movie_merge2['_merge']=='both') & (movie_merge2['tconst'].notnull())].groupby('title', as_index=False).filter(lambda x: len(x) == 1)[['tconst', 'title', 'release_year']]\n",
    "good_batch_2.to_csv('../data/processed/good_batch_2.csv', index=False)"
   ]
  },
  {
   "cell_type": "code",
   "execution_count": 79,
   "metadata": {},
   "outputs": [],
   "source": [
    "manual_match_2 = movie_merge2[(movie_merge2['_merge']=='both') & (movie_merge2['tconst'].notnull())].groupby('title', as_index=False).filter(lambda x: len(x) > 1)[['tconst', 'title', 'release_year']].drop_duplicates()\n",
    "manual_match_2.to_csv('../data/processed/manual_match_2.csv', index=False)"
   ]
  },
  {
   "cell_type": "code",
   "execution_count": 96,
   "metadata": {},
   "outputs": [],
   "source": [
    "manual_match_3 = movie_merge2[movie_merge2['_merge']=='left_only'][['title', 'release_year']]\n",
    "manual_match_3.to_csv('../data/processed/manual_match_3.csv', index=False)"
   ]
  },
  {
   "cell_type": "code",
   "execution_count": 102,
   "metadata": {},
   "outputs": [
    {
     "name": "stdout",
     "output_type": "stream",
     "text": [
      "Correctly Matched: 119\n",
      "\n",
      "Incorrectly Matched Duplicates Movies: 23\n",
      "Incorrectly Matched Duplicate Non-movies: 6\n",
      "Incorrectly Matched No Match: 90\n"
     ]
    }
   ],
   "source": [
    "print(f\"Correctly Matched: {netflix_data[~netflix_data['is_tv_show']].shape[0] - good_batch_1.shape[0] - good_batch_2.shape[0]}\\n\")\n",
    "print(f\"Incorrectly Matched Duplicates Movies: {len(manual_match_1['title'].unique())}\")\n",
    "print(f\"Incorrectly Matched Duplicate Non-movies: {len(manual_match_2['title'].unique())}\")\n",
    "print(f\"Incorrectly Matched No Match: {len(manual_match_3['title'].unique())}\")\n",
    "\n",
    "#Remaining 119\n",
    "#23 in manual_match_1\n",
    "#6 in manual_match_2\n",
    "#90 in manual_match_3\n"
   ]
  },
  {
   "cell_type": "markdown",
   "metadata": {},
   "source": [
    "## Repeat for TV Shows"
   ]
  },
  {
   "cell_type": "code",
   "execution_count": 192,
   "metadata": {},
   "outputs": [],
   "source": [
    "#read imdb tv data\n",
    "imdb_tv_data = pd.read_csv('../data/processed/imdb_tv.csv')[['tconst', 'title', 'startYear']].rename(columns={'startYear':'release_year'})"
   ]
  },
  {
   "cell_type": "markdown",
   "metadata": {},
   "source": [
    "1021 Shows"
   ]
  },
  {
   "cell_type": "code",
   "execution_count": 210,
   "metadata": {},
   "outputs": [
    {
     "data": {
      "text/plain": [
       "(1121, 7)"
      ]
     },
     "execution_count": 210,
     "metadata": {},
     "output_type": "execute_result"
    }
   ],
   "source": [
    "#netflix_data[netflix_data['is_tv_show']].shape"
   ]
  },
  {
   "cell_type": "code",
   "execution_count": 234,
   "metadata": {},
   "outputs": [],
   "source": [
    "tv_merge1 = netflix_data[netflix_data['is_tv_show']].merge(imdb_tv_data, on=['title'], how='left', indicator=True)"
   ]
  },
  {
   "cell_type": "markdown",
   "metadata": {},
   "source": [
    "Somehow we already lost 4. I know 3 are because of duplicate title + season, but not sure where the last 1 went.\n",
    "\n",
    "Left with 1117"
   ]
  },
  {
   "cell_type": "code",
   "execution_count": 235,
   "metadata": {},
   "outputs": [],
   "source": [
    "#tv_merge1[['title', 'season']].drop_duplicates().shape"
   ]
  },
  {
   "cell_type": "code",
   "execution_count": 236,
   "metadata": {},
   "outputs": [],
   "source": [
    "good_batch_tv_1 = tv_merge1[(tv_merge1['_merge']=='both') & (tv_merge1['tconst'].notnull())].groupby(['title', 'season'], as_index=False).filter(lambda x: len(x) == 1)[['tconst', 'title', 'season', 'release_year_x']].rename(columns={'release_year_x':'release_year'})\n",
    "manual_match_tv_1 = tv_merge1[(tv_merge1['_merge']=='both') & (tv_merge1['tconst'].notnull())].groupby(['title', 'season'], as_index=False).filter(lambda x: len(x) > 1)[['tconst', 'title', 'season', 'release_year_x']].rename(columns={'release_year_x':'release_year'})"
   ]
  },
  {
   "cell_type": "code",
   "execution_count": 245,
   "metadata": {},
   "outputs": [
    {
     "name": "stdout",
     "output_type": "stream",
     "text": [
      "Matched 1:1: 878\n",
      "Matched 1:M: 154\n"
     ]
    }
   ],
   "source": [
    "print(f\"Matched 1:1: {good_batch_tv_1.shape[0]}\")\n",
    "print(f\"Matched 1:M: {manual_match_tv_1[['title', 'season']].drop_duplicates().shape[0]}\")"
   ]
  },
  {
   "cell_type": "markdown",
   "metadata": {},
   "source": [
    "Immediately 878 match 1:1, 154 match 1:M, 85 don't match. Everything OK up to here"
   ]
  },
  {
   "cell_type": "code",
   "execution_count": 247,
   "metadata": {},
   "outputs": [],
   "source": [
    "#chip away at some of the manual_tv_1 matches using zach match\n",
    "#already_matched_titles = manual_match_tv_1[manual_match_tv_1['title'].isin(matched_data['title'])]['title'].unique()\n",
    "#manual_match_tv_2 = manual_match_tv_1[~manual_match_tv_1['title'].isin(already_matched_titles)]\n",
    "#manual_match_tv_2.to_csv('../data/processed/manual_match_tv_1.csv', index=False)"
   ]
  },
  {
   "cell_type": "code",
   "execution_count": 218,
   "metadata": {},
   "outputs": [],
   "source": [
    "#add the already matched to the good batch\n",
    "#already_matched_df = matched_data[matched_data['title'].isin(already_matched_titles)][['tconst', 'title', 'season', 'release_year']]\n",
    "#good_batch_tv_1 = pd.concat([good_batch_tv_1, already_matched_df], axis=0)\n",
    "#good_batch_tv_1.to_csv('../data/processed/good_batch_tv_1.csv', index=False)"
   ]
  },
  {
   "cell_type": "markdown",
   "metadata": {},
   "source": [
    "Of the 154 1:M, 9 are already matched via Zach's list. 145 remain"
   ]
  },
  {
   "cell_type": "code",
   "execution_count": 253,
   "metadata": {},
   "outputs": [],
   "source": [
    "#9 matches\n",
    "good_batch_tv_2 = manual_match_tv_1[['title', 'season', 'release_year']].merge(matched_data, on=['title', 'season', 'release_year'], how='inner').drop_duplicates()\n",
    "good_batch_tv_2.to_csv('../data/processed/good_batch_tv_2.csv', index=False)"
   ]
  },
  {
   "cell_type": "markdown",
   "metadata": {},
   "source": [
    "Of the 145 remaining, 83 match on season 1 release year. 62 remaining"
   ]
  },
  {
   "cell_type": "code",
   "execution_count": 291,
   "metadata": {},
   "outputs": [
    {
     "name": "stdout",
     "output_type": "stream",
     "text": [
      "(83, 4)\n"
     ]
    }
   ],
   "source": [
    "#Clean more manual matches using release year with season 1\n",
    "good_batch_tv_3 = manual_match_tv_1[['title', 'season', 'release_year']].drop_duplicates().merge(imdb_tv_data, on=['title', 'release_year'], how='inner')\n",
    "good_batch_tv_3 = good_batch_tv_3.groupby(['title', 'season'], as_index=False).filter(lambda x: len(x) == 1)[['tconst', 'title', 'season', 'release_year']]\n",
    "good_batch_tv_3.to_csv('../data/processed/good_batch_tv_3.csv', index=False)\n",
    "print(good_batch_tv_3.shape)"
   ]
  },
  {
   "cell_type": "markdown",
   "metadata": {},
   "source": [
    "62 remaining manual matches with potential ttvalues"
   ]
  },
  {
   "cell_type": "code",
   "execution_count": 298,
   "metadata": {},
   "outputs": [],
   "source": [
    "checker = pd.concat([good_batch_tv_2, good_batch_tv_3], axis=0).merge(manual_match_tv_1, on=['title', 'season'], how='outer', indicator=True)\n",
    "remaining_manual_1 = checker[checker['_merge']=='right_only'][['title', 'season', 'release_year_y', 'tconst_y']].rename(columns={'release_year_y':'release_year', 'tconst_y':'tconst'})\n",
    "\n",
    "remaining_manual_1.to_csv('../data/processed/manual_match_tv_1_updated.csv', index=False)"
   ]
  },
  {
   "cell_type": "code",
   "execution_count": 221,
   "metadata": {},
   "outputs": [],
   "source": [
    "# 1121 tv shows\n",
    "# 887 matched \n",
    "# 145 multiple ttcodes\n"
   ]
  },
  {
   "cell_type": "markdown",
   "metadata": {},
   "source": [
    "Move on to the 85 non-matches"
   ]
  },
  {
   "cell_type": "code",
   "execution_count": 246,
   "metadata": {},
   "outputs": [
    {
     "name": "stdout",
     "output_type": "stream",
     "text": [
      "(85, 10)\n"
     ]
    }
   ],
   "source": [
    "fails_tv = tv_merge1[tv_merge1['_merge']=='left_only']\n",
    "print(fails_tv.shape)"
   ]
  },
  {
   "cell_type": "code",
   "execution_count": 300,
   "metadata": {},
   "outputs": [],
   "source": [
    "#Now try matching failed matches using zach's data\n",
    "tv_merge2 = fails_tv[['title', 'season', 'release_year_x']].merge(matched_data, on=['title', 'season'], how='left', indicator=True)\n",
    "good_batch_tv_4 = tv_merge2[(tv_merge2['_merge']=='both') & (tv_merge2['tconst'].notnull())].groupby(['title', 'season'], as_index=False).filter(lambda x: len(x) == 1)[['tconst', 'title', 'season', 'release_year']].rename(columns={'release_year_x':'release_year'})\n",
    "manual_match_tv_2 = tv_merge2[(tv_merge2['_merge']=='left_only')][['title', 'season', 'release_year_x']].rename(columns={'release_year_x':'release_year'})"
   ]
  },
  {
   "cell_type": "markdown",
   "metadata": {},
   "source": [
    "66 Match with Zach's list. 19 remaining"
   ]
  },
  {
   "cell_type": "code",
   "execution_count": 302,
   "metadata": {},
   "outputs": [],
   "source": [
    "good_batch_tv_4.to_csv('../data/processed/good_batch_tv_2.csv', index=False)\n",
    "#66 good matches"
   ]
  },
  {
   "cell_type": "markdown",
   "metadata": {},
   "source": [
    "19 Remaining need a manual match"
   ]
  },
  {
   "cell_type": "code",
   "execution_count": 304,
   "metadata": {},
   "outputs": [],
   "source": [
    "#manual_match_tv_2.shape\n",
    "manual_match_tv_2.to_csv('../data/processed/manual_match_tv_2.csv', index=False)"
   ]
  }
 ],
 "metadata": {
  "kernelspec": {
   "display_name": "Python 3.10.4 ('netflix_proj')",
   "language": "python",
   "name": "python3"
  },
  "language_info": {
   "codemirror_mode": {
    "name": "ipython",
    "version": 3
   },
   "file_extension": ".py",
   "mimetype": "text/x-python",
   "name": "python",
   "nbconvert_exporter": "python",
   "pygments_lexer": "ipython3",
   "version": "3.10.4"
  },
  "orig_nbformat": 4,
  "vscode": {
   "interpreter": {
    "hash": "a9958285388ffb0985a92a2fa62daaced4f70ddc8281d758effbeb55efac45cc"
   }
  }
 },
 "nbformat": 4,
 "nbformat_minor": 2
}
