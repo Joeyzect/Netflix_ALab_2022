{
 "cells": [
  {
   "cell_type": "code",
   "execution_count": 1,
   "metadata": {},
   "outputs": [],
   "source": [
    "from xgboost import XGBClassifier\n",
    "from xgboost import XGBRegressor\n",
    "import numpy as np\n",
    "from sklearn.model_selection import GridSearchCV\n",
    "from sklearn.preprocessing import OneHotEncoder\n",
    "from sklearn.compose import ColumnTransformer\n",
    "from sklearn.impute import SimpleImputer\n",
    "from sklearn.feature_extraction.text import CountVectorizer\n",
    "from sklearn.preprocessing import FunctionTransformer\n",
    "from sklearn.pipeline import Pipeline\n",
    "import pandas as pd\n"
   ]
  },
  {
   "cell_type": "code",
   "execution_count": 2,
   "metadata": {},
   "outputs": [],
   "source": [
    "df = pd.read_csv('/Users/zachwayne/Dropbox (MIT)/Netflix - Seize the Data/feed_into_pipeline_data_with_weeks.csv')\n",
    "summaries = pd.read_csv('/Users/zachwayne/Dropbox (MIT)/Netflix - Seize the Data/GlobalOriginalsWithSummary.csv')[['combined_title', 'summary']]\n",
    "people_rankings = pd.read_csv('/Users/zachwayne/Dropbox (MIT)/Netflix - Seize the Data/showsWithPrinicpalVotes.csv')[['combined_title', 'director_votes', 'writer_votes', 'actor_votes']]\n",
    "df = df.merge(summaries, on='combined_title')\n",
    "df = df.merge(people_rankings, on='combined_title')\n",
    "# delete is_top_ten\n",
    "del df['is_top10']\n",
    "# make all current_weeks >= 1 to 1\n",
    "df['cumulative_weeks_in_top_10'] = df['cumulative_weeks_in_top_10'].apply(lambda x: 1 if x >= 1 else 0)\n",
    "# if language is not english, make it Non-English\n",
    "df['language'] = df['language'].apply(lambda x: 'Non-English' if x != 'English' else x)\n",
    "movies, tv_shows = df[df['is_tv_show']==False], df[df['is_tv_show']==True]\n",
    "movies = movies.set_index('tconst')\n",
    "movies = movies.drop(['tconst', 'release_date', 'combined_title', 'lower_title', 'season', 'is_tv_show'], axis = 1, errors = 'ignore')"
   ]
  },
  {
   "cell_type": "code",
   "execution_count": 3,
   "metadata": {},
   "outputs": [],
   "source": [
    "# train test split with stratified sampling\n",
    "from sklearn.model_selection import train_test_split\n",
    "\n",
    "#movie_X_train, movie_X_test, movie_y_train, movie_y_test = train_test_split(movies.drop('is_top10', axis=1), movies['is_top10'], test_size=0.2, random_state=42, stratify=movies['is_top10'])\n",
    "movie_X_train, movie_X_test, movie_y_train, movie_y_test = train_test_split(movies.drop('cumulative_weeks_in_top_10', axis=1), movies['cumulative_weeks_in_top_10'], test_size=0.2, random_state=42)"
   ]
  },
  {
   "cell_type": "code",
   "execution_count": 4,
   "metadata": {},
   "outputs": [],
   "source": [
    "from sklearn.feature_extraction.text import TfidfVectorizer\n",
    "rankings_pipeline = Pipeline([\n",
    "    #('imputer', SimpleImputer(strategy='mean')),\n",
    "    ('logger', FunctionTransformer(np.log1p))\n",
    "])\n",
    "\n",
    "xgb_transformer = ColumnTransformer(\n",
    "    [\n",
    "        (\"onehot_titleType\",OneHotEncoder(handle_unknown='ignore'), ['titleType']),\n",
    "\n",
    "        #(\"onehot_n\",OneHotEncoder(handle_unknown='ignore'), ['nudity']),\n",
    "        (\"onehot_v\",OneHotEncoder(handle_unknown='ignore'), ['violence']),\n",
    "        #(\"onehot_p\",OneHotEncoder(handle_unknown='ignore'), ['profanity']),\n",
    "        #(\"onehot_a\",OneHotEncoder(handle_unknown='ignore'), ['alcohol']),\n",
    "        #(\"onehot_f\",OneHotEncoder(handle_unknown='ignore'), ['frightening']),\n",
    "        (\"onehot_l\",OneHotEncoder(handle_unknown='ignore'), ['language']),\n",
    "\n",
    "        (\"onehot_release_year\",OneHotEncoder(handle_unknown='ignore'), ['release_year']),\n",
    "        #(\"bagofwords\", CountVectorizer(stop_words='english', min_df=0.02), 'summary'),\n",
    "        #(\"tfidf\", TfidfVectorizer(stop_words='english', min_df=0.02), 'summary'),\n",
    "        (\"genres_count\", CountVectorizer(min_df=0.05), 'genres'),\n",
    "        #(\"sentence_transformer\", embedder, 'summary'),\n",
    "        #(\"imputer\", SimpleImputer(strategy='mean'), ['averageRating', 'numVotes', 'runtimeMinutes']),\n",
    "        (\"rankings_pipeline\", rankings_pipeline, ['director_votes', 'actor_votes', 'writer_votes']),\n",
    "    ],\n",
    "    remainder='passthrough')"
   ]
  },
  {
   "cell_type": "code",
   "execution_count": 5,
   "metadata": {},
   "outputs": [],
   "source": [
    "# Recreate pipeline using XGBoost\n",
    "\n",
    "xgb_pipe = Pipeline(\n",
    "    steps=[\n",
    "        ('xgb_transformer', xgb_transformer),\n",
    "        #('normalizer', sklearn.preprocessing.Normalizer()),\n",
    "        ('xgb', XGBClassifier())\n",
    "    ]\n",
    ")\n",
    "\n",
    "xgb_gs = GridSearchCV(\n",
    "    xgb_pipe,\n",
    "    param_grid={\n",
    "        'xgb__max_depth': [3, 5, 7],\n",
    "        'xgb__learning_rate': [0.01, 0.1, 0.5],\n",
    "        'xgb__n_estimators': [100, 200, 300]\n",
    "    },\n",
    "    scoring={\"AUC\": \"roc_auc\", \"Accuracy\": \"accuracy\"},\n",
    "    refit=\"AUC\",\n",
    "    cv=5,\n",
    "    verbose=0,\n",
    "    n_jobs=-1,\n",
    ")"
   ]
  },
  {
   "cell_type": "code",
   "execution_count": 6,
   "metadata": {},
   "outputs": [
    {
     "data": {
      "text/plain": [
       "GridSearchCV(cv=5,\n",
       "             estimator=Pipeline(steps=[('xgb_transformer',\n",
       "                                        ColumnTransformer(remainder='passthrough',\n",
       "                                                          transformers=[('onehot_titleType',\n",
       "                                                                         OneHotEncoder(handle_unknown='ignore'),\n",
       "                                                                         ['titleType']),\n",
       "                                                                        ('onehot_v',\n",
       "                                                                         OneHotEncoder(handle_unknown='ignore'),\n",
       "                                                                         ['violence']),\n",
       "                                                                        ('onehot_l',\n",
       "                                                                         OneHotEncoder(handle_unknown='ignore'),\n",
       "                                                                         ['language']),\n",
       "                                                                        ('onehot_release_year',\n",
       "                                                                         OneH...\n",
       "                                                      max_depth=None,\n",
       "                                                      max_leaves=None,\n",
       "                                                      min_child_weight=None,\n",
       "                                                      missing=nan,\n",
       "                                                      monotone_constraints=None,\n",
       "                                                      n_estimators=100,\n",
       "                                                      n_jobs=None,\n",
       "                                                      num_parallel_tree=None,\n",
       "                                                      predictor=None,\n",
       "                                                      random_state=None, ...))]),\n",
       "             n_jobs=-1,\n",
       "             param_grid={'xgb__learning_rate': [0.01, 0.1, 0.5],\n",
       "                         'xgb__max_depth': [3, 5, 7],\n",
       "                         'xgb__n_estimators': [100, 200, 300]},\n",
       "             refit='AUC', scoring={'AUC': 'roc_auc', 'Accuracy': 'accuracy'})"
      ]
     },
     "execution_count": 6,
     "metadata": {},
     "output_type": "execute_result"
    }
   ],
   "source": [
    "# movie_X_train drop summart\n",
    "xgb_gs.fit(movie_X_train.drop('summary', axis=1), movie_y_train)"
   ]
  },
  {
   "cell_type": "code",
   "execution_count": 460,
   "metadata": {},
   "outputs": [
    {
     "data": {
      "text/plain": [
       "array(['action', 'adventure', 'animation', 'biography', 'comedy', 'crime',\n",
       "       'documentary', 'drama', 'family', 'mystery', 'romance', 'thriller'],\n",
       "      dtype=object)"
      ]
     },
     "execution_count": 460,
     "metadata": {},
     "output_type": "execute_result"
    }
   ],
   "source": [
    "#feature_names = xgb_gs.best_estimator_.named_steps['xgb_transformer'].transformers_[4][1].get_feature_names_out()\n",
    "#feature_names"
   ]
  },
  {
   "cell_type": "code",
   "execution_count": 7,
   "metadata": {},
   "outputs": [],
   "source": [
    "colsW = ['x0_movie', 'x0_short', 'x0_tvSpecial','x0_Mild', 'x0_Moderate', 'x0_None', 'x0_Severe','x0_English', 'x0_Non-English','x0_2020', 'x0_2021', 'x0_2022','action', 'adventure', 'animation', 'biography', 'comedy', 'crime',\n",
    "       'documentary', 'drama', 'family', 'mystery', 'romance', 'thriller', 'director_votes','actor_votes','writer_votes','averageRating','numVotes','runtimeMinutes','release_date_quarter','release_date_month',\"release_date_week\"]"
   ]
  },
  {
   "cell_type": "code",
   "execution_count": 8,
   "metadata": {},
   "outputs": [],
   "source": [
    "# get model performance\n",
    "from sklearn.metrics import mean_squared_error\n",
    "from sklearn.metrics import mean_absolute_error\n",
    "from sklearn.metrics import r2_score\n",
    "\n",
    "#y_pred = xgb_gs.predict(movie_X_test.drop(columns=['summary']))\n",
    "#print('Mean Squared Error:', mean_squared_error(movie_y_test, y_pred))\n",
    "#print('Mean Absolute Error:', mean_absolute_error(movie_y_test, y_pred))\n",
    "#print('R2 Score:', r2_score(movie_y_test, y_pred))"
   ]
  },
  {
   "cell_type": "code",
   "execution_count": 9,
   "metadata": {},
   "outputs": [],
   "source": [
    "# baseline model\n",
    "from sklearn.dummy import DummyRegressor\n",
    "#dummy_regr = DummyRegressor(strategy=\"mean\")\n",
    "#dummy_regr.fit(movie_X_train.drop(columns=['summary']), movie_y_train)\n",
    "#dummy_regr.predict(movie_X_test.drop(columns=['summary']))\n",
    "#print('Mean Squared Error:', mean_squared_error(movie_y_test, dummy_regr.predict(movie_X_test.drop(columns=['summary']))))\n",
    "# compare mse to model\n",
    "#(r2_score(movie_y_test, y_pred) - r2_score(movie_y_test, dummy_regr.predict(movie_X_test.drop(columns=['summary']))))/abs(r2_score(movie_y_test, dummy_regr.predict(movie_X_test.drop(columns=['summary']))))\n",
    "#(mean_squared_error(movie_y_test, dummy_regr.predict(movie_X_test.drop(columns=['summary']))) - mean_squared_error(movie_y_test, y_pred))/abs(mean_squared_error(movie_y_test, dummy_regr.predict(movie_X_test.drop(columns=['summary']))))"
   ]
  },
  {
   "cell_type": "code",
   "execution_count": 12,
   "metadata": {},
   "outputs": [
    {
     "data": {
      "text/plain": [
       "0.9383254311825739"
      ]
     },
     "execution_count": 12,
     "metadata": {},
     "output_type": "execute_result"
    }
   ],
   "source": [
    "xgb_gs.best_score_\n",
    "#0.825311 no summary\n",
    "#0.827196 with bow summary\n",
    "#0.825758 with tfidf summary"
   ]
  },
  {
   "cell_type": "code",
   "execution_count": 13,
   "metadata": {},
   "outputs": [
    {
     "data": {
      "text/plain": [
       "0.8843864468864469"
      ]
     },
     "execution_count": 13,
     "metadata": {},
     "output_type": "execute_result"
    }
   ],
   "source": [
    "# test auc\n",
    "from sklearn.metrics import roc_auc_score\n",
    "y_pred = xgb_gs.predict_proba(movie_X_test.drop(columns=['summary']))[:,1]\n",
    "roc_auc_score(movie_y_test, y_pred)"
   ]
  },
  {
   "cell_type": "code",
   "execution_count": 14,
   "metadata": {},
   "outputs": [
    {
     "data": {
      "text/plain": [
       "0.8843864468864469"
      ]
     },
     "execution_count": 14,
     "metadata": {},
     "output_type": "execute_result"
    }
   ],
   "source": [
    "# model accuracy\n",
    "xgb_gs.score(movie_X_test.drop(columns=['summary']), movie_y_test)\n"
   ]
  },
  {
   "cell_type": "code",
   "execution_count": 15,
   "metadata": {},
   "outputs": [
    {
     "data": {
      "text/plain": [
       "0.8906455862977601"
      ]
     },
     "execution_count": 15,
     "metadata": {},
     "output_type": "execute_result"
    }
   ],
   "source": [
    "# model f1 score\n",
    "from sklearn.metrics import f1_score\n",
    "y_pred = xgb_gs.predict(movie_X_test.drop(columns=['summary']))\n",
    "f1_score(movie_y_test, y_pred, average='weighted')"
   ]
  },
  {
   "cell_type": "code",
   "execution_count": 30,
   "metadata": {},
   "outputs": [
    {
     "data": {
      "text/html": [
       "<div>\n",
       "<style scoped>\n",
       "    .dataframe tbody tr th:only-of-type {\n",
       "        vertical-align: middle;\n",
       "    }\n",
       "\n",
       "    .dataframe tbody tr th {\n",
       "        vertical-align: top;\n",
       "    }\n",
       "\n",
       "    .dataframe thead th {\n",
       "        text-align: right;\n",
       "    }\n",
       "</style>\n",
       "<table border=\"1\" class=\"dataframe\">\n",
       "  <thead>\n",
       "    <tr style=\"text-align: right;\">\n",
       "      <th></th>\n",
       "      <th>y_pred_0</th>\n",
       "      <th>y_pred_1</th>\n",
       "      <th>title</th>\n",
       "      <th>actual</th>\n",
       "    </tr>\n",
       "  </thead>\n",
       "  <tbody>\n",
       "    <tr>\n",
       "      <th>55</th>\n",
       "      <td>0.760260</td>\n",
       "      <td>0.239740</td>\n",
       "      <td>tt5748448</td>\n",
       "      <td>0</td>\n",
       "    </tr>\n",
       "    <tr>\n",
       "      <th>180</th>\n",
       "      <td>0.768403</td>\n",
       "      <td>0.231597</td>\n",
       "      <td>tt10962368</td>\n",
       "      <td>0</td>\n",
       "    </tr>\n",
       "    <tr>\n",
       "      <th>96</th>\n",
       "      <td>0.777964</td>\n",
       "      <td>0.222036</td>\n",
       "      <td>tt12141112</td>\n",
       "      <td>0</td>\n",
       "    </tr>\n",
       "    <tr>\n",
       "      <th>35</th>\n",
       "      <td>0.808344</td>\n",
       "      <td>0.191656</td>\n",
       "      <td>tt5498354</td>\n",
       "      <td>0</td>\n",
       "    </tr>\n",
       "    <tr>\n",
       "      <th>181</th>\n",
       "      <td>0.815322</td>\n",
       "      <td>0.184678</td>\n",
       "      <td>tt9731386</td>\n",
       "      <td>0</td>\n",
       "    </tr>\n",
       "    <tr>\n",
       "      <th>24</th>\n",
       "      <td>0.815355</td>\n",
       "      <td>0.184645</td>\n",
       "      <td>tt21340412</td>\n",
       "      <td>0</td>\n",
       "    </tr>\n",
       "    <tr>\n",
       "      <th>70</th>\n",
       "      <td>0.855721</td>\n",
       "      <td>0.144279</td>\n",
       "      <td>tt7392014</td>\n",
       "      <td>0</td>\n",
       "    </tr>\n",
       "    <tr>\n",
       "      <th>69</th>\n",
       "      <td>0.867780</td>\n",
       "      <td>0.132220</td>\n",
       "      <td>tt7846844</td>\n",
       "      <td>0</td>\n",
       "    </tr>\n",
       "    <tr>\n",
       "      <th>162</th>\n",
       "      <td>0.869343</td>\n",
       "      <td>0.130657</td>\n",
       "      <td>tt11100856</td>\n",
       "      <td>0</td>\n",
       "    </tr>\n",
       "    <tr>\n",
       "      <th>33</th>\n",
       "      <td>0.877642</td>\n",
       "      <td>0.122358</td>\n",
       "      <td>tt11199410</td>\n",
       "      <td>0</td>\n",
       "    </tr>\n",
       "    <tr>\n",
       "      <th>103</th>\n",
       "      <td>0.884845</td>\n",
       "      <td>0.115155</td>\n",
       "      <td>tt15096128</td>\n",
       "      <td>0</td>\n",
       "    </tr>\n",
       "    <tr>\n",
       "      <th>26</th>\n",
       "      <td>0.889026</td>\n",
       "      <td>0.110974</td>\n",
       "      <td>tt15763882</td>\n",
       "      <td>0</td>\n",
       "    </tr>\n",
       "    <tr>\n",
       "      <th>67</th>\n",
       "      <td>0.898402</td>\n",
       "      <td>0.101598</td>\n",
       "      <td>tt8784956</td>\n",
       "      <td>0</td>\n",
       "    </tr>\n",
       "    <tr>\n",
       "      <th>92</th>\n",
       "      <td>0.899320</td>\n",
       "      <td>0.100680</td>\n",
       "      <td>tt14152756</td>\n",
       "      <td>0</td>\n",
       "    </tr>\n",
       "    <tr>\n",
       "      <th>127</th>\n",
       "      <td>0.902857</td>\n",
       "      <td>0.097143</td>\n",
       "      <td>tt13510660</td>\n",
       "      <td>0</td>\n",
       "    </tr>\n",
       "    <tr>\n",
       "      <th>6</th>\n",
       "      <td>0.915613</td>\n",
       "      <td>0.084387</td>\n",
       "      <td>tt14539726</td>\n",
       "      <td>0</td>\n",
       "    </tr>\n",
       "    <tr>\n",
       "      <th>182</th>\n",
       "      <td>0.922565</td>\n",
       "      <td>0.077435</td>\n",
       "      <td>tt14307890</td>\n",
       "      <td>0</td>\n",
       "    </tr>\n",
       "    <tr>\n",
       "      <th>107</th>\n",
       "      <td>0.922576</td>\n",
       "      <td>0.077424</td>\n",
       "      <td>tt9845564</td>\n",
       "      <td>0</td>\n",
       "    </tr>\n",
       "    <tr>\n",
       "      <th>86</th>\n",
       "      <td>0.924350</td>\n",
       "      <td>0.075650</td>\n",
       "      <td>tt7488208</td>\n",
       "      <td>0</td>\n",
       "    </tr>\n",
       "    <tr>\n",
       "      <th>142</th>\n",
       "      <td>0.925693</td>\n",
       "      <td>0.074307</td>\n",
       "      <td>tt9619798</td>\n",
       "      <td>0</td>\n",
       "    </tr>\n",
       "  </tbody>\n",
       "</table>\n",
       "</div>"
      ],
      "text/plain": [
       "     y_pred_0  y_pred_1       title  actual\n",
       "55   0.760260  0.239740   tt5748448       0\n",
       "180  0.768403  0.231597  tt10962368       0\n",
       "96   0.777964  0.222036  tt12141112       0\n",
       "35   0.808344  0.191656   tt5498354       0\n",
       "181  0.815322  0.184678   tt9731386       0\n",
       "24   0.815355  0.184645  tt21340412       0\n",
       "70   0.855721  0.144279   tt7392014       0\n",
       "69   0.867780  0.132220   tt7846844       0\n",
       "162  0.869343  0.130657  tt11100856       0\n",
       "33   0.877642  0.122358  tt11199410       0\n",
       "103  0.884845  0.115155  tt15096128       0\n",
       "26   0.889026  0.110974  tt15763882       0\n",
       "67   0.898402  0.101598   tt8784956       0\n",
       "92   0.899320  0.100680  tt14152756       0\n",
       "127  0.902857  0.097143  tt13510660       0\n",
       "6    0.915613  0.084387  tt14539726       0\n",
       "182  0.922565  0.077435  tt14307890       0\n",
       "107  0.922576  0.077424   tt9845564       0\n",
       "86   0.924350  0.075650   tt7488208       0\n",
       "142  0.925693  0.074307   tt9619798       0"
      ]
     },
     "execution_count": 30,
     "metadata": {},
     "output_type": "execute_result"
    }
   ],
   "source": [
    "# predict probabilities - test\n",
    "y_pred = xgb_gs.best_estimator_.predict_proba(movie_X_test.drop(columns=['summary']))\n",
    "y_pred = pd.DataFrame(y_pred, columns=['y_pred_0', 'y_pred_1'])\n",
    "y_pred['title'] = movie_X_test.index\n",
    "y_pred['actual'] = movie_y_test.to_numpy()\n",
    "# delete movies that are not top 10\n",
    "y_pred = y_pred[y_pred['actual']==0]\n",
    "y_pred.sort_values(by='y_pred_1', ascending=False).head(20)\n"
   ]
  },
  {
   "cell_type": "code",
   "execution_count": 29,
   "metadata": {},
   "outputs": [
    {
     "data": {
      "text/html": [
       "<div>\n",
       "<style scoped>\n",
       "    .dataframe tbody tr th:only-of-type {\n",
       "        vertical-align: middle;\n",
       "    }\n",
       "\n",
       "    .dataframe tbody tr th {\n",
       "        vertical-align: top;\n",
       "    }\n",
       "\n",
       "    .dataframe thead th {\n",
       "        text-align: right;\n",
       "    }\n",
       "</style>\n",
       "<table border=\"1\" class=\"dataframe\">\n",
       "  <thead>\n",
       "    <tr style=\"text-align: right;\">\n",
       "      <th></th>\n",
       "      <th>y_pred_0</th>\n",
       "      <th>y_pred_1</th>\n",
       "      <th>title</th>\n",
       "      <th>actual</th>\n",
       "    </tr>\n",
       "  </thead>\n",
       "  <tbody>\n",
       "    <tr>\n",
       "      <th>626</th>\n",
       "      <td>0.036494</td>\n",
       "      <td>0.963506</td>\n",
       "      <td>tt6111574</td>\n",
       "      <td>0</td>\n",
       "    </tr>\n",
       "    <tr>\n",
       "      <th>587</th>\n",
       "      <td>0.064088</td>\n",
       "      <td>0.935912</td>\n",
       "      <td>tt15101956</td>\n",
       "      <td>0</td>\n",
       "    </tr>\n",
       "    <tr>\n",
       "      <th>726</th>\n",
       "      <td>0.098150</td>\n",
       "      <td>0.901850</td>\n",
       "      <td>tt11209212</td>\n",
       "      <td>0</td>\n",
       "    </tr>\n",
       "    <tr>\n",
       "      <th>74</th>\n",
       "      <td>0.109432</td>\n",
       "      <td>0.890568</td>\n",
       "      <td>tt15085784</td>\n",
       "      <td>0</td>\n",
       "    </tr>\n",
       "    <tr>\n",
       "      <th>481</th>\n",
       "      <td>0.162288</td>\n",
       "      <td>0.837712</td>\n",
       "      <td>tt1587420</td>\n",
       "      <td>0</td>\n",
       "    </tr>\n",
       "    <tr>\n",
       "      <th>566</th>\n",
       "      <td>0.168629</td>\n",
       "      <td>0.831371</td>\n",
       "      <td>tt9013182</td>\n",
       "      <td>0</td>\n",
       "    </tr>\n",
       "    <tr>\n",
       "      <th>364</th>\n",
       "      <td>0.184947</td>\n",
       "      <td>0.815053</td>\n",
       "      <td>tt7084386</td>\n",
       "      <td>0</td>\n",
       "    </tr>\n",
       "    <tr>\n",
       "      <th>580</th>\n",
       "      <td>0.198261</td>\n",
       "      <td>0.801739</td>\n",
       "      <td>tt6733874</td>\n",
       "      <td>0</td>\n",
       "    </tr>\n",
       "    <tr>\n",
       "      <th>108</th>\n",
       "      <td>0.235690</td>\n",
       "      <td>0.764310</td>\n",
       "      <td>tt14544192</td>\n",
       "      <td>0</td>\n",
       "    </tr>\n",
       "    <tr>\n",
       "      <th>150</th>\n",
       "      <td>0.244654</td>\n",
       "      <td>0.755346</td>\n",
       "      <td>tt10293406</td>\n",
       "      <td>0</td>\n",
       "    </tr>\n",
       "    <tr>\n",
       "      <th>146</th>\n",
       "      <td>0.275786</td>\n",
       "      <td>0.724214</td>\n",
       "      <td>tt10600398</td>\n",
       "      <td>0</td>\n",
       "    </tr>\n",
       "    <tr>\n",
       "      <th>156</th>\n",
       "      <td>0.315069</td>\n",
       "      <td>0.684931</td>\n",
       "      <td>tt8721424</td>\n",
       "      <td>0</td>\n",
       "    </tr>\n",
       "    <tr>\n",
       "      <th>412</th>\n",
       "      <td>0.343821</td>\n",
       "      <td>0.656179</td>\n",
       "      <td>tt9347730</td>\n",
       "      <td>0</td>\n",
       "    </tr>\n",
       "    <tr>\n",
       "      <th>678</th>\n",
       "      <td>0.348051</td>\n",
       "      <td>0.651949</td>\n",
       "      <td>tt8633478</td>\n",
       "      <td>0</td>\n",
       "    </tr>\n",
       "    <tr>\n",
       "      <th>438</th>\n",
       "      <td>0.362829</td>\n",
       "      <td>0.637171</td>\n",
       "      <td>tt11426572</td>\n",
       "      <td>0</td>\n",
       "    </tr>\n",
       "    <tr>\n",
       "      <th>653</th>\n",
       "      <td>0.371000</td>\n",
       "      <td>0.629000</td>\n",
       "      <td>tt15339848</td>\n",
       "      <td>0</td>\n",
       "    </tr>\n",
       "    <tr>\n",
       "      <th>612</th>\n",
       "      <td>0.375257</td>\n",
       "      <td>0.624743</td>\n",
       "      <td>tt11332850</td>\n",
       "      <td>0</td>\n",
       "    </tr>\n",
       "    <tr>\n",
       "      <th>711</th>\n",
       "      <td>0.391514</td>\n",
       "      <td>0.608486</td>\n",
       "      <td>tt14506528</td>\n",
       "      <td>0</td>\n",
       "    </tr>\n",
       "    <tr>\n",
       "      <th>465</th>\n",
       "      <td>0.410905</td>\n",
       "      <td>0.589095</td>\n",
       "      <td>tt14479746</td>\n",
       "      <td>0</td>\n",
       "    </tr>\n",
       "    <tr>\n",
       "      <th>694</th>\n",
       "      <td>0.442242</td>\n",
       "      <td>0.557758</td>\n",
       "      <td>tt19885626</td>\n",
       "      <td>0</td>\n",
       "    </tr>\n",
       "  </tbody>\n",
       "</table>\n",
       "</div>"
      ],
      "text/plain": [
       "     y_pred_0  y_pred_1       title  actual\n",
       "626  0.036494  0.963506   tt6111574       0\n",
       "587  0.064088  0.935912  tt15101956       0\n",
       "726  0.098150  0.901850  tt11209212       0\n",
       "74   0.109432  0.890568  tt15085784       0\n",
       "481  0.162288  0.837712   tt1587420       0\n",
       "566  0.168629  0.831371   tt9013182       0\n",
       "364  0.184947  0.815053   tt7084386       0\n",
       "580  0.198261  0.801739   tt6733874       0\n",
       "108  0.235690  0.764310  tt14544192       0\n",
       "150  0.244654  0.755346  tt10293406       0\n",
       "146  0.275786  0.724214  tt10600398       0\n",
       "156  0.315069  0.684931   tt8721424       0\n",
       "412  0.343821  0.656179   tt9347730       0\n",
       "678  0.348051  0.651949   tt8633478       0\n",
       "438  0.362829  0.637171  tt11426572       0\n",
       "653  0.371000  0.629000  tt15339848       0\n",
       "612  0.375257  0.624743  tt11332850       0\n",
       "711  0.391514  0.608486  tt14506528       0\n",
       "465  0.410905  0.589095  tt14479746       0\n",
       "694  0.442242  0.557758  tt19885626       0"
      ]
     },
     "execution_count": 29,
     "metadata": {},
     "output_type": "execute_result"
    }
   ],
   "source": [
    "# predict probabilities - train\n",
    "y_pred = xgb_gs.predict_proba(movie_X_train.drop(columns=['summary']))\n",
    "y_pred = pd.DataFrame(y_pred, columns=['y_pred_0', 'y_pred_1'])\n",
    "y_pred['title'] = movie_X_train.index\n",
    "y_pred['actual'] = movie_y_train.to_numpy()\n",
    "# delete movies that are not top 10\n",
    "y_pred = y_pred[y_pred['actual']== 0]\n",
    "y_pred.sort_values(by='y_pred_1', ascending=False).head(20)"
   ]
  },
  {
   "cell_type": "code",
   "execution_count": 22,
   "metadata": {},
   "outputs": [
    {
     "name": "stderr",
     "output_type": "stream",
     "text": [
      "/usr/local/lib/python3.9/site-packages/tqdm/auto.py:22: TqdmWarning: IProgress not found. Please update jupyter and ipywidgets. See https://ipywidgets.readthedocs.io/en/stable/user_install.html\n",
      "  from .autonotebook import tqdm as notebook_tqdm\n"
     ]
    }
   ],
   "source": [
    "import shap"
   ]
  },
  {
   "cell_type": "code",
   "execution_count": 23,
   "metadata": {},
   "outputs": [],
   "source": [
    "model = xgb_gs.best_estimator_['xgb'].fit(xgb_gs.best_estimator_['xgb_transformer'].transform(movie_X_train), movie_y_train)\n",
    "modelTest = xgb_gs.best_estimator_['xgb'].fit(xgb_gs.best_estimator_['xgb_transformer'].transform(movie_X_test), movie_y_test)\n",
    "\n"
   ]
  },
  {
   "cell_type": "code",
   "execution_count": 24,
   "metadata": {},
   "outputs": [],
   "source": [
    "explainer = shap.Explainer(model, xgb_gs.best_estimator_['xgb_transformer'].transform(movie_X_train), feature_names=colsW , model_output='probability')\n",
    "explainerTest = shap.Explainer(model, xgb_gs.best_estimator_['xgb_transformer'].transform(movie_X_test), feature_names=colsW , model_output='probability')\n",
    "\n"
   ]
  },
  {
   "cell_type": "code",
   "execution_count": 25,
   "metadata": {},
   "outputs": [],
   "source": [
    "shap_values = explainer(xgb_gs.best_estimator_['xgb_transformer'].transform(movie_X_train))\n",
    "shap_valuesTest = explainer(xgb_gs.best_estimator_['xgb_transformer'].transform(movie_X_test))\n"
   ]
  },
  {
   "cell_type": "code",
   "execution_count": 28,
   "metadata": {},
   "outputs": [
    {
     "data": {
      "image/png": "[encoded data removed]",
      "text/plain": [
       "<Figure size 1440x216 with 1 Axes>"
      ]
     },
     "metadata": {
      "needs_background": "light"
     },
     "output_type": "display_data"
    }
   ],
   "source": [
    "# force plot\n",
    "shap.plots.force(shap_values[412], matplotlib=True)"
   ]
  },
  {
   "cell_type": "code",
   "execution_count": 27,
   "metadata": {},
   "outputs": [
    {
     "data": {
      "image/png": "[encoded data removed]",
      "text/plain": [
       "<Figure size 576x468 with 3 Axes>"
      ]
     },
     "metadata": {},
     "output_type": "display_data"
    }
   ],
   "source": [
    "shap.plots.waterfall(shap_values[155])\n",
    "# make y-axis font white"
   ]
  }
 ],
 "metadata": {
  "kernelspec": {
   "display_name": "Python 3.9.10 64-bit",
   "language": "python",
   "name": "python3"
  },
  "language_info": {
   "codemirror_mode": {
    "name": "ipython",
    "version": 3
   },
   "file_extension": ".py",
   "mimetype": "text/x-python",
   "name": "python",
   "nbconvert_exporter": "python",
   "pygments_lexer": "ipython3",
   "version": "3.9.10"
  },
  "orig_nbformat": 4,
  "vscode": {
   "interpreter": {
    "hash": "aee8b7b246df8f9039afb4144a1f6fd8d2ca17a180786b69acc140d282b71a49"
   }
  }
 },
 "nbformat": 4,
 "nbformat_minor": 2
}
