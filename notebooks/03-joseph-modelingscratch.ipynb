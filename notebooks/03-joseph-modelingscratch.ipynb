{
 "cells": [
  {
   "cell_type": "code",
   "execution_count": 1,
   "metadata": {},
   "outputs": [],
   "source": [
    "import pandas as pd\n",
    "import numpy as np\n",
    "import sklearn"
   ]
  },
  {
   "cell_type": "code",
   "execution_count": 2,
   "metadata": {},
   "outputs": [],
   "source": [
    "netflix = pd.read_csv('../data/final_data/netflix_final_data.csv')"
   ]
  },
  {
   "cell_type": "code",
   "execution_count": 3,
   "metadata": {},
   "outputs": [
    {
     "name": "stderr",
     "output_type": "stream",
     "text": [
      "C:\\Users\\Joeyz\\AppData\\Local\\Temp\\ipykernel_11892\\2180540322.py:3: DtypeWarning: Columns (4) have mixed types. Specify dtype option on import or set low_memory=False.\n",
      "  basics = pd.read_csv('../data/raw/title.basics.tsv', sep='\\t', usecols=['tconst', 'titleType', 'isAdult', 'runtimeMinutes', 'genres'])\n"
     ]
    }
   ],
   "source": [
    "ratings = pd.read_csv('../data/raw/title.ratings.tsv', sep='\\t')\n",
    "\n",
    "basics = pd.read_csv('../data/raw/title.basics.tsv', sep='\\t', usecols=['tconst', 'titleType', 'isAdult', 'runtimeMinutes', 'genres'])\n"
   ]
  },
  {
   "cell_type": "code",
   "execution_count": 4,
   "metadata": {},
   "outputs": [],
   "source": [
    "df = netflix.merge(ratings, how='left', on='tconst').merge(basics, how='left', on='tconst', )"
   ]
  },
  {
   "cell_type": "markdown",
   "metadata": {},
   "source": [
    "Let's first drop the 1 row that has no tconst, meaning it could not be found on IMDB."
   ]
  },
  {
   "cell_type": "code",
   "execution_count": 5,
   "metadata": {},
   "outputs": [],
   "source": [
    "#df.isna().sum()\n",
    "df = df[df['tconst'].notna()]"
   ]
  },
  {
   "cell_type": "code",
   "execution_count": 6,
   "metadata": {},
   "outputs": [],
   "source": [
    "#My Wonderful Life Manually added data\n",
    "\n",
    "df.loc[df['title']=='my wonderful life', 'averageRating'] = 5.9\n",
    "df.loc[df['title']=='my wonderful life', 'numVotes'] = 714\n",
    "df.loc[df['title']=='my wonderful life', 'titleType'] = 'movie'\n",
    "df.loc[df['title']=='my wonderful life', 'runtimeMinutes'] = 99\n",
    "df.loc[df['title']=='my wonderful life', 'isAdult'] = 0\n",
    "df.loc[df['title']=='my wonderful life', 'genres'] = 'Comedy,Drama,Romance'"
   ]
  },
  {
   "cell_type": "markdown",
   "metadata": {},
   "source": [
    "Change is_top_10 into int"
   ]
  },
  {
   "cell_type": "code",
   "execution_count": 7,
   "metadata": {},
   "outputs": [],
   "source": [
    "df['is_top10'] = df['is_top10'].astype(int)"
   ]
  },
  {
   "cell_type": "markdown",
   "metadata": {},
   "source": [
    "replace \\N with nan"
   ]
  },
  {
   "cell_type": "code",
   "execution_count": 8,
   "metadata": {},
   "outputs": [],
   "source": [
    "df.replace('\\\\N', np.nan, inplace=True)"
   ]
  },
  {
   "cell_type": "markdown",
   "metadata": {},
   "source": [
    "Split into movies and tv_shows, since I think they are too different to combine into 1 model"
   ]
  },
  {
   "cell_type": "code",
   "execution_count": 9,
   "metadata": {},
   "outputs": [],
   "source": [
    "movies, tv_shows = df[df['is_tv_show']==False], df[df['is_tv_show']==True]"
   ]
  },
  {
   "cell_type": "markdown",
   "metadata": {},
   "source": [
    "## Movies"
   ]
  },
  {
   "cell_type": "markdown",
   "metadata": {},
   "source": [
    "Drop columns, remove rows with >1 NaN entry"
   ]
  },
  {
   "cell_type": "code",
   "execution_count": 10,
   "metadata": {},
   "outputs": [],
   "source": [
    "# drop columns that are not needed\n",
    "movies = movies.drop(['tconst', 'combined_title', 'title', 'season', 'is_tv_show'], axis = 1)\n",
    "\n",
    "# remove any rows with > 1 NaN entry\n",
    "# rowWiseNullCounter = pd.DataFrame(movies.isnull().sum(axis = 1))\n",
    "# indexRowsToRemove1 = list(rowWiseNullCounter[rowWiseNullCounter[0] >= 1].index.values)\n",
    "\n",
    "# for i in indexRowsToRemove1:\n",
    "#     movies.drop(index = i, axis = 1, inplace = True)\n",
    "\n",
    "# movies = movies.reset_index(drop = True)"
   ]
  },
  {
   "cell_type": "markdown",
   "metadata": {},
   "source": [
    "Now make train and test sets"
   ]
  },
  {
   "cell_type": "code",
   "execution_count": 11,
   "metadata": {},
   "outputs": [],
   "source": [
    "from sklearn.model_selection import train_test_split"
   ]
  },
  {
   "cell_type": "code",
   "execution_count": 12,
   "metadata": {},
   "outputs": [],
   "source": [
    "movies_train, movies_test = train_test_split(movies, test_size=0.3, random_state=42)"
   ]
  },
  {
   "cell_type": "code",
   "execution_count": 13,
   "metadata": {},
   "outputs": [],
   "source": [
    "movies_train_X = movies_train.drop(['is_top10'], axis = 1)\n",
    "movies_train_Y = movies_train['is_top10']\n",
    "\n",
    "movies_test_X = movies_test.drop(['is_top10'], axis = 1)\n",
    "movies_test_Y = movies_test['is_top10']"
   ]
  },
  {
   "cell_type": "markdown",
   "metadata": {},
   "source": [
    "I want to first one hot encode titleType, and turn genres into bag of words matrix.\n",
    "\n",
    "impute the missing ratings data, then turn genres into a bag of words matrix"
   ]
  },
  {
   "cell_type": "code",
   "execution_count": 14,
   "metadata": {},
   "outputs": [],
   "source": [
    "from sklearn.preprocessing import OneHotEncoder\n",
    "from sklearn.compose import ColumnTransformer\n",
    "from sklearn.impute import SimpleImputer\n",
    "from sklearn.feature_extraction.text import CountVectorizer"
   ]
  },
  {
   "cell_type": "code",
   "execution_count": 15,
   "metadata": {},
   "outputs": [
    {
     "data": {
      "text/plain": [
       "release_year_x    0\n",
       "averageRating     0\n",
       "numVotes          0\n",
       "titleType         0\n",
       "isAdult           0\n",
       "runtimeMinutes    9\n",
       "genres            0\n",
       "dtype: int64"
      ]
     },
     "execution_count": 15,
     "metadata": {},
     "output_type": "execute_result"
    }
   ],
   "source": [
    "movies_test_X.isna().sum()"
   ]
  },
  {
   "cell_type": "code",
   "execution_count": 16,
   "metadata": {},
   "outputs": [],
   "source": [
    "transformer = ColumnTransformer(\n",
    "    [(\"onehot\",OneHotEncoder(drop='first', handle_unknown='ignore'), ['titleType']),\n",
    "    (\"imputer\", SimpleImputer(strategy='mean'), ['averageRating', 'numVotes', 'runtimeMinutes']),\n",
    "    (\"bagofw\", CountVectorizer(), 'genres')\n",
    "    ],\n",
    "    remainder='passthrough')"
   ]
  },
  {
   "cell_type": "code",
   "execution_count": 17,
   "metadata": {},
   "outputs": [],
   "source": [
    "from sklearn.pipeline import Pipeline"
   ]
  },
  {
   "cell_type": "code",
   "execution_count": 18,
   "metadata": {},
   "outputs": [],
   "source": [
    "from sklearn.feature_selection import SelectFromModel"
   ]
  },
  {
   "cell_type": "code",
   "execution_count": 19,
   "metadata": {},
   "outputs": [],
   "source": [
    "#make sklearn pipeline with transform, normalization, and model\n",
    "pipe = Pipeline(\n",
    "    steps=[\n",
    "        ('transformer', transformer),\n",
    "        #('normalizer', sklearn.preprocessing.StandardScaler(with_mean=True)),\n",
    "        #('feature_selection', SelectFromModel(sklearn.linear_model.LogisticRegression())),\n",
    "        ('logistic_regress', sklearn.linear_model.LogisticRegression(max_iter = 1000))\n",
    "        \n",
    "    ]\n",
    ")"
   ]
  },
  {
   "cell_type": "code",
   "execution_count": 20,
   "metadata": {},
   "outputs": [],
   "source": [
    "from sklearn.model_selection import GridSearchCV"
   ]
  },
  {
   "cell_type": "code",
   "execution_count": 21,
   "metadata": {},
   "outputs": [],
   "source": [
    "gs = GridSearchCV(\n",
    "    pipe,\n",
    "    param_grid={\n",
    "        #'logistic_regress__penalty': ['elasticnet'],\n",
    "        'logistic_regress__C': [0.01, 0.1, 1, 10, 100],\n",
    "        'logistic_regress__solver': ['lbfgs','saga'],\n",
    "        #'logistic_regress__l1_ratio': [0, 0.1, 0.5, 0.9, 1],\n",
    "    },\n",
    "    scoring={\"AUC\": \"roc_auc\", \"Accuracy\": \"accuracy\"},\n",
    "    refit=\"AUC\",\n",
    "    cv=5,\n",
    "    verbose=0,\n",
    "    n_jobs=-1,\n",
    ")"
   ]
  },
  {
   "cell_type": "code",
   "execution_count": 22,
   "metadata": {},
   "outputs": [
    {
     "data": {
      "text/html": [
       "<style>#sk-container-id-1 {color: black;background-color: white;}#sk-container-id-1 pre{padding: 0;}#sk-container-id-1 div.sk-toggleable {background-color: white;}#sk-container-id-1 label.sk-toggleable__label {cursor: pointer;display: block;width: 100%;margin-bottom: 0;padding: 0.3em;box-sizing: border-box;text-align: center;}#sk-container-id-1 label.sk-toggleable__label-arrow:before {content: \"▸\";float: left;margin-right: 0.25em;color: #696969;}#sk-container-id-1 label.sk-toggleable__label-arrow:hover:before {color: black;}#sk-container-id-1 div.sk-estimator:hover label.sk-toggleable__label-arrow:before {color: black;}#sk-container-id-1 div.sk-toggleable__content {max-height: 0;max-width: 0;overflow: hidden;text-align: left;background-color: #f0f8ff;}#sk-container-id-1 div.sk-toggleable__content pre {margin: 0.2em;color: black;border-radius: 0.25em;background-color: #f0f8ff;}#sk-container-id-1 input.sk-toggleable__control:checked~div.sk-toggleable__content {max-height: 200px;max-width: 100%;overflow: auto;}#sk-container-id-1 input.sk-toggleable__control:checked~label.sk-toggleable__label-arrow:before {content: \"▾\";}#sk-container-id-1 div.sk-estimator input.sk-toggleable__control:checked~label.sk-toggleable__label {background-color: #d4ebff;}#sk-container-id-1 div.sk-label input.sk-toggleable__control:checked~label.sk-toggleable__label {background-color: #d4ebff;}#sk-container-id-1 input.sk-hidden--visually {border: 0;clip: rect(1px 1px 1px 1px);clip: rect(1px, 1px, 1px, 1px);height: 1px;margin: -1px;overflow: hidden;padding: 0;position: absolute;width: 1px;}#sk-container-id-1 div.sk-estimator {font-family: monospace;background-color: #f0f8ff;border: 1px dotted black;border-radius: 0.25em;box-sizing: border-box;margin-bottom: 0.5em;}#sk-container-id-1 div.sk-estimator:hover {background-color: #d4ebff;}#sk-container-id-1 div.sk-parallel-item::after {content: \"\";width: 100%;border-bottom: 1px solid gray;flex-grow: 1;}#sk-container-id-1 div.sk-label:hover label.sk-toggleable__label {background-color: #d4ebff;}#sk-container-id-1 div.sk-serial::before {content: \"\";position: absolute;border-left: 1px solid gray;box-sizing: border-box;top: 0;bottom: 0;left: 50%;z-index: 0;}#sk-container-id-1 div.sk-serial {display: flex;flex-direction: column;align-items: center;background-color: white;padding-right: 0.2em;padding-left: 0.2em;position: relative;}#sk-container-id-1 div.sk-item {position: relative;z-index: 1;}#sk-container-id-1 div.sk-parallel {display: flex;align-items: stretch;justify-content: center;background-color: white;position: relative;}#sk-container-id-1 div.sk-item::before, #sk-container-id-1 div.sk-parallel-item::before {content: \"\";position: absolute;border-left: 1px solid gray;box-sizing: border-box;top: 0;bottom: 0;left: 50%;z-index: -1;}#sk-container-id-1 div.sk-parallel-item {display: flex;flex-direction: column;z-index: 1;position: relative;background-color: white;}#sk-container-id-1 div.sk-parallel-item:first-child::after {align-self: flex-end;width: 50%;}#sk-container-id-1 div.sk-parallel-item:last-child::after {align-self: flex-start;width: 50%;}#sk-container-id-1 div.sk-parallel-item:only-child::after {width: 0;}#sk-container-id-1 div.sk-dashed-wrapped {border: 1px dashed gray;margin: 0 0.4em 0.5em 0.4em;box-sizing: border-box;padding-bottom: 0.4em;background-color: white;}#sk-container-id-1 div.sk-label label {font-family: monospace;font-weight: bold;display: inline-block;line-height: 1.2em;}#sk-container-id-1 div.sk-label-container {text-align: center;}#sk-container-id-1 div.sk-container {/* jupyter's `normalize.less` sets `[hidden] { display: none; }` but bootstrap.min.css set `[hidden] { display: none !important; }` so we also need the `!important` here to be able to override the default hidden behavior on the sphinx rendered scikit-learn.org. See: https://github.com/scikit-learn/scikit-learn/issues/21755 */display: inline-block !important;position: relative;}#sk-container-id-1 div.sk-text-repr-fallback {display: none;}</style><div id=\"sk-container-id-1\" class=\"sk-top-container\"><div class=\"sk-text-repr-fallback\"><pre>GridSearchCV(cv=5,\n",
       "             estimator=Pipeline(steps=[(&#x27;transformer&#x27;,\n",
       "                                        ColumnTransformer(remainder=&#x27;passthrough&#x27;,\n",
       "                                                          transformers=[(&#x27;onehot&#x27;,\n",
       "                                                                         OneHotEncoder(drop=&#x27;first&#x27;,\n",
       "                                                                                       handle_unknown=&#x27;ignore&#x27;),\n",
       "                                                                         [&#x27;titleType&#x27;]),\n",
       "                                                                        (&#x27;imputer&#x27;,\n",
       "                                                                         SimpleImputer(),\n",
       "                                                                         [&#x27;averageRating&#x27;,\n",
       "                                                                          &#x27;numVotes&#x27;,\n",
       "                                                                          &#x27;runtimeMinutes&#x27;]),\n",
       "                                                                        (&#x27;bagofw&#x27;,\n",
       "                                                                         CountVectorizer(),\n",
       "                                                                         &#x27;genres&#x27;)])),\n",
       "                                       (&#x27;logistic_regress&#x27;,\n",
       "                                        LogisticRegression(max_iter=1000))]),\n",
       "             n_jobs=-1,\n",
       "             param_grid={&#x27;logistic_regress__C&#x27;: [0.01, 0.1, 1, 10, 100],\n",
       "                         &#x27;logistic_regress__solver&#x27;: [&#x27;lbfgs&#x27;, &#x27;saga&#x27;]},\n",
       "             refit=&#x27;AUC&#x27;, scoring={&#x27;AUC&#x27;: &#x27;roc_auc&#x27;, &#x27;Accuracy&#x27;: &#x27;accuracy&#x27;})</pre><b>In a Jupyter environment, please rerun this cell to show the HTML representation or trust the notebook. <br />On GitHub, the HTML representation is unable to render, please try loading this page with nbviewer.org.</b></div><div class=\"sk-container\" hidden><div class=\"sk-item sk-dashed-wrapped\"><div class=\"sk-label-container\"><div class=\"sk-label sk-toggleable\"><input class=\"sk-toggleable__control sk-hidden--visually\" id=\"sk-estimator-id-1\" type=\"checkbox\" ><label for=\"sk-estimator-id-1\" class=\"sk-toggleable__label sk-toggleable__label-arrow\">GridSearchCV</label><div class=\"sk-toggleable__content\"><pre>GridSearchCV(cv=5,\n",
       "             estimator=Pipeline(steps=[(&#x27;transformer&#x27;,\n",
       "                                        ColumnTransformer(remainder=&#x27;passthrough&#x27;,\n",
       "                                                          transformers=[(&#x27;onehot&#x27;,\n",
       "                                                                         OneHotEncoder(drop=&#x27;first&#x27;,\n",
       "                                                                                       handle_unknown=&#x27;ignore&#x27;),\n",
       "                                                                         [&#x27;titleType&#x27;]),\n",
       "                                                                        (&#x27;imputer&#x27;,\n",
       "                                                                         SimpleImputer(),\n",
       "                                                                         [&#x27;averageRating&#x27;,\n",
       "                                                                          &#x27;numVotes&#x27;,\n",
       "                                                                          &#x27;runtimeMinutes&#x27;]),\n",
       "                                                                        (&#x27;bagofw&#x27;,\n",
       "                                                                         CountVectorizer(),\n",
       "                                                                         &#x27;genres&#x27;)])),\n",
       "                                       (&#x27;logistic_regress&#x27;,\n",
       "                                        LogisticRegression(max_iter=1000))]),\n",
       "             n_jobs=-1,\n",
       "             param_grid={&#x27;logistic_regress__C&#x27;: [0.01, 0.1, 1, 10, 100],\n",
       "                         &#x27;logistic_regress__solver&#x27;: [&#x27;lbfgs&#x27;, &#x27;saga&#x27;]},\n",
       "             refit=&#x27;AUC&#x27;, scoring={&#x27;AUC&#x27;: &#x27;roc_auc&#x27;, &#x27;Accuracy&#x27;: &#x27;accuracy&#x27;})</pre></div></div></div><div class=\"sk-parallel\"><div class=\"sk-parallel-item\"><div class=\"sk-item\"><div class=\"sk-label-container\"><div class=\"sk-label sk-toggleable\"><input class=\"sk-toggleable__control sk-hidden--visually\" id=\"sk-estimator-id-2\" type=\"checkbox\" ><label for=\"sk-estimator-id-2\" class=\"sk-toggleable__label sk-toggleable__label-arrow\">estimator: Pipeline</label><div class=\"sk-toggleable__content\"><pre>Pipeline(steps=[(&#x27;transformer&#x27;,\n",
       "                 ColumnTransformer(remainder=&#x27;passthrough&#x27;,\n",
       "                                   transformers=[(&#x27;onehot&#x27;,\n",
       "                                                  OneHotEncoder(drop=&#x27;first&#x27;,\n",
       "                                                                handle_unknown=&#x27;ignore&#x27;),\n",
       "                                                  [&#x27;titleType&#x27;]),\n",
       "                                                 (&#x27;imputer&#x27;, SimpleImputer(),\n",
       "                                                  [&#x27;averageRating&#x27;, &#x27;numVotes&#x27;,\n",
       "                                                   &#x27;runtimeMinutes&#x27;]),\n",
       "                                                 (&#x27;bagofw&#x27;, CountVectorizer(),\n",
       "                                                  &#x27;genres&#x27;)])),\n",
       "                (&#x27;logistic_regress&#x27;, LogisticRegression(max_iter=1000))])</pre></div></div></div><div class=\"sk-serial\"><div class=\"sk-item\"><div class=\"sk-serial\"><div class=\"sk-item sk-dashed-wrapped\"><div class=\"sk-label-container\"><div class=\"sk-label sk-toggleable\"><input class=\"sk-toggleable__control sk-hidden--visually\" id=\"sk-estimator-id-3\" type=\"checkbox\" ><label for=\"sk-estimator-id-3\" class=\"sk-toggleable__label sk-toggleable__label-arrow\">transformer: ColumnTransformer</label><div class=\"sk-toggleable__content\"><pre>ColumnTransformer(remainder=&#x27;passthrough&#x27;,\n",
       "                  transformers=[(&#x27;onehot&#x27;,\n",
       "                                 OneHotEncoder(drop=&#x27;first&#x27;,\n",
       "                                               handle_unknown=&#x27;ignore&#x27;),\n",
       "                                 [&#x27;titleType&#x27;]),\n",
       "                                (&#x27;imputer&#x27;, SimpleImputer(),\n",
       "                                 [&#x27;averageRating&#x27;, &#x27;numVotes&#x27;,\n",
       "                                  &#x27;runtimeMinutes&#x27;]),\n",
       "                                (&#x27;bagofw&#x27;, CountVectorizer(), &#x27;genres&#x27;)])</pre></div></div></div><div class=\"sk-parallel\"><div class=\"sk-parallel-item\"><div class=\"sk-item\"><div class=\"sk-label-container\"><div class=\"sk-label sk-toggleable\"><input class=\"sk-toggleable__control sk-hidden--visually\" id=\"sk-estimator-id-4\" type=\"checkbox\" ><label for=\"sk-estimator-id-4\" class=\"sk-toggleable__label sk-toggleable__label-arrow\">onehot</label><div class=\"sk-toggleable__content\"><pre>[&#x27;titleType&#x27;]</pre></div></div></div><div class=\"sk-serial\"><div class=\"sk-item\"><div class=\"sk-estimator sk-toggleable\"><input class=\"sk-toggleable__control sk-hidden--visually\" id=\"sk-estimator-id-5\" type=\"checkbox\" ><label for=\"sk-estimator-id-5\" class=\"sk-toggleable__label sk-toggleable__label-arrow\">OneHotEncoder</label><div class=\"sk-toggleable__content\"><pre>OneHotEncoder(drop=&#x27;first&#x27;, handle_unknown=&#x27;ignore&#x27;)</pre></div></div></div></div></div></div><div class=\"sk-parallel-item\"><div class=\"sk-item\"><div class=\"sk-label-container\"><div class=\"sk-label sk-toggleable\"><input class=\"sk-toggleable__control sk-hidden--visually\" id=\"sk-estimator-id-6\" type=\"checkbox\" ><label for=\"sk-estimator-id-6\" class=\"sk-toggleable__label sk-toggleable__label-arrow\">imputer</label><div class=\"sk-toggleable__content\"><pre>[&#x27;averageRating&#x27;, &#x27;numVotes&#x27;, &#x27;runtimeMinutes&#x27;]</pre></div></div></div><div class=\"sk-serial\"><div class=\"sk-item\"><div class=\"sk-estimator sk-toggleable\"><input class=\"sk-toggleable__control sk-hidden--visually\" id=\"sk-estimator-id-7\" type=\"checkbox\" ><label for=\"sk-estimator-id-7\" class=\"sk-toggleable__label sk-toggleable__label-arrow\">SimpleImputer</label><div class=\"sk-toggleable__content\"><pre>SimpleImputer()</pre></div></div></div></div></div></div><div class=\"sk-parallel-item\"><div class=\"sk-item\"><div class=\"sk-label-container\"><div class=\"sk-label sk-toggleable\"><input class=\"sk-toggleable__control sk-hidden--visually\" id=\"sk-estimator-id-8\" type=\"checkbox\" ><label for=\"sk-estimator-id-8\" class=\"sk-toggleable__label sk-toggleable__label-arrow\">bagofw</label><div class=\"sk-toggleable__content\"><pre>genres</pre></div></div></div><div class=\"sk-serial\"><div class=\"sk-item\"><div class=\"sk-estimator sk-toggleable\"><input class=\"sk-toggleable__control sk-hidden--visually\" id=\"sk-estimator-id-9\" type=\"checkbox\" ><label for=\"sk-estimator-id-9\" class=\"sk-toggleable__label sk-toggleable__label-arrow\">CountVectorizer</label><div class=\"sk-toggleable__content\"><pre>CountVectorizer()</pre></div></div></div></div></div></div><div class=\"sk-parallel-item\"><div class=\"sk-item\"><div class=\"sk-label-container\"><div class=\"sk-label sk-toggleable\"><input class=\"sk-toggleable__control sk-hidden--visually\" id=\"sk-estimator-id-10\" type=\"checkbox\" ><label for=\"sk-estimator-id-10\" class=\"sk-toggleable__label sk-toggleable__label-arrow\">remainder</label><div class=\"sk-toggleable__content\"><pre></pre></div></div></div><div class=\"sk-serial\"><div class=\"sk-item\"><div class=\"sk-estimator sk-toggleable\"><input class=\"sk-toggleable__control sk-hidden--visually\" id=\"sk-estimator-id-11\" type=\"checkbox\" ><label for=\"sk-estimator-id-11\" class=\"sk-toggleable__label sk-toggleable__label-arrow\">passthrough</label><div class=\"sk-toggleable__content\"><pre>passthrough</pre></div></div></div></div></div></div></div></div><div class=\"sk-item\"><div class=\"sk-estimator sk-toggleable\"><input class=\"sk-toggleable__control sk-hidden--visually\" id=\"sk-estimator-id-12\" type=\"checkbox\" ><label for=\"sk-estimator-id-12\" class=\"sk-toggleable__label sk-toggleable__label-arrow\">LogisticRegression</label><div class=\"sk-toggleable__content\"><pre>LogisticRegression(max_iter=1000)</pre></div></div></div></div></div></div></div></div></div></div></div></div>"
      ],
      "text/plain": [
       "GridSearchCV(cv=5,\n",
       "             estimator=Pipeline(steps=[('transformer',\n",
       "                                        ColumnTransformer(remainder='passthrough',\n",
       "                                                          transformers=[('onehot',\n",
       "                                                                         OneHotEncoder(drop='first',\n",
       "                                                                                       handle_unknown='ignore'),\n",
       "                                                                         ['titleType']),\n",
       "                                                                        ('imputer',\n",
       "                                                                         SimpleImputer(),\n",
       "                                                                         ['averageRating',\n",
       "                                                                          'numVotes',\n",
       "                                                                          'runtimeMinutes']),\n",
       "                                                                        ('bagofw',\n",
       "                                                                         CountVectorizer(),\n",
       "                                                                         'genres')])),\n",
       "                                       ('logistic_regress',\n",
       "                                        LogisticRegression(max_iter=1000))]),\n",
       "             n_jobs=-1,\n",
       "             param_grid={'logistic_regress__C': [0.01, 0.1, 1, 10, 100],\n",
       "                         'logistic_regress__solver': ['lbfgs', 'saga']},\n",
       "             refit='AUC', scoring={'AUC': 'roc_auc', 'Accuracy': 'accuracy'})"
      ]
     },
     "execution_count": 22,
     "metadata": {},
     "output_type": "execute_result"
    }
   ],
   "source": [
    "gs.fit(movies_train_X, movies_train_Y)"
   ]
  },
  {
   "cell_type": "code",
   "execution_count": 25,
   "metadata": {},
   "outputs": [
    {
     "data": {
      "text/plain": [
       "{'logistic_regress__C': 0.01, 'logistic_regress__solver': 'lbfgs'}"
      ]
     },
     "execution_count": 25,
     "metadata": {},
     "output_type": "execute_result"
    }
   ],
   "source": [
    "gs.best_params_"
   ]
  },
  {
   "cell_type": "code",
   "execution_count": 26,
   "metadata": {},
   "outputs": [
    {
     "data": {
      "text/plain": [
       "0.7208536425378179"
      ]
     },
     "execution_count": 26,
     "metadata": {},
     "output_type": "execute_result"
    }
   ],
   "source": [
    "gs.best_score_"
   ]
  },
  {
   "cell_type": "markdown",
   "metadata": {},
   "source": [
    "Try with different Classifiers"
   ]
  },
  {
   "cell_type": "code",
   "execution_count": 53,
   "metadata": {},
   "outputs": [],
   "source": [
    "pipeline2 = Pipeline(\n",
    "    steps=[\n",
    "        ('transformer', transformer),\n",
    "        ('normalizer', sklearn.preprocessing.StandardScaler(with_mean=False)),\n",
    "        ('svc', sklearn.linear_model.SGDClassifier())\n",
    "    ]\n",
    ")"
   ]
  },
  {
   "cell_type": "code",
   "execution_count": 56,
   "metadata": {},
   "outputs": [],
   "source": [
    "gs2 = GridSearchCV(\n",
    "    pipeline2,\n",
    "    param_grid={\n",
    "        'svc__loss': ['hinge', 'modified_huber'],\n",
    "        'svc__alpha': [0.01, 0.1, 1],\n",
    "        #'svc__C': [0.1, 1, 10],\n",
    "        #'svc__kernel': ['linear', 'poly', 'rbf', 'sigmoid'],\n",
    "        #'svc__degree': [2, 3, 4, 5],\n",
    "        #'svc__gamma': ['scale', 'auto'],\n",
    "        #'svc__coef0': [0.0, 0.1, 0.5, 1.0],\n",
    "        #'svc__shrinking': [True, False],\n",
    "        #'svc__probability': [True, False],\n",
    "        #'svc__tol': [0.001, 0.0001, 0.00001],\n",
    "    },\n",
    "    scoring={\"AUC\": \"roc_auc\", \"Accuracy\": \"accuracy\"},\n",
    "    refit=\"AUC\",\n",
    "    cv=5,\n",
    "    verbose=1,\n",
    "    n_jobs=-1,\n",
    "    error_score='raise'\n",
    ")"
   ]
  },
  {
   "cell_type": "code",
   "execution_count": 57,
   "metadata": {},
   "outputs": [
    {
     "name": "stdout",
     "output_type": "stream",
     "text": [
      "Fitting 5 folds for each of 6 candidates, totalling 30 fits\n"
     ]
    },
    {
     "data": {
      "text/html": [
       "<style>#sk-container-id-9 {color: black;background-color: white;}#sk-container-id-9 pre{padding: 0;}#sk-container-id-9 div.sk-toggleable {background-color: white;}#sk-container-id-9 label.sk-toggleable__label {cursor: pointer;display: block;width: 100%;margin-bottom: 0;padding: 0.3em;box-sizing: border-box;text-align: center;}#sk-container-id-9 label.sk-toggleable__label-arrow:before {content: \"▸\";float: left;margin-right: 0.25em;color: #696969;}#sk-container-id-9 label.sk-toggleable__label-arrow:hover:before {color: black;}#sk-container-id-9 div.sk-estimator:hover label.sk-toggleable__label-arrow:before {color: black;}#sk-container-id-9 div.sk-toggleable__content {max-height: 0;max-width: 0;overflow: hidden;text-align: left;background-color: #f0f8ff;}#sk-container-id-9 div.sk-toggleable__content pre {margin: 0.2em;color: black;border-radius: 0.25em;background-color: #f0f8ff;}#sk-container-id-9 input.sk-toggleable__control:checked~div.sk-toggleable__content {max-height: 200px;max-width: 100%;overflow: auto;}#sk-container-id-9 input.sk-toggleable__control:checked~label.sk-toggleable__label-arrow:before {content: \"▾\";}#sk-container-id-9 div.sk-estimator input.sk-toggleable__control:checked~label.sk-toggleable__label {background-color: #d4ebff;}#sk-container-id-9 div.sk-label input.sk-toggleable__control:checked~label.sk-toggleable__label {background-color: #d4ebff;}#sk-container-id-9 input.sk-hidden--visually {border: 0;clip: rect(1px 1px 1px 1px);clip: rect(1px, 1px, 1px, 1px);height: 1px;margin: -1px;overflow: hidden;padding: 0;position: absolute;width: 1px;}#sk-container-id-9 div.sk-estimator {font-family: monospace;background-color: #f0f8ff;border: 1px dotted black;border-radius: 0.25em;box-sizing: border-box;margin-bottom: 0.5em;}#sk-container-id-9 div.sk-estimator:hover {background-color: #d4ebff;}#sk-container-id-9 div.sk-parallel-item::after {content: \"\";width: 100%;border-bottom: 1px solid gray;flex-grow: 1;}#sk-container-id-9 div.sk-label:hover label.sk-toggleable__label {background-color: #d4ebff;}#sk-container-id-9 div.sk-serial::before {content: \"\";position: absolute;border-left: 1px solid gray;box-sizing: border-box;top: 0;bottom: 0;left: 50%;z-index: 0;}#sk-container-id-9 div.sk-serial {display: flex;flex-direction: column;align-items: center;background-color: white;padding-right: 0.2em;padding-left: 0.2em;position: relative;}#sk-container-id-9 div.sk-item {position: relative;z-index: 1;}#sk-container-id-9 div.sk-parallel {display: flex;align-items: stretch;justify-content: center;background-color: white;position: relative;}#sk-container-id-9 div.sk-item::before, #sk-container-id-9 div.sk-parallel-item::before {content: \"\";position: absolute;border-left: 1px solid gray;box-sizing: border-box;top: 0;bottom: 0;left: 50%;z-index: -1;}#sk-container-id-9 div.sk-parallel-item {display: flex;flex-direction: column;z-index: 1;position: relative;background-color: white;}#sk-container-id-9 div.sk-parallel-item:first-child::after {align-self: flex-end;width: 50%;}#sk-container-id-9 div.sk-parallel-item:last-child::after {align-self: flex-start;width: 50%;}#sk-container-id-9 div.sk-parallel-item:only-child::after {width: 0;}#sk-container-id-9 div.sk-dashed-wrapped {border: 1px dashed gray;margin: 0 0.4em 0.5em 0.4em;box-sizing: border-box;padding-bottom: 0.4em;background-color: white;}#sk-container-id-9 div.sk-label label {font-family: monospace;font-weight: bold;display: inline-block;line-height: 1.2em;}#sk-container-id-9 div.sk-label-container {text-align: center;}#sk-container-id-9 div.sk-container {/* jupyter's `normalize.less` sets `[hidden] { display: none; }` but bootstrap.min.css set `[hidden] { display: none !important; }` so we also need the `!important` here to be able to override the default hidden behavior on the sphinx rendered scikit-learn.org. See: https://github.com/scikit-learn/scikit-learn/issues/21755 */display: inline-block !important;position: relative;}#sk-container-id-9 div.sk-text-repr-fallback {display: none;}</style><div id=\"sk-container-id-9\" class=\"sk-top-container\"><div class=\"sk-text-repr-fallback\"><pre>GridSearchCV(cv=5, error_score=&#x27;raise&#x27;,\n",
       "             estimator=Pipeline(steps=[(&#x27;transformer&#x27;,\n",
       "                                        ColumnTransformer(remainder=&#x27;passthrough&#x27;,\n",
       "                                                          transformers=[(&#x27;onehot&#x27;,\n",
       "                                                                         OneHotEncoder(drop=&#x27;first&#x27;,\n",
       "                                                                                       handle_unknown=&#x27;ignore&#x27;),\n",
       "                                                                         [&#x27;titleType&#x27;]),\n",
       "                                                                        (&#x27;imputer&#x27;,\n",
       "                                                                         SimpleImputer(),\n",
       "                                                                         [&#x27;averageRating&#x27;,\n",
       "                                                                          &#x27;numVotes&#x27;,\n",
       "                                                                          &#x27;runtimeMinutes&#x27;]),\n",
       "                                                                        (&#x27;bagofw&#x27;,\n",
       "                                                                         CountVectorizer(),\n",
       "                                                                         &#x27;genres&#x27;)])),\n",
       "                                       (&#x27;normalizer&#x27;,\n",
       "                                        StandardScaler(with_mean=False)),\n",
       "                                       (&#x27;svc&#x27;, SGDClassifier())]),\n",
       "             n_jobs=-1,\n",
       "             param_grid={&#x27;svc__alpha&#x27;: [0.01, 0.1, 1],\n",
       "                         &#x27;svc__loss&#x27;: [&#x27;hinge&#x27;, &#x27;modified_huber&#x27;]},\n",
       "             refit=&#x27;AUC&#x27;, scoring={&#x27;AUC&#x27;: &#x27;roc_auc&#x27;, &#x27;Accuracy&#x27;: &#x27;accuracy&#x27;},\n",
       "             verbose=1)</pre><b>In a Jupyter environment, please rerun this cell to show the HTML representation or trust the notebook. <br />On GitHub, the HTML representation is unable to render, please try loading this page with nbviewer.org.</b></div><div class=\"sk-container\" hidden><div class=\"sk-item sk-dashed-wrapped\"><div class=\"sk-label-container\"><div class=\"sk-label sk-toggleable\"><input class=\"sk-toggleable__control sk-hidden--visually\" id=\"sk-estimator-id-101\" type=\"checkbox\" ><label for=\"sk-estimator-id-101\" class=\"sk-toggleable__label sk-toggleable__label-arrow\">GridSearchCV</label><div class=\"sk-toggleable__content\"><pre>GridSearchCV(cv=5, error_score=&#x27;raise&#x27;,\n",
       "             estimator=Pipeline(steps=[(&#x27;transformer&#x27;,\n",
       "                                        ColumnTransformer(remainder=&#x27;passthrough&#x27;,\n",
       "                                                          transformers=[(&#x27;onehot&#x27;,\n",
       "                                                                         OneHotEncoder(drop=&#x27;first&#x27;,\n",
       "                                                                                       handle_unknown=&#x27;ignore&#x27;),\n",
       "                                                                         [&#x27;titleType&#x27;]),\n",
       "                                                                        (&#x27;imputer&#x27;,\n",
       "                                                                         SimpleImputer(),\n",
       "                                                                         [&#x27;averageRating&#x27;,\n",
       "                                                                          &#x27;numVotes&#x27;,\n",
       "                                                                          &#x27;runtimeMinutes&#x27;]),\n",
       "                                                                        (&#x27;bagofw&#x27;,\n",
       "                                                                         CountVectorizer(),\n",
       "                                                                         &#x27;genres&#x27;)])),\n",
       "                                       (&#x27;normalizer&#x27;,\n",
       "                                        StandardScaler(with_mean=False)),\n",
       "                                       (&#x27;svc&#x27;, SGDClassifier())]),\n",
       "             n_jobs=-1,\n",
       "             param_grid={&#x27;svc__alpha&#x27;: [0.01, 0.1, 1],\n",
       "                         &#x27;svc__loss&#x27;: [&#x27;hinge&#x27;, &#x27;modified_huber&#x27;]},\n",
       "             refit=&#x27;AUC&#x27;, scoring={&#x27;AUC&#x27;: &#x27;roc_auc&#x27;, &#x27;Accuracy&#x27;: &#x27;accuracy&#x27;},\n",
       "             verbose=1)</pre></div></div></div><div class=\"sk-parallel\"><div class=\"sk-parallel-item\"><div class=\"sk-item\"><div class=\"sk-label-container\"><div class=\"sk-label sk-toggleable\"><input class=\"sk-toggleable__control sk-hidden--visually\" id=\"sk-estimator-id-102\" type=\"checkbox\" ><label for=\"sk-estimator-id-102\" class=\"sk-toggleable__label sk-toggleable__label-arrow\">estimator: Pipeline</label><div class=\"sk-toggleable__content\"><pre>Pipeline(steps=[(&#x27;transformer&#x27;,\n",
       "                 ColumnTransformer(remainder=&#x27;passthrough&#x27;,\n",
       "                                   transformers=[(&#x27;onehot&#x27;,\n",
       "                                                  OneHotEncoder(drop=&#x27;first&#x27;,\n",
       "                                                                handle_unknown=&#x27;ignore&#x27;),\n",
       "                                                  [&#x27;titleType&#x27;]),\n",
       "                                                 (&#x27;imputer&#x27;, SimpleImputer(),\n",
       "                                                  [&#x27;averageRating&#x27;, &#x27;numVotes&#x27;,\n",
       "                                                   &#x27;runtimeMinutes&#x27;]),\n",
       "                                                 (&#x27;bagofw&#x27;, CountVectorizer(),\n",
       "                                                  &#x27;genres&#x27;)])),\n",
       "                (&#x27;normalizer&#x27;, StandardScaler(with_mean=False)),\n",
       "                (&#x27;svc&#x27;, SGDClassifier())])</pre></div></div></div><div class=\"sk-serial\"><div class=\"sk-item\"><div class=\"sk-serial\"><div class=\"sk-item sk-dashed-wrapped\"><div class=\"sk-label-container\"><div class=\"sk-label sk-toggleable\"><input class=\"sk-toggleable__control sk-hidden--visually\" id=\"sk-estimator-id-103\" type=\"checkbox\" ><label for=\"sk-estimator-id-103\" class=\"sk-toggleable__label sk-toggleable__label-arrow\">transformer: ColumnTransformer</label><div class=\"sk-toggleable__content\"><pre>ColumnTransformer(remainder=&#x27;passthrough&#x27;,\n",
       "                  transformers=[(&#x27;onehot&#x27;,\n",
       "                                 OneHotEncoder(drop=&#x27;first&#x27;,\n",
       "                                               handle_unknown=&#x27;ignore&#x27;),\n",
       "                                 [&#x27;titleType&#x27;]),\n",
       "                                (&#x27;imputer&#x27;, SimpleImputer(),\n",
       "                                 [&#x27;averageRating&#x27;, &#x27;numVotes&#x27;,\n",
       "                                  &#x27;runtimeMinutes&#x27;]),\n",
       "                                (&#x27;bagofw&#x27;, CountVectorizer(), &#x27;genres&#x27;)])</pre></div></div></div><div class=\"sk-parallel\"><div class=\"sk-parallel-item\"><div class=\"sk-item\"><div class=\"sk-label-container\"><div class=\"sk-label sk-toggleable\"><input class=\"sk-toggleable__control sk-hidden--visually\" id=\"sk-estimator-id-104\" type=\"checkbox\" ><label for=\"sk-estimator-id-104\" class=\"sk-toggleable__label sk-toggleable__label-arrow\">onehot</label><div class=\"sk-toggleable__content\"><pre>[&#x27;titleType&#x27;]</pre></div></div></div><div class=\"sk-serial\"><div class=\"sk-item\"><div class=\"sk-estimator sk-toggleable\"><input class=\"sk-toggleable__control sk-hidden--visually\" id=\"sk-estimator-id-105\" type=\"checkbox\" ><label for=\"sk-estimator-id-105\" class=\"sk-toggleable__label sk-toggleable__label-arrow\">OneHotEncoder</label><div class=\"sk-toggleable__content\"><pre>OneHotEncoder(drop=&#x27;first&#x27;, handle_unknown=&#x27;ignore&#x27;)</pre></div></div></div></div></div></div><div class=\"sk-parallel-item\"><div class=\"sk-item\"><div class=\"sk-label-container\"><div class=\"sk-label sk-toggleable\"><input class=\"sk-toggleable__control sk-hidden--visually\" id=\"sk-estimator-id-106\" type=\"checkbox\" ><label for=\"sk-estimator-id-106\" class=\"sk-toggleable__label sk-toggleable__label-arrow\">imputer</label><div class=\"sk-toggleable__content\"><pre>[&#x27;averageRating&#x27;, &#x27;numVotes&#x27;, &#x27;runtimeMinutes&#x27;]</pre></div></div></div><div class=\"sk-serial\"><div class=\"sk-item\"><div class=\"sk-estimator sk-toggleable\"><input class=\"sk-toggleable__control sk-hidden--visually\" id=\"sk-estimator-id-107\" type=\"checkbox\" ><label for=\"sk-estimator-id-107\" class=\"sk-toggleable__label sk-toggleable__label-arrow\">SimpleImputer</label><div class=\"sk-toggleable__content\"><pre>SimpleImputer()</pre></div></div></div></div></div></div><div class=\"sk-parallel-item\"><div class=\"sk-item\"><div class=\"sk-label-container\"><div class=\"sk-label sk-toggleable\"><input class=\"sk-toggleable__control sk-hidden--visually\" id=\"sk-estimator-id-108\" type=\"checkbox\" ><label for=\"sk-estimator-id-108\" class=\"sk-toggleable__label sk-toggleable__label-arrow\">bagofw</label><div class=\"sk-toggleable__content\"><pre>genres</pre></div></div></div><div class=\"sk-serial\"><div class=\"sk-item\"><div class=\"sk-estimator sk-toggleable\"><input class=\"sk-toggleable__control sk-hidden--visually\" id=\"sk-estimator-id-109\" type=\"checkbox\" ><label for=\"sk-estimator-id-109\" class=\"sk-toggleable__label sk-toggleable__label-arrow\">CountVectorizer</label><div class=\"sk-toggleable__content\"><pre>CountVectorizer()</pre></div></div></div></div></div></div><div class=\"sk-parallel-item\"><div class=\"sk-item\"><div class=\"sk-label-container\"><div class=\"sk-label sk-toggleable\"><input class=\"sk-toggleable__control sk-hidden--visually\" id=\"sk-estimator-id-110\" type=\"checkbox\" ><label for=\"sk-estimator-id-110\" class=\"sk-toggleable__label sk-toggleable__label-arrow\">remainder</label><div class=\"sk-toggleable__content\"><pre></pre></div></div></div><div class=\"sk-serial\"><div class=\"sk-item\"><div class=\"sk-estimator sk-toggleable\"><input class=\"sk-toggleable__control sk-hidden--visually\" id=\"sk-estimator-id-111\" type=\"checkbox\" ><label for=\"sk-estimator-id-111\" class=\"sk-toggleable__label sk-toggleable__label-arrow\">passthrough</label><div class=\"sk-toggleable__content\"><pre>passthrough</pre></div></div></div></div></div></div></div></div><div class=\"sk-item\"><div class=\"sk-estimator sk-toggleable\"><input class=\"sk-toggleable__control sk-hidden--visually\" id=\"sk-estimator-id-112\" type=\"checkbox\" ><label for=\"sk-estimator-id-112\" class=\"sk-toggleable__label sk-toggleable__label-arrow\">StandardScaler</label><div class=\"sk-toggleable__content\"><pre>StandardScaler(with_mean=False)</pre></div></div></div><div class=\"sk-item\"><div class=\"sk-estimator sk-toggleable\"><input class=\"sk-toggleable__control sk-hidden--visually\" id=\"sk-estimator-id-113\" type=\"checkbox\" ><label for=\"sk-estimator-id-113\" class=\"sk-toggleable__label sk-toggleable__label-arrow\">SGDClassifier</label><div class=\"sk-toggleable__content\"><pre>SGDClassifier()</pre></div></div></div></div></div></div></div></div></div></div></div></div>"
      ],
      "text/plain": [
       "GridSearchCV(cv=5, error_score='raise',\n",
       "             estimator=Pipeline(steps=[('transformer',\n",
       "                                        ColumnTransformer(remainder='passthrough',\n",
       "                                                          transformers=[('onehot',\n",
       "                                                                         OneHotEncoder(drop='first',\n",
       "                                                                                       handle_unknown='ignore'),\n",
       "                                                                         ['titleType']),\n",
       "                                                                        ('imputer',\n",
       "                                                                         SimpleImputer(),\n",
       "                                                                         ['averageRating',\n",
       "                                                                          'numVotes',\n",
       "                                                                          'runtimeMinutes']),\n",
       "                                                                        ('bagofw',\n",
       "                                                                         CountVectorizer(),\n",
       "                                                                         'genres')])),\n",
       "                                       ('normalizer',\n",
       "                                        StandardScaler(with_mean=False)),\n",
       "                                       ('svc', SGDClassifier())]),\n",
       "             n_jobs=-1,\n",
       "             param_grid={'svc__alpha': [0.01, 0.1, 1],\n",
       "                         'svc__loss': ['hinge', 'modified_huber']},\n",
       "             refit='AUC', scoring={'AUC': 'roc_auc', 'Accuracy': 'accuracy'},\n",
       "             verbose=1)"
      ]
     },
     "execution_count": 57,
     "metadata": {},
     "output_type": "execute_result"
    }
   ],
   "source": [
    "gs2.fit(movies_train_X, movies_train_Y)"
   ]
  },
  {
   "cell_type": "code",
   "execution_count": 58,
   "metadata": {},
   "outputs": [
    {
     "data": {
      "text/plain": [
       "0.7104997325744502"
      ]
     },
     "execution_count": 58,
     "metadata": {},
     "output_type": "execute_result"
    }
   ],
   "source": [
    "gs2.best_params_\n",
    "\n",
    "gs2.best_score_"
   ]
  },
  {
   "cell_type": "code",
   "execution_count": 59,
   "metadata": {},
   "outputs": [],
   "source": [
    "best_logistic = gs.best_estimator_\n",
    "best_svc = gs2.best_estimator_"
   ]
  },
  {
   "cell_type": "code",
   "execution_count": 76,
   "metadata": {},
   "outputs": [
    {
     "name": "stdout",
     "output_type": "stream",
     "text": [
      "Accuracy:  0.716012084592145\n",
      "AUC:  0.7643631536248986\n"
     ]
    },
    {
     "data": {
      "image/png": "[encoded data removed]",
      "text/plain": [
       "<Figure size 640x480 with 1 Axes>"
      ]
     },
     "metadata": {},
     "output_type": "display_data"
    }
   ],
   "source": [
    "best_logistic.fit(movies_train_X, movies_train_Y)\n",
    "\n",
    "from sklearn.metrics import roc_auc_score, accuracy_score\n",
    "\n",
    "y_prob_pred = best_logistic.predict_proba(movies_test_X)[:,1]\n",
    "y_pred = best_logistic.predict(movies_test_X)\n",
    "\n",
    "print(\"Accuracy: \", accuracy_score(movies_test_Y, y_pred))\n",
    "print(\"AUC: \", roc_auc_score(movies_test_Y, y_prob_pred))\n",
    "\n",
    "#plot auc curve\n",
    "from sklearn.metrics import roc_curve\n",
    "import matplotlib.pyplot as plt\n",
    "\n",
    "fpr, tpr, thresholds = roc_curve(movies_test_Y, y_prob_pred)\n",
    "\n",
    "plt.plot(fpr, tpr)\n",
    "plt.plot([0, 1], [0, 1], 'k--')\n",
    "plt.xlabel('False Positive Rate')\n",
    "plt.ylabel('True Positive Rate')\n",
    "plt.title('ROC Curve - Logistic Regression')\n",
    "plt.show()"
   ]
  },
  {
   "cell_type": "code",
   "execution_count": 73,
   "metadata": {},
   "outputs": [
    {
     "name": "stdout",
     "output_type": "stream",
     "text": [
      "AUCPR:  0.7820846498229348\n"
     ]
    },
    {
     "data": {
      "image/png": "[encoded data removed]",
      "text/plain": [
       "<Figure size 640x480 with 1 Axes>"
      ]
     },
     "metadata": {},
     "output_type": "display_data"
    },
    {
     "name": "stdout",
     "output_type": "stream",
     "text": [
      "F1 Score:  0.7403314917127072\n"
     ]
    }
   ],
   "source": [
    "#calculate precision recall\n",
    "from sklearn.metrics import precision_recall_curve\n",
    "\n",
    "precision, recall, thresholds = precision_recall_curve(movies_test_Y, y_prob_pred)\n",
    "\n",
    "#auc of precision recall curve\n",
    "from sklearn.metrics import auc\n",
    "\n",
    "print(\"AUCPR: \", auc(recall, precision))\n",
    "\n",
    "plt.plot(recall, precision)\n",
    "plt.xlabel('Recall')\n",
    "plt.ylabel('Precision')\n",
    "plt.title('Precision Recall Curve')\n",
    "plt.show()\n",
    "\n",
    "#calculate f1 score\n",
    "from sklearn.metrics import f1_score\n",
    "\n",
    "print(\"F1 Score: \", f1_score(movies_test_Y, y_pred))"
   ]
  },
  {
   "cell_type": "code",
   "execution_count": 117,
   "metadata": {},
   "outputs": [],
   "source": [
    "ohe_cols = gs.best_estimator_.named_steps['transformer'].transformers_[0][1].get_feature_names_out()\n",
    "imputer_cols = gs.best_estimator_.named_steps['transformer'].transformers_[1][2]\n",
    "bagofw_cols = [f\"genre_{i}\" for i in gs.best_estimator_.named_steps['transformer'].transformers_[2][1].get_feature_names_out()]\n",
    "remaining_cols = ['startYear', 'isAdult']\n",
    "\n",
    "feature_names = np.concatenate((ohe_cols, imputer_cols, bagofw_cols, remaining_cols))\n"
   ]
  },
  {
   "cell_type": "code",
   "execution_count": 126,
   "metadata": {},
   "outputs": [
    {
     "data": {
      "text/html": [
       "<div>\n",
       "<style scoped>\n",
       "    .dataframe tbody tr th:only-of-type {\n",
       "        vertical-align: middle;\n",
       "    }\n",
       "\n",
       "    .dataframe tbody tr th {\n",
       "        vertical-align: top;\n",
       "    }\n",
       "\n",
       "    .dataframe thead th {\n",
       "        text-align: right;\n",
       "    }\n",
       "</style>\n",
       "<table border=\"1\" class=\"dataframe\">\n",
       "  <thead>\n",
       "    <tr style=\"text-align: right;\">\n",
       "      <th></th>\n",
       "      <th>coef</th>\n",
       "    </tr>\n",
       "  </thead>\n",
       "  <tbody>\n",
       "    <tr>\n",
       "      <th>runtimeMinutes</th>\n",
       "      <td>6.477535e-03</td>\n",
       "    </tr>\n",
       "    <tr>\n",
       "      <th>numVotes</th>\n",
       "      <td>3.964755e-05</td>\n",
       "    </tr>\n",
       "    <tr>\n",
       "      <th>genre_crime</th>\n",
       "      <td>3.819762e-05</td>\n",
       "    </tr>\n",
       "    <tr>\n",
       "      <th>genre_drama</th>\n",
       "      <td>3.404992e-05</td>\n",
       "    </tr>\n",
       "    <tr>\n",
       "      <th>titleType_tvSeries</th>\n",
       "      <td>2.663100e-05</td>\n",
       "    </tr>\n",
       "    <tr>\n",
       "      <th>genre_action</th>\n",
       "      <td>2.321647e-05</td>\n",
       "    </tr>\n",
       "    <tr>\n",
       "      <th>genre_romance</th>\n",
       "      <td>2.008775e-05</td>\n",
       "    </tr>\n",
       "    <tr>\n",
       "      <th>titleType_tvMiniSeries</th>\n",
       "      <td>1.803205e-05</td>\n",
       "    </tr>\n",
       "    <tr>\n",
       "      <th>genre_biography</th>\n",
       "      <td>1.420744e-05</td>\n",
       "    </tr>\n",
       "    <tr>\n",
       "      <th>genre_adventure</th>\n",
       "      <td>1.241592e-05</td>\n",
       "    </tr>\n",
       "    <tr>\n",
       "      <th>genre_family</th>\n",
       "      <td>6.651545e-06</td>\n",
       "    </tr>\n",
       "    <tr>\n",
       "      <th>genre_thriller</th>\n",
       "      <td>5.818583e-06</td>\n",
       "    </tr>\n",
       "    <tr>\n",
       "      <th>genre_fantasy</th>\n",
       "      <td>5.795524e-06</td>\n",
       "    </tr>\n",
       "    <tr>\n",
       "      <th>genre_history</th>\n",
       "      <td>1.497044e-06</td>\n",
       "    </tr>\n",
       "    <tr>\n",
       "      <th>genre_war</th>\n",
       "      <td>4.807371e-07</td>\n",
       "    </tr>\n",
       "    <tr>\n",
       "      <th>genre_animation</th>\n",
       "      <td>3.985963e-07</td>\n",
       "    </tr>\n",
       "    <tr>\n",
       "      <th>genre_reality</th>\n",
       "      <td>9.641324e-08</td>\n",
       "    </tr>\n",
       "    <tr>\n",
       "      <th>genre_tv</th>\n",
       "      <td>9.641324e-08</td>\n",
       "    </tr>\n",
       "    <tr>\n",
       "      <th>genre_western</th>\n",
       "      <td>1.458649e-09</td>\n",
       "    </tr>\n",
       "    <tr>\n",
       "      <th>isAdult</th>\n",
       "      <td>0.000000e+00</td>\n",
       "    </tr>\n",
       "    <tr>\n",
       "      <th>genre_show</th>\n",
       "      <td>-4.947778e-08</td>\n",
       "    </tr>\n",
       "    <tr>\n",
       "      <th>genre_talk</th>\n",
       "      <td>-4.947778e-08</td>\n",
       "    </tr>\n",
       "    <tr>\n",
       "      <th>titleType_tvEpisode</th>\n",
       "      <td>-9.607528e-07</td>\n",
       "    </tr>\n",
       "    <tr>\n",
       "      <th>genre_news</th>\n",
       "      <td>-1.124098e-06</td>\n",
       "    </tr>\n",
       "    <tr>\n",
       "      <th>genre_musical</th>\n",
       "      <td>-1.374770e-06</td>\n",
       "    </tr>\n",
       "    <tr>\n",
       "      <th>genre_mystery</th>\n",
       "      <td>-1.422774e-06</td>\n",
       "    </tr>\n",
       "    <tr>\n",
       "      <th>titleType_tvShort</th>\n",
       "      <td>-1.934692e-06</td>\n",
       "    </tr>\n",
       "    <tr>\n",
       "      <th>genre_music</th>\n",
       "      <td>-2.394399e-06</td>\n",
       "    </tr>\n",
       "    <tr>\n",
       "      <th>titleType_tvMovie</th>\n",
       "      <td>-2.845200e-06</td>\n",
       "    </tr>\n",
       "    <tr>\n",
       "      <th>genre_sport</th>\n",
       "      <td>-3.385841e-06</td>\n",
       "    </tr>\n",
       "    <tr>\n",
       "      <th>genre_fi</th>\n",
       "      <td>-6.097516e-06</td>\n",
       "    </tr>\n",
       "    <tr>\n",
       "      <th>genre_sci</th>\n",
       "      <td>-6.097516e-06</td>\n",
       "    </tr>\n",
       "    <tr>\n",
       "      <th>genre_horror</th>\n",
       "      <td>-9.500525e-06</td>\n",
       "    </tr>\n",
       "    <tr>\n",
       "      <th>titleType_short</th>\n",
       "      <td>-1.571379e-05</td>\n",
       "    </tr>\n",
       "    <tr>\n",
       "      <th>genre_short</th>\n",
       "      <td>-1.687947e-05</td>\n",
       "    </tr>\n",
       "    <tr>\n",
       "      <th>genre_comedy</th>\n",
       "      <td>-2.184094e-05</td>\n",
       "    </tr>\n",
       "    <tr>\n",
       "      <th>genre_documentary</th>\n",
       "      <td>-2.237900e-05</td>\n",
       "    </tr>\n",
       "    <tr>\n",
       "      <th>averageRating</th>\n",
       "      <td>-3.737439e-05</td>\n",
       "    </tr>\n",
       "    <tr>\n",
       "      <th>titleType_tvSpecial</th>\n",
       "      <td>-5.311054e-05</td>\n",
       "    </tr>\n",
       "    <tr>\n",
       "      <th>startYear</th>\n",
       "      <td>-3.557694e-04</td>\n",
       "    </tr>\n",
       "  </tbody>\n",
       "</table>\n",
       "</div>"
      ],
      "text/plain": [
       "                                coef\n",
       "runtimeMinutes          6.477535e-03\n",
       "numVotes                3.964755e-05\n",
       "genre_crime             3.819762e-05\n",
       "genre_drama             3.404992e-05\n",
       "titleType_tvSeries      2.663100e-05\n",
       "genre_action            2.321647e-05\n",
       "genre_romance           2.008775e-05\n",
       "titleType_tvMiniSeries  1.803205e-05\n",
       "genre_biography         1.420744e-05\n",
       "genre_adventure         1.241592e-05\n",
       "genre_family            6.651545e-06\n",
       "genre_thriller          5.818583e-06\n",
       "genre_fantasy           5.795524e-06\n",
       "genre_history           1.497044e-06\n",
       "genre_war               4.807371e-07\n",
       "genre_animation         3.985963e-07\n",
       "genre_reality           9.641324e-08\n",
       "genre_tv                9.641324e-08\n",
       "genre_western           1.458649e-09\n",
       "isAdult                 0.000000e+00\n",
       "genre_show             -4.947778e-08\n",
       "genre_talk             -4.947778e-08\n",
       "titleType_tvEpisode    -9.607528e-07\n",
       "genre_news             -1.124098e-06\n",
       "genre_musical          -1.374770e-06\n",
       "genre_mystery          -1.422774e-06\n",
       "titleType_tvShort      -1.934692e-06\n",
       "genre_music            -2.394399e-06\n",
       "titleType_tvMovie      -2.845200e-06\n",
       "genre_sport            -3.385841e-06\n",
       "genre_fi               -6.097516e-06\n",
       "genre_sci              -6.097516e-06\n",
       "genre_horror           -9.500525e-06\n",
       "titleType_short        -1.571379e-05\n",
       "genre_short            -1.687947e-05\n",
       "genre_comedy           -2.184094e-05\n",
       "genre_documentary      -2.237900e-05\n",
       "averageRating          -3.737439e-05\n",
       "titleType_tvSpecial    -5.311054e-05\n",
       "startYear              -3.557694e-04"
      ]
     },
     "execution_count": 126,
     "metadata": {},
     "output_type": "execute_result"
    }
   ],
   "source": [
    "#create dataframe of coefficients\n",
    "coef_df = pd.DataFrame(\n",
    "    data=best_logistic.named_steps['logistic_regress'].coef_.T,\n",
    "    index=feature_names,\n",
    "    columns=['coef']\n",
    ")\n",
    "coef_df.sort_values(by='coef', ascending=False)"
   ]
  },
  {
   "cell_type": "code",
   "execution_count": null,
   "metadata": {},
   "outputs": [],
   "source": []
  }
 ],
 "metadata": {
  "kernelspec": {
   "display_name": "Python 3.10.4 ('netflix_proj')",
   "language": "python",
   "name": "python3"
  },
  "language_info": {
   "codemirror_mode": {
    "name": "ipython",
    "version": 3
   },
   "file_extension": ".py",
   "mimetype": "text/x-python",
   "name": "python",
   "nbconvert_exporter": "python",
   "pygments_lexer": "ipython3",
   "version": "3.10.4"
  },
  "orig_nbformat": 4,
  "vscode": {
   "interpreter": {
    "hash": "a9958285388ffb0985a92a2fa62daaced4f70ddc8281d758effbeb55efac45cc"
   }
  }
 },
 "nbformat": 4,
 "nbformat_minor": 2
}
