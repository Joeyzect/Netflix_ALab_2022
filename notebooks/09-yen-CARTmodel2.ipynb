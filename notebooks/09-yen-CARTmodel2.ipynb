{
 "cells": [
  {
   "cell_type": "code",
   "execution_count": 2,
   "metadata": {},
   "outputs": [],
   "source": [
    "import numpy as np\n",
    "import pandas as pd\n",
    "import matplotlib.pyplot as plt"
   ]
  },
  {
   "cell_type": "code",
   "execution_count": 3,
   "metadata": {},
   "outputs": [],
   "source": [
    "netflix = pd.read_csv('/Users/yenhann/Documents/MIT/15.572 Analytics Lab/Datasets/complete_manually_cleaned_data.csv')\n",
    "ratings = pd.read_csv('/Users/yenhann/Documents/MIT/15.572 Analytics Lab/Datasets/title.ratings.tsv', sep='\\t')\n",
    "\n",
    "df = netflix.merge(ratings, how='left', on='tconst')\n",
    "\n",
    "#My Wonderful Life Manually added data\n",
    "\n",
    "df.loc[df['title']=='my wonderful life', 'averageRating'] = 5.9\n",
    "df.loc[df['title']=='my wonderful life', 'numVotes'] = 714\n",
    "df.loc[df['title']=='my wonderful life', 'titleType'] = 'movie'\n",
    "df.loc[df['title']=='my wonderful life', 'runtimeMinutes'] = 99\n",
    "df.loc[df['title']=='my wonderful life', 'isAdult'] = 0\n",
    "df.loc[df['title']=='my wonderful life', 'genres'] = 'Comedy,Drama,Romance'"
   ]
  },
  {
   "cell_type": "code",
   "execution_count": 4,
   "metadata": {},
   "outputs": [],
   "source": [
    "df['is_top10'] = df['is_top10'].astype(int)\n",
    "df.replace('\\\\N', np.nan, inplace=True)"
   ]
  },
  {
   "cell_type": "code",
   "execution_count": 5,
   "metadata": {},
   "outputs": [],
   "source": [
    "movies, tv_shows = df[df['is_tv_show']==False], df[df['is_tv_show']==True]"
   ]
  },
  {
   "cell_type": "markdown",
   "metadata": {},
   "source": [
    "# Movies"
   ]
  },
  {
   "cell_type": "markdown",
   "metadata": {},
   "source": [
    "## Data Preparation"
   ]
  },
  {
   "cell_type": "code",
   "execution_count": 6,
   "metadata": {},
   "outputs": [],
   "source": [
    "# drop columns that are not needed\n",
    "movies = movies.drop(['tconst', 'release_date','combined_title', 'title', 'season', 'is_tv_show', 'isAdult'], axis = 1)"
   ]
  },
  {
   "cell_type": "code",
   "execution_count": 7,
   "metadata": {},
   "outputs": [
    {
     "data": {
      "text/html": [
       "<div>\n",
       "<style scoped>\n",
       "    .dataframe tbody tr th:only-of-type {\n",
       "        vertical-align: middle;\n",
       "    }\n",
       "\n",
       "    .dataframe tbody tr th {\n",
       "        vertical-align: top;\n",
       "    }\n",
       "\n",
       "    .dataframe thead th {\n",
       "        text-align: right;\n",
       "    }\n",
       "</style>\n",
       "<table border=\"1\" class=\"dataframe\">\n",
       "  <thead>\n",
       "    <tr style=\"text-align: right;\">\n",
       "      <th></th>\n",
       "      <th>release_year</th>\n",
       "      <th>is_top10</th>\n",
       "      <th>averageRating_x</th>\n",
       "      <th>numVotes_x</th>\n",
       "      <th>titleType</th>\n",
       "      <th>runtimeMinutes</th>\n",
       "      <th>genres</th>\n",
       "      <th>averageRating_y</th>\n",
       "      <th>numVotes_y</th>\n",
       "      <th>averageRating</th>\n",
       "      <th>numVotes</th>\n",
       "    </tr>\n",
       "  </thead>\n",
       "  <tbody>\n",
       "    <tr>\n",
       "      <th>2</th>\n",
       "      <td>2020</td>\n",
       "      <td>0</td>\n",
       "      <td>6.1</td>\n",
       "      <td>856.0</td>\n",
       "      <td>movie</td>\n",
       "      <td>100</td>\n",
       "      <td>Comedy,Family</td>\n",
       "      <td>6.1</td>\n",
       "      <td>856.0</td>\n",
       "      <td>NaN</td>\n",
       "      <td>NaN</td>\n",
       "    </tr>\n",
       "    <tr>\n",
       "      <th>4</th>\n",
       "      <td>2021</td>\n",
       "      <td>1</td>\n",
       "      <td>5.8</td>\n",
       "      <td>1531.0</td>\n",
       "      <td>movie</td>\n",
       "      <td>102</td>\n",
       "      <td>Comedy,Romance</td>\n",
       "      <td>5.8</td>\n",
       "      <td>1531.0</td>\n",
       "      <td>NaN</td>\n",
       "      <td>NaN</td>\n",
       "    </tr>\n",
       "    <tr>\n",
       "      <th>5</th>\n",
       "      <td>2022</td>\n",
       "      <td>1</td>\n",
       "      <td>6.9</td>\n",
       "      <td>1928.0</td>\n",
       "      <td>movie</td>\n",
       "      <td>92</td>\n",
       "      <td>Documentary</td>\n",
       "      <td>6.9</td>\n",
       "      <td>1928.0</td>\n",
       "      <td>NaN</td>\n",
       "      <td>NaN</td>\n",
       "    </tr>\n",
       "    <tr>\n",
       "      <th>7</th>\n",
       "      <td>2021</td>\n",
       "      <td>1</td>\n",
       "      <td>6.3</td>\n",
       "      <td>932.0</td>\n",
       "      <td>movie</td>\n",
       "      <td>104</td>\n",
       "      <td>Crime,Documentary</td>\n",
       "      <td>6.3</td>\n",
       "      <td>932.0</td>\n",
       "      <td>NaN</td>\n",
       "      <td>NaN</td>\n",
       "    </tr>\n",
       "    <tr>\n",
       "      <th>8</th>\n",
       "      <td>2022</td>\n",
       "      <td>0</td>\n",
       "      <td>5.2</td>\n",
       "      <td>621.0</td>\n",
       "      <td>movie</td>\n",
       "      <td>91</td>\n",
       "      <td>Comedy,Drama,Family</td>\n",
       "      <td>5.2</td>\n",
       "      <td>621.0</td>\n",
       "      <td>NaN</td>\n",
       "      <td>NaN</td>\n",
       "    </tr>\n",
       "    <tr>\n",
       "      <th>...</th>\n",
       "      <td>...</td>\n",
       "      <td>...</td>\n",
       "      <td>...</td>\n",
       "      <td>...</td>\n",
       "      <td>...</td>\n",
       "      <td>...</td>\n",
       "      <td>...</td>\n",
       "      <td>...</td>\n",
       "      <td>...</td>\n",
       "      <td>...</td>\n",
       "      <td>...</td>\n",
       "    </tr>\n",
       "    <tr>\n",
       "      <th>2216</th>\n",
       "      <td>2022</td>\n",
       "      <td>0</td>\n",
       "      <td>6.5</td>\n",
       "      <td>46.0</td>\n",
       "      <td>tvSpecial</td>\n",
       "      <td>59</td>\n",
       "      <td>Comedy,Documentary</td>\n",
       "      <td>6.5</td>\n",
       "      <td>46.0</td>\n",
       "      <td>NaN</td>\n",
       "      <td>NaN</td>\n",
       "    </tr>\n",
       "    <tr>\n",
       "      <th>2218</th>\n",
       "      <td>2021</td>\n",
       "      <td>1</td>\n",
       "      <td>6.7</td>\n",
       "      <td>925.0</td>\n",
       "      <td>movie</td>\n",
       "      <td>102</td>\n",
       "      <td>Biography,Drama,Sport</td>\n",
       "      <td>6.7</td>\n",
       "      <td>925.0</td>\n",
       "      <td>NaN</td>\n",
       "      <td>NaN</td>\n",
       "    </tr>\n",
       "    <tr>\n",
       "      <th>2220</th>\n",
       "      <td>2020</td>\n",
       "      <td>0</td>\n",
       "      <td>6.3</td>\n",
       "      <td>2648.0</td>\n",
       "      <td>movie</td>\n",
       "      <td>97</td>\n",
       "      <td>Documentary,Music</td>\n",
       "      <td>6.3</td>\n",
       "      <td>2648.0</td>\n",
       "      <td>NaN</td>\n",
       "      <td>NaN</td>\n",
       "    </tr>\n",
       "    <tr>\n",
       "      <th>2223</th>\n",
       "      <td>2021</td>\n",
       "      <td>1</td>\n",
       "      <td>7.5</td>\n",
       "      <td>103877.0</td>\n",
       "      <td>movie</td>\n",
       "      <td>120</td>\n",
       "      <td>Biography,Drama,Musical</td>\n",
       "      <td>7.5</td>\n",
       "      <td>103877.0</td>\n",
       "      <td>NaN</td>\n",
       "      <td>NaN</td>\n",
       "    </tr>\n",
       "    <tr>\n",
       "      <th>2224</th>\n",
       "      <td>2020</td>\n",
       "      <td>0</td>\n",
       "      <td>5.5</td>\n",
       "      <td>811.0</td>\n",
       "      <td>movie</td>\n",
       "      <td>106</td>\n",
       "      <td>Crime,Drama</td>\n",
       "      <td>5.5</td>\n",
       "      <td>811.0</td>\n",
       "      <td>NaN</td>\n",
       "      <td>NaN</td>\n",
       "    </tr>\n",
       "  </tbody>\n",
       "</table>\n",
       "<p>918 rows × 11 columns</p>\n",
       "</div>"
      ],
      "text/plain": [
       "      release_year  is_top10  averageRating_x  numVotes_x  titleType  \\\n",
       "2             2020         0              6.1       856.0      movie   \n",
       "4             2021         1              5.8      1531.0      movie   \n",
       "5             2022         1              6.9      1928.0      movie   \n",
       "7             2021         1              6.3       932.0      movie   \n",
       "8             2022         0              5.2       621.0      movie   \n",
       "...            ...       ...              ...         ...        ...   \n",
       "2216          2022         0              6.5        46.0  tvSpecial   \n",
       "2218          2021         1              6.7       925.0      movie   \n",
       "2220          2020         0              6.3      2648.0      movie   \n",
       "2223          2021         1              7.5    103877.0      movie   \n",
       "2224          2020         0              5.5       811.0      movie   \n",
       "\n",
       "     runtimeMinutes                   genres  averageRating_y  numVotes_y  \\\n",
       "2               100            Comedy,Family              6.1       856.0   \n",
       "4               102           Comedy,Romance              5.8      1531.0   \n",
       "5                92              Documentary              6.9      1928.0   \n",
       "7               104        Crime,Documentary              6.3       932.0   \n",
       "8                91      Comedy,Drama,Family              5.2       621.0   \n",
       "...             ...                      ...              ...         ...   \n",
       "2216             59       Comedy,Documentary              6.5        46.0   \n",
       "2218            102    Biography,Drama,Sport              6.7       925.0   \n",
       "2220             97        Documentary,Music              6.3      2648.0   \n",
       "2223            120  Biography,Drama,Musical              7.5    103877.0   \n",
       "2224            106              Crime,Drama              5.5       811.0   \n",
       "\n",
       "      averageRating  numVotes  \n",
       "2               NaN       NaN  \n",
       "4               NaN       NaN  \n",
       "5               NaN       NaN  \n",
       "7               NaN       NaN  \n",
       "8               NaN       NaN  \n",
       "...             ...       ...  \n",
       "2216            NaN       NaN  \n",
       "2218            NaN       NaN  \n",
       "2220            NaN       NaN  \n",
       "2223            NaN       NaN  \n",
       "2224            NaN       NaN  \n",
       "\n",
       "[918 rows x 11 columns]"
      ]
     },
     "execution_count": 7,
     "metadata": {},
     "output_type": "execute_result"
    }
   ],
   "source": [
    "movies.columns\n",
    "movies"
   ]
  },
  {
   "cell_type": "code",
   "execution_count": 8,
   "metadata": {},
   "outputs": [],
   "source": [
    "movies = movies[['release_year','is_top10', 'averageRating_x', 'numVotes_x','titleType','runtimeMinutes','genres']]"
   ]
  },
  {
   "cell_type": "code",
   "execution_count": 9,
   "metadata": {},
   "outputs": [],
   "source": [
    "movies = movies.rename(columns = {'averageRating_x': 'averageRating', 'numVotes_x': 'numVotes'})"
   ]
  },
  {
   "cell_type": "code",
   "execution_count": 10,
   "metadata": {},
   "outputs": [],
   "source": [
    "movies = movies.reset_index(drop = True)"
   ]
  },
  {
   "cell_type": "code",
   "execution_count": 11,
   "metadata": {},
   "outputs": [
    {
     "data": {
      "text/plain": [
       "release_year      0\n",
       "is_top10          0\n",
       "averageRating     4\n",
       "numVotes          4\n",
       "titleType         0\n",
       "runtimeMinutes    5\n",
       "genres            0\n",
       "dtype: int64"
      ]
     },
     "execution_count": 11,
     "metadata": {},
     "output_type": "execute_result"
    }
   ],
   "source": [
    "movies.isna().sum()"
   ]
  },
  {
   "cell_type": "code",
   "execution_count": 12,
   "metadata": {},
   "outputs": [
    {
     "data": {
      "text/plain": [
       "movie        742\n",
       "tvSpecial    130\n",
       "short         46\n",
       "Name: titleType, dtype: int64"
      ]
     },
     "execution_count": 12,
     "metadata": {},
     "output_type": "execute_result"
    }
   ],
   "source": [
    "movies.titleType.value_counts()"
   ]
  },
  {
   "cell_type": "markdown",
   "metadata": {},
   "source": [
    "### Impute averageRating, numVotes, and runtimeMinutes with Mean"
   ]
  },
  {
   "cell_type": "code",
   "execution_count": 13,
   "metadata": {},
   "outputs": [],
   "source": [
    "from sklearn.model_selection import train_test_split\n",
    "movies_train, movies_test = train_test_split(movies, test_size=0.3, random_state=100)\n",
    "\n",
    "# Training set\n",
    "movies_train_X = movies_train.drop(['is_top10'], axis = 1)\n",
    "movies_train_Y = movies_train['is_top10']\n",
    "\n",
    "# Test set\n",
    "movies_test_X = movies_test.drop(['is_top10'], axis = 1)\n",
    "movies_test_Y = movies_test['is_top10']"
   ]
  },
  {
   "cell_type": "code",
   "execution_count": 14,
   "metadata": {},
   "outputs": [],
   "source": [
    "from sklearn.preprocessing import OneHotEncoder\n",
    "from sklearn.compose import ColumnTransformer\n",
    "from sklearn.impute import SimpleImputer\n",
    "from sklearn.feature_extraction.text import CountVectorizer"
   ]
  },
  {
   "cell_type": "code",
   "execution_count": 15,
   "metadata": {},
   "outputs": [],
   "source": [
    "transformer = ColumnTransformer(\n",
    "    [(\"onehot\",OneHotEncoder(drop='first', handle_unknown='ignore'), ['titleType']),                # One hot encode title types\n",
    "    (\"imputer\", SimpleImputer(strategy='mean'), ['averageRating', 'numVotes', 'runtimeMinutes']),   # Impute missing ratings, votes, and runtime with the average\n",
    "    (\"bagofw\", CountVectorizer(), 'genres')                                                         # Splits genres into bag of words and encode them\n",
    "    ],\n",
    "    remainder='passthrough')"
   ]
  },
  {
   "cell_type": "markdown",
   "metadata": {},
   "source": [
    "### Model 1 : Decision Tree"
   ]
  },
  {
   "cell_type": "code",
   "execution_count": 37,
   "metadata": {},
   "outputs": [],
   "source": [
    "from sklearn.pipeline import Pipeline\n",
    "from sklearn.feature_selection import SelectFromModel\n",
    "from sklearn import tree\n",
    "import sklearn.preprocessing\n",
    "import sklearn.linear_model\n",
    "\n",
    "# make sklearn pipeline with transform, normalization, and model (CART)\n",
    "pipeTree = Pipeline(\n",
    "    steps=[\n",
    "        ('transformer', transformer),                                                       # Transform dataset                \n",
    "        # ('normalizer', sklearn.preprocessing.Normalizer()),                                 # Normalise features\n",
    "        # ('standardizer', sklearn.preprocessing.StandardScaler(with_mean=False)),            # Rescale dataset\n",
    "        ('decisiontree', sklearn.tree.DecisionTreeClassifier())                             # Build Decision Tree model\n",
    "    ]\n",
    ")    "
   ]
  },
  {
   "cell_type": "code",
   "execution_count": 38,
   "metadata": {},
   "outputs": [],
   "source": [
    "# use grid search to cross validate tree model - 5-fold cross validation\n",
    "from sklearn.model_selection import GridSearchCV\n",
    "\n",
    "gsTree = GridSearchCV(\n",
    "    pipeTree,\n",
    "    param_grid={\n",
    "        'decisiontree__max_depth': [5, 6, 7, 8, 9, 10],\n",
    "        'decisiontree__min_samples_leaf': [1, 5, 10, 15, 20],\n",
    "        'decisiontree__criterion': ['gini', 'entropy', 'log_loss'],\n",
    "    },\n",
    "    scoring={\"AUC\": \"roc_auc\", \"Accuracy\": \"accuracy\"},\n",
    "    refit=\"AUC\",\n",
    "    cv=5,\n",
    "    verbose=0,\n",
    "    n_jobs=-1,\n",
    ")"
   ]
  },
  {
   "cell_type": "code",
   "execution_count": 39,
   "metadata": {},
   "outputs": [
    {
     "name": "stderr",
     "output_type": "stream",
     "text": [
      "/Users/yenhann/opt/anaconda3/lib/python3.9/site-packages/sklearn/model_selection/_validation.py:372: FitFailedWarning: \n",
      "150 fits failed out of a total of 450.\n",
      "The score on these train-test partitions for these parameters will be set to nan.\n",
      "If these failures are not expected, you can try to debug them by setting error_score='raise'.\n",
      "\n",
      "Below are more details about the failures:\n",
      "--------------------------------------------------------------------------------\n",
      "150 fits failed with the following error:\n",
      "Traceback (most recent call last):\n",
      "  File \"/Users/yenhann/opt/anaconda3/lib/python3.9/site-packages/sklearn/model_selection/_validation.py\", line 680, in _fit_and_score\n",
      "    estimator.fit(X_train, y_train, **fit_params)\n",
      "  File \"/Users/yenhann/opt/anaconda3/lib/python3.9/site-packages/sklearn/pipeline.py\", line 394, in fit\n",
      "    self._final_estimator.fit(Xt, y, **fit_params_last_step)\n",
      "  File \"/Users/yenhann/opt/anaconda3/lib/python3.9/site-packages/sklearn/tree/_classes.py\", line 937, in fit\n",
      "    super().fit(\n",
      "  File \"/Users/yenhann/opt/anaconda3/lib/python3.9/site-packages/sklearn/tree/_classes.py\", line 352, in fit\n",
      "    criterion = CRITERIA_CLF[self.criterion](\n",
      "KeyError: 'log_loss'\n",
      "\n",
      "  warnings.warn(some_fits_failed_message, FitFailedWarning)\n",
      "/Users/yenhann/opt/anaconda3/lib/python3.9/site-packages/sklearn/model_selection/_search.py:969: UserWarning: One or more of the test scores are non-finite: [0.74582481 0.75711708 0.76605321 0.74599034 0.75149119 0.7217814\n",
      " 0.7429085  0.73835216 0.73966006 0.75396313 0.6932154  0.72263534\n",
      " 0.74163043 0.73742931 0.75031827 0.68534918 0.71837525 0.73636864\n",
      " 0.7398501  0.74883028 0.67998615 0.71834612 0.73674197 0.7415125\n",
      " 0.748144   0.66688868 0.71301115 0.73576726 0.73763498 0.74870063\n",
      " 0.72906401 0.74099354 0.74679312 0.75710323 0.75813832 0.71384236\n",
      " 0.74103758 0.74012965 0.75655335 0.76577046 0.70311203 0.73823636\n",
      " 0.74277423 0.75246128 0.76320581 0.69284207 0.73383951 0.73870631\n",
      " 0.75263285 0.76237248 0.68749964 0.72867221 0.73816248 0.75117043\n",
      " 0.76220091 0.67789606 0.73002948 0.73808717 0.75395602 0.76220091\n",
      "        nan        nan        nan        nan        nan        nan\n",
      "        nan        nan        nan        nan        nan        nan\n",
      "        nan        nan        nan        nan        nan        nan\n",
      "        nan        nan        nan        nan        nan        nan\n",
      "        nan        nan        nan        nan        nan        nan]\n",
      "  warnings.warn(\n",
      "/Users/yenhann/opt/anaconda3/lib/python3.9/site-packages/sklearn/model_selection/_search.py:969: UserWarning: One or more of the test scores are non-finite: [0.68064438 0.66511628 0.68533188 0.69007994 0.70092054 0.67916667\n",
      " 0.66665455 0.68685804 0.69937016 0.71179748 0.66510417 0.66200339\n",
      " 0.69462209 0.70405766 0.71179748 0.6588905  0.65270107 0.68374516\n",
      " 0.70405766 0.71179748 0.6682655  0.64798934 0.68374516 0.70405766\n",
      " 0.71179748 0.66673934 0.65106589 0.68528343 0.70405766 0.71179748\n",
      " 0.69003149 0.68541667 0.67915455 0.69786822 0.72582364 0.67610223\n",
      " 0.67450339 0.6884811  0.71185804 0.73670058 0.679203   0.69007994\n",
      " 0.70404554 0.71185804 0.73670058 0.66677568 0.67757994 0.68384205\n",
      " 0.71185804 0.73670058 0.67141473 0.67292878 0.67914244 0.71185804\n",
      " 0.73670058 0.67294089 0.67296512 0.67914244 0.70717054 0.73670058\n",
      "        nan        nan        nan        nan        nan        nan\n",
      "        nan        nan        nan        nan        nan        nan\n",
      "        nan        nan        nan        nan        nan        nan\n",
      "        nan        nan        nan        nan        nan        nan\n",
      "        nan        nan        nan        nan        nan        nan]\n",
      "  warnings.warn(\n"
     ]
    },
    {
     "data": {
      "text/plain": [
       "GridSearchCV(cv=5,\n",
       "             estimator=Pipeline(steps=[('transformer',\n",
       "                                        ColumnTransformer(remainder='passthrough',\n",
       "                                                          transformers=[('onehot',\n",
       "                                                                         OneHotEncoder(drop='first',\n",
       "                                                                                       handle_unknown='ignore'),\n",
       "                                                                         ['titleType']),\n",
       "                                                                        ('imputer',\n",
       "                                                                         SimpleImputer(),\n",
       "                                                                         ['averageRating',\n",
       "                                                                          'numVotes',\n",
       "                                                                          'runtimeMinutes']),\n",
       "                                                                        ('bagofw',\n",
       "                                                                         CountVectorizer(),\n",
       "                                                                         'genres')])),\n",
       "                                       ('standardizer',\n",
       "                                        StandardScaler(with_mean=False)),\n",
       "                                       ('decisiontree',\n",
       "                                        DecisionTreeClassifier())]),\n",
       "             n_jobs=-1,\n",
       "             param_grid={'decisiontree__criterion': ['gini', 'entropy',\n",
       "                                                     'log_loss'],\n",
       "                         'decisiontree__max_depth': [5, 6, 7, 8, 9, 10],\n",
       "                         'decisiontree__min_samples_leaf': [1, 5, 10, 15, 20]},\n",
       "             refit='AUC', scoring={'AUC': 'roc_auc', 'Accuracy': 'accuracy'})"
      ]
     },
     "execution_count": 39,
     "metadata": {},
     "output_type": "execute_result"
    }
   ],
   "source": [
    "gsTree.fit(movies_train_X, movies_train_Y)"
   ]
  },
  {
   "cell_type": "code",
   "execution_count": 40,
   "metadata": {},
   "outputs": [],
   "source": [
    "# retrieve the best parameters and estimators returned by the grid search cross validation step\n",
    "gsTree.best_params_\n",
    "gsTree.best_score_\n",
    "best_decisiontree = gsTree.best_estimator_"
   ]
  },
  {
   "cell_type": "code",
   "execution_count": 41,
   "metadata": {},
   "outputs": [
    {
     "name": "stdout",
     "output_type": "stream",
     "text": [
      "Accuracy:  0.7318840579710145\n",
      "AUC:  0.7759191176470588\n"
     ]
    },
    {
     "data": {
      "image/png": "[encoded data removed]",
      "text/plain": [
       "<Figure size 432x288 with 1 Axes>"
      ]
     },
     "metadata": {
      "needs_background": "light"
     },
     "output_type": "display_data"
    }
   ],
   "source": [
    "best_decisiontree.fit(movies_train_X, movies_train_Y)\n",
    "\n",
    "from sklearn.metrics import roc_auc_score, accuracy_score\n",
    "\n",
    "y_prob_pred = best_decisiontree.predict_proba(movies_test_X)[:,1]\n",
    "y_pred = best_decisiontree.predict(movies_test_X)\n",
    "\n",
    "print(\"Accuracy: \", accuracy_score(movies_test_Y, y_pred))\n",
    "print(\"AUC: \", roc_auc_score(movies_test_Y, y_prob_pred))\n",
    "\n",
    "#plot auc curve\n",
    "from sklearn.metrics import roc_curve\n",
    "import matplotlib.pyplot as plt\n",
    "\n",
    "fpr, tpr, thresholds = roc_curve(movies_test_Y, y_prob_pred)\n",
    "\n",
    "plt.plot(fpr, tpr)\n",
    "plt.plot([0, 1], [0, 1], 'k--')\n",
    "plt.xlabel('False Positive Rate')\n",
    "plt.ylabel('True Positive Rate')\n",
    "plt.title('ROC Curve - CART')\n",
    "plt.show()"
   ]
  },
  {
   "cell_type": "code",
   "execution_count": 42,
   "metadata": {},
   "outputs": [
    {
     "name": "stdout",
     "output_type": "stream",
     "text": [
      "AUCPR:  0.7638057365680034\n"
     ]
    },
    {
     "data": {
      "image/png": "[encoded data removed]",
      "text/plain": [
       "<Figure size 432x288 with 1 Axes>"
      ]
     },
     "metadata": {
      "needs_background": "light"
     },
     "output_type": "display_data"
    },
    {
     "name": "stdout",
     "output_type": "stream",
     "text": [
      "F1 Score:  0.7279411764705882\n"
     ]
    }
   ],
   "source": [
    "#calculate precision recall\n",
    "from sklearn.metrics import precision_recall_curve\n",
    "\n",
    "precision, recall, thresholds = precision_recall_curve(movies_test_Y, y_prob_pred)\n",
    "\n",
    "#auc of precision recall curve\n",
    "from sklearn.metrics import auc\n",
    "\n",
    "print(\"AUCPR: \", auc(recall, precision))\n",
    "\n",
    "plt.plot(recall, precision)\n",
    "plt.xlabel('Recall')\n",
    "plt.ylabel('Precision')\n",
    "plt.title('Precision Recall Curve')\n",
    "plt.show()\n",
    "\n",
    "#calculate f1 score\n",
    "from sklearn.metrics import f1_score\n",
    "\n",
    "print(\"F1 Score: \", f1_score(movies_test_Y, y_pred))"
   ]
  },
  {
   "cell_type": "markdown",
   "metadata": {},
   "source": [
    "### Model 2 : Random Forest"
   ]
  },
  {
   "cell_type": "code",
   "execution_count": null,
   "metadata": {},
   "outputs": [],
   "source": [
    "# make sklearn pipeline with transform, normalization, and model (RF)\n",
    "from sklean.ensemble import RandomForestClassifier\n",
    "\n",
    "pipeRF = Pipeline(\n",
    "    steps=[\n",
    "        ('transformer', transformer),                                                       # Transform dataset                \n",
    "        ('normalizer', sklearn.preprocessing.Normalizer()),                                 # Normalise features\n",
    "        ('standardizer', sklearn.preprocessing.StandardScaler(with_mean=False)),            # Rescale dataset\n",
    "        ('decisiontree', sklearn.tree.DecisionTreeClassifier())                             # Build Decision Tree model\n",
    "    ]\n",
    ")    "
   ]
  },
  {
   "cell_type": "markdown",
   "metadata": {},
   "source": [
    "## TV Shows"
   ]
  },
  {
   "cell_type": "markdown",
   "metadata": {},
   "source": [
    "### Data Preparation"
   ]
  },
  {
   "cell_type": "code",
   "execution_count": 23,
   "metadata": {},
   "outputs": [
    {
     "data": {
      "text/html": [
       "<div>\n",
       "<style scoped>\n",
       "    .dataframe tbody tr th:only-of-type {\n",
       "        vertical-align: middle;\n",
       "    }\n",
       "\n",
       "    .dataframe tbody tr th {\n",
       "        vertical-align: top;\n",
       "    }\n",
       "\n",
       "    .dataframe thead th {\n",
       "        text-align: right;\n",
       "    }\n",
       "</style>\n",
       "<table border=\"1\" class=\"dataframe\">\n",
       "  <thead>\n",
       "    <tr style=\"text-align: right;\">\n",
       "      <th></th>\n",
       "      <th>release_year</th>\n",
       "      <th>is_top10</th>\n",
       "      <th>season</th>\n",
       "      <th>averageRating_x</th>\n",
       "      <th>numVotes_x</th>\n",
       "      <th>titleType</th>\n",
       "      <th>runtimeMinutes</th>\n",
       "      <th>genres</th>\n",
       "    </tr>\n",
       "  </thead>\n",
       "  <tbody>\n",
       "    <tr>\n",
       "      <th>0</th>\n",
       "      <td>2020</td>\n",
       "      <td>0</td>\n",
       "      <td>1.0</td>\n",
       "      <td>6.8</td>\n",
       "      <td>4892.0</td>\n",
       "      <td>tvSeries</td>\n",
       "      <td>36</td>\n",
       "      <td>Comedy</td>\n",
       "    </tr>\n",
       "    <tr>\n",
       "      <th>1</th>\n",
       "      <td>2020</td>\n",
       "      <td>0</td>\n",
       "      <td>1.0</td>\n",
       "      <td>6.4</td>\n",
       "      <td>1091.0</td>\n",
       "      <td>tvSeries</td>\n",
       "      <td>NaN</td>\n",
       "      <td>Documentary</td>\n",
       "    </tr>\n",
       "    <tr>\n",
       "      <th>3</th>\n",
       "      <td>2020</td>\n",
       "      <td>0</td>\n",
       "      <td>1.0</td>\n",
       "      <td>5.8</td>\n",
       "      <td>4153.0</td>\n",
       "      <td>tvSeries</td>\n",
       "      <td>NaN</td>\n",
       "      <td>Reality-TV</td>\n",
       "    </tr>\n",
       "    <tr>\n",
       "      <th>6</th>\n",
       "      <td>2020</td>\n",
       "      <td>1</td>\n",
       "      <td>4.0</td>\n",
       "      <td>7.5</td>\n",
       "      <td>289852.0</td>\n",
       "      <td>tvSeries</td>\n",
       "      <td>60</td>\n",
       "      <td>Drama,Mystery,Thriller</td>\n",
       "    </tr>\n",
       "    <tr>\n",
       "      <th>11</th>\n",
       "      <td>2020</td>\n",
       "      <td>1</td>\n",
       "      <td>4.0</td>\n",
       "      <td>7.3</td>\n",
       "      <td>25736.0</td>\n",
       "      <td>tvSeries</td>\n",
       "      <td>49</td>\n",
       "      <td>Action,Drama,Sci-Fi</td>\n",
       "    </tr>\n",
       "    <tr>\n",
       "      <th>...</th>\n",
       "      <td>...</td>\n",
       "      <td>...</td>\n",
       "      <td>...</td>\n",
       "      <td>...</td>\n",
       "      <td>...</td>\n",
       "      <td>...</td>\n",
       "      <td>...</td>\n",
       "      <td>...</td>\n",
       "    </tr>\n",
       "    <tr>\n",
       "      <th>2217</th>\n",
       "      <td>2021</td>\n",
       "      <td>1</td>\n",
       "      <td>1.0</td>\n",
       "      <td>5.7</td>\n",
       "      <td>1462.0</td>\n",
       "      <td>tvSeries</td>\n",
       "      <td>35</td>\n",
       "      <td>Comedy,Drama,Family</td>\n",
       "    </tr>\n",
       "    <tr>\n",
       "      <th>2219</th>\n",
       "      <td>2021</td>\n",
       "      <td>0</td>\n",
       "      <td>1.0</td>\n",
       "      <td>5.7</td>\n",
       "      <td>1329.0</td>\n",
       "      <td>tvSeries</td>\n",
       "      <td>27</td>\n",
       "      <td>Action,Comedy,Drama</td>\n",
       "    </tr>\n",
       "    <tr>\n",
       "      <th>2221</th>\n",
       "      <td>2022</td>\n",
       "      <td>1</td>\n",
       "      <td>1.0</td>\n",
       "      <td>8.0</td>\n",
       "      <td>9043.0</td>\n",
       "      <td>tvMiniSeries</td>\n",
       "      <td>90</td>\n",
       "      <td>Documentary,Music</td>\n",
       "    </tr>\n",
       "    <tr>\n",
       "      <th>2222</th>\n",
       "      <td>2020</td>\n",
       "      <td>0</td>\n",
       "      <td>1.0</td>\n",
       "      <td>2.5</td>\n",
       "      <td>3352.0</td>\n",
       "      <td>tvSeries</td>\n",
       "      <td>30</td>\n",
       "      <td>Documentary,Reality-TV</td>\n",
       "    </tr>\n",
       "    <tr>\n",
       "      <th>2225</th>\n",
       "      <td>2020</td>\n",
       "      <td>1</td>\n",
       "      <td>2.0</td>\n",
       "      <td>4.6</td>\n",
       "      <td>1900.0</td>\n",
       "      <td>tvSeries</td>\n",
       "      <td>24</td>\n",
       "      <td>Action,Adventure,Animation</td>\n",
       "    </tr>\n",
       "  </tbody>\n",
       "</table>\n",
       "<p>1308 rows × 8 columns</p>\n",
       "</div>"
      ],
      "text/plain": [
       "      release_year  is_top10  season  averageRating_x  numVotes_x  \\\n",
       "0             2020         0     1.0              6.8      4892.0   \n",
       "1             2020         0     1.0              6.4      1091.0   \n",
       "3             2020         0     1.0              5.8      4153.0   \n",
       "6             2020         1     4.0              7.5    289852.0   \n",
       "11            2020         1     4.0              7.3     25736.0   \n",
       "...            ...       ...     ...              ...         ...   \n",
       "2217          2021         1     1.0              5.7      1462.0   \n",
       "2219          2021         0     1.0              5.7      1329.0   \n",
       "2221          2022         1     1.0              8.0      9043.0   \n",
       "2222          2020         0     1.0              2.5      3352.0   \n",
       "2225          2020         1     2.0              4.6      1900.0   \n",
       "\n",
       "         titleType runtimeMinutes                      genres  \n",
       "0         tvSeries             36                      Comedy  \n",
       "1         tvSeries            NaN                 Documentary  \n",
       "3         tvSeries            NaN                  Reality-TV  \n",
       "6         tvSeries             60      Drama,Mystery,Thriller  \n",
       "11        tvSeries             49         Action,Drama,Sci-Fi  \n",
       "...            ...            ...                         ...  \n",
       "2217      tvSeries             35         Comedy,Drama,Family  \n",
       "2219      tvSeries             27         Action,Comedy,Drama  \n",
       "2221  tvMiniSeries             90           Documentary,Music  \n",
       "2222      tvSeries             30      Documentary,Reality-TV  \n",
       "2225      tvSeries             24  Action,Adventure,Animation  \n",
       "\n",
       "[1308 rows x 8 columns]"
      ]
     },
     "execution_count": 23,
     "metadata": {},
     "output_type": "execute_result"
    }
   ],
   "source": [
    "tv_shows = tv_shows[['release_year','is_top10','season','averageRating_x', 'numVotes_x','titleType','runtimeMinutes','genres']]\n",
    "tv_shows"
   ]
  },
  {
   "cell_type": "code",
   "execution_count": 24,
   "metadata": {},
   "outputs": [
    {
     "data": {
      "text/plain": [
       "release_year         0\n",
       "is_top10             0\n",
       "season               0\n",
       "averageRating_x      3\n",
       "numVotes_x           3\n",
       "titleType            0\n",
       "runtimeMinutes     266\n",
       "genres               0\n",
       "dtype: int64"
      ]
     },
     "execution_count": 24,
     "metadata": {},
     "output_type": "execute_result"
    }
   ],
   "source": [
    "tv_shows.isna().sum()"
   ]
  },
  {
   "cell_type": "code",
   "execution_count": null,
   "metadata": {},
   "outputs": [],
   "source": []
  }
 ],
 "metadata": {
  "kernelspec": {
   "display_name": "Python 3.9.12 ('base')",
   "language": "python",
   "name": "python3"
  },
  "language_info": {
   "codemirror_mode": {
    "name": "ipython",
    "version": 3
   },
   "file_extension": ".py",
   "mimetype": "text/x-python",
   "name": "python",
   "nbconvert_exporter": "python",
   "pygments_lexer": "ipython3",
   "version": "3.9.12"
  },
  "orig_nbformat": 4,
  "vscode": {
   "interpreter": {
    "hash": "4da98d95051a52da8c094cb6991c274a25cedfadc1a6d330cb8064cfb9870c7d"
   }
  }
 },
 "nbformat": 4,
 "nbformat_minor": 2
}
