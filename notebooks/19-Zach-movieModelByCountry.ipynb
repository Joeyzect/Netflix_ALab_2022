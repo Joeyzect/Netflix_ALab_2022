{
 "cells": [
  {
   "cell_type": "markdown",
   "metadata": {},
   "source": [
    "# MOVIES INNIT MATE"
   ]
  },
  {
   "cell_type": "code",
   "execution_count": 410,
   "metadata": {},
   "outputs": [],
   "source": [
    "import numpy as np\n",
    "import pandas as pd\n",
    "import matplotlib.pyplot as plt\n",
    "import seaborn as sns\n",
    "import shap\n",
    "import os\n",
    "import xgboost as xgb"
   ]
  },
  {
   "cell_type": "markdown",
   "metadata": {},
   "source": [
    "# IMPORT DATASETS"
   ]
  },
  {
   "cell_type": "markdown",
   "metadata": {},
   "source": [
    "Just checking if feed_into_pipeline_data.csv is the same as feed_into_pipeline_data_withLang.csv but with Language and other features"
   ]
  },
  {
   "cell_type": "code",
   "execution_count": 411,
   "metadata": {},
   "outputs": [],
   "source": [
    "df = pd.read_csv('/Users/zachwayne/Downloads/Australia.csv')\n",
    "withTags = pd.read_csv(os.path.relpath('/Users/zachwayne/Dropbox (MIT)/Netflix - Seize the Data/feed_into_pipeline_data_withTags.csv'))\n",
    "summaries = pd.read_csv(os.path.relpath('/Users/zachwayne/Dropbox (MIT)/Netflix - Seize the Data/GlobalOriginalsWithSummary.csv'))[['combined_title', 'summary']]\n",
    "people_rankings = pd.read_csv(os.path.relpath('/Users/zachwayne/Dropbox (MIT)/Netflix - Seize the Data/showsWithPrinicpalRankings.csv'))[['combined_title', 'director_rank', 'writer_rank', 'actor_rank']]\n",
    "df = df[['tconst', 'cumulative_weeks_in_top_10']]\n",
    "df = df.merge(withTags, on='tconst', how='left')\n",
    "\n",
    "df['release_date'] = pd.to_datetime(df['release_date'])\n",
    "df = df[df['release_date'] >= '6/1/2021']\n",
    "# merge all 3 datasets\n",
    "df = df.merge(summaries, on='combined_title')\n",
    "df = df.merge(people_rankings, on='combined_title')\n",
    "df.drop_duplicates(inplace=True)\n",
    "\n",
    "df['is_top10'] = df['cumulative_weeks_in_top_10'].apply(lambda x: 1 if x > 0 else 0)\n",
    "del df['cumulative_weeks_in_top_10']\n",
    "\n",
    "# split into tv_shows only and sort by combined_title\n",
    "movies = df[df['is_tv_show']==False]\n",
    "\n",
    "# check if ordering before and after sorting by combined_title is the same\n",
    "# tv_shows.sort_values(by='combined_title', inplace=True)\n",
    "movies.reset_index(drop=True, inplace=True)\n",
    "# tv_shows.head()"
   ]
  },
  {
   "cell_type": "markdown",
   "metadata": {},
   "source": [
    "## Movies with <u>Rankings<u>"
   ]
  },
  {
   "cell_type": "code",
   "execution_count": 412,
   "metadata": {},
   "outputs": [
    {
     "data": {
      "text/html": [
       "<div>\n",
       "<style scoped>\n",
       "    .dataframe tbody tr th:only-of-type {\n",
       "        vertical-align: middle;\n",
       "    }\n",
       "\n",
       "    .dataframe tbody tr th {\n",
       "        vertical-align: top;\n",
       "    }\n",
       "\n",
       "    .dataframe thead th {\n",
       "        text-align: right;\n",
       "    }\n",
       "</style>\n",
       "<table border=\"1\" class=\"dataframe\">\n",
       "  <thead>\n",
       "    <tr style=\"text-align: right;\">\n",
       "      <th></th>\n",
       "      <th>tconst</th>\n",
       "      <th>combined_title</th>\n",
       "      <th>release_year</th>\n",
       "      <th>release_date</th>\n",
       "      <th>is_top10</th>\n",
       "      <th>lower_title</th>\n",
       "      <th>season</th>\n",
       "      <th>is_tv_show</th>\n",
       "      <th>averageRating</th>\n",
       "      <th>numVotes</th>\n",
       "      <th>...</th>\n",
       "      <th>nudity</th>\n",
       "      <th>violence</th>\n",
       "      <th>profanity</th>\n",
       "      <th>alcohol</th>\n",
       "      <th>frightening</th>\n",
       "      <th>language</th>\n",
       "      <th>summary</th>\n",
       "      <th>director_rank</th>\n",
       "      <th>writer_rank</th>\n",
       "      <th>actor_rank</th>\n",
       "    </tr>\n",
       "  </thead>\n",
       "  <tbody>\n",
       "    <tr>\n",
       "      <th>0</th>\n",
       "      <td>tt13782052</td>\n",
       "      <td>1000 Miles from Christmas</td>\n",
       "      <td>2021.0</td>\n",
       "      <td>2021-12-24</td>\n",
       "      <td>0</td>\n",
       "      <td>1000 miles from christmas</td>\n",
       "      <td>NaN</td>\n",
       "      <td>False</td>\n",
       "      <td>5.8</td>\n",
       "      <td>1552.0</td>\n",
       "      <td>...</td>\n",
       "      <td>Mild</td>\n",
       "      <td>None</td>\n",
       "      <td>None</td>\n",
       "      <td>Mild</td>\n",
       "      <td>None</td>\n",
       "      <td>Spanish</td>\n",
       "      <td>A Christmas tale, a romantic comedy and the st...</td>\n",
       "      <td>13557.5</td>\n",
       "      <td>29730.5</td>\n",
       "      <td>31277.83333</td>\n",
       "    </tr>\n",
       "    <tr>\n",
       "      <th>1</th>\n",
       "      <td>tt6275154</td>\n",
       "      <td>11M: Terror in Madrid</td>\n",
       "      <td>2022.0</td>\n",
       "      <td>2022-02-23</td>\n",
       "      <td>0</td>\n",
       "      <td>11m terror in madrid</td>\n",
       "      <td>NaN</td>\n",
       "      <td>False</td>\n",
       "      <td>6.9</td>\n",
       "      <td>1940.0</td>\n",
       "      <td>...</td>\n",
       "      <td>None</td>\n",
       "      <td>None</td>\n",
       "      <td>None</td>\n",
       "      <td>None</td>\n",
       "      <td>None</td>\n",
       "      <td>English</td>\n",
       "      <td>The story of the worst terrorist attack in Eur...</td>\n",
       "      <td>50497.0</td>\n",
       "      <td>NaN</td>\n",
       "      <td>NaN</td>\n",
       "    </tr>\n",
       "    <tr>\n",
       "      <th>2</th>\n",
       "      <td>tt16379224</td>\n",
       "      <td>137 Shots</td>\n",
       "      <td>2021.0</td>\n",
       "      <td>2021-12-15</td>\n",
       "      <td>0</td>\n",
       "      <td>137 shots</td>\n",
       "      <td>NaN</td>\n",
       "      <td>False</td>\n",
       "      <td>6.4</td>\n",
       "      <td>963.0</td>\n",
       "      <td>...</td>\n",
       "      <td>None</td>\n",
       "      <td>None</td>\n",
       "      <td>None</td>\n",
       "      <td>None</td>\n",
       "      <td>None</td>\n",
       "      <td>English</td>\n",
       "      <td>In this documentary, law enforcement faces scr...</td>\n",
       "      <td>101870.5</td>\n",
       "      <td>NaN</td>\n",
       "      <td>487505.00000</td>\n",
       "    </tr>\n",
       "    <tr>\n",
       "      <th>3</th>\n",
       "      <td>tt3975918</td>\n",
       "      <td>13: The Musical</td>\n",
       "      <td>2022.0</td>\n",
       "      <td>2022-08-12</td>\n",
       "      <td>0</td>\n",
       "      <td>13 the musical</td>\n",
       "      <td>NaN</td>\n",
       "      <td>False</td>\n",
       "      <td>5.2</td>\n",
       "      <td>663.0</td>\n",
       "      <td>...</td>\n",
       "      <td>None</td>\n",
       "      <td>None</td>\n",
       "      <td>None</td>\n",
       "      <td>None</td>\n",
       "      <td>None</td>\n",
       "      <td>English</td>\n",
       "      <td>After his parents' divorce, Evan Goldman moves...</td>\n",
       "      <td>567.0</td>\n",
       "      <td>30261.5</td>\n",
       "      <td>6840.00000</td>\n",
       "    </tr>\n",
       "    <tr>\n",
       "      <th>4</th>\n",
       "      <td>tt14079374</td>\n",
       "      <td>14 Peaks: Nothing Is Impossible</td>\n",
       "      <td>2021.0</td>\n",
       "      <td>2021-11-29</td>\n",
       "      <td>0</td>\n",
       "      <td>14 peaks nothing is impossible</td>\n",
       "      <td>NaN</td>\n",
       "      <td>False</td>\n",
       "      <td>7.7</td>\n",
       "      <td>25783.0</td>\n",
       "      <td>...</td>\n",
       "      <td>None</td>\n",
       "      <td>None</td>\n",
       "      <td>Mild</td>\n",
       "      <td>Mild</td>\n",
       "      <td>Mild</td>\n",
       "      <td>English</td>\n",
       "      <td>Fearless Nepali mountaineer Nirmal Purja embar...</td>\n",
       "      <td>24462.5</td>\n",
       "      <td>40838.5</td>\n",
       "      <td>316757.25000</td>\n",
       "    </tr>\n",
       "  </tbody>\n",
       "</table>\n",
       "<p>5 rows × 26 columns</p>\n",
       "</div>"
      ],
      "text/plain": [
       "       tconst                   combined_title  release_year release_date  \\\n",
       "0  tt13782052        1000 Miles from Christmas        2021.0   2021-12-24   \n",
       "1   tt6275154            11M: Terror in Madrid        2022.0   2022-02-23   \n",
       "2  tt16379224                        137 Shots        2021.0   2021-12-15   \n",
       "3   tt3975918                  13: The Musical        2022.0   2022-08-12   \n",
       "4  tt14079374  14 Peaks: Nothing Is Impossible        2021.0   2021-11-29   \n",
       "\n",
       "   is_top10                     lower_title  season is_tv_show  averageRating  \\\n",
       "0         0       1000 miles from christmas     NaN      False            5.8   \n",
       "1         0            11m terror in madrid     NaN      False            6.9   \n",
       "2         0                       137 shots     NaN      False            6.4   \n",
       "3         0                  13 the musical     NaN      False            5.2   \n",
       "4         0  14 peaks nothing is impossible     NaN      False            7.7   \n",
       "\n",
       "   numVotes  ... nudity  violence profanity  alcohol  frightening  language  \\\n",
       "0    1552.0  ...   Mild      None      None     Mild         None   Spanish   \n",
       "1    1940.0  ...   None      None      None     None         None   English   \n",
       "2     963.0  ...   None      None      None     None         None   English   \n",
       "3     663.0  ...   None      None      None     None         None   English   \n",
       "4   25783.0  ...   None      None      Mild     Mild         Mild   English   \n",
       "\n",
       "                                             summary director_rank  \\\n",
       "0  A Christmas tale, a romantic comedy and the st...       13557.5   \n",
       "1  The story of the worst terrorist attack in Eur...       50497.0   \n",
       "2  In this documentary, law enforcement faces scr...      101870.5   \n",
       "3  After his parents' divorce, Evan Goldman moves...         567.0   \n",
       "4  Fearless Nepali mountaineer Nirmal Purja embar...       24462.5   \n",
       "\n",
       "  writer_rank    actor_rank  \n",
       "0     29730.5   31277.83333  \n",
       "1         NaN           NaN  \n",
       "2         NaN  487505.00000  \n",
       "3     30261.5    6840.00000  \n",
       "4     40838.5  316757.25000  \n",
       "\n",
       "[5 rows x 26 columns]"
      ]
     },
     "execution_count": 412,
     "metadata": {},
     "output_type": "execute_result"
    }
   ],
   "source": [
    "movies.head()"
   ]
  },
  {
   "cell_type": "code",
   "execution_count": 413,
   "metadata": {},
   "outputs": [],
   "source": [
    "drop_cols = ['combined_title', 'release_date', 'lower_title', 'season', 'is_tv_show', 'tconst']"
   ]
  },
  {
   "cell_type": "code",
   "execution_count": 414,
   "metadata": {},
   "outputs": [],
   "source": [
    "# train test split with stratified sampling\n",
    "from sklearn.model_selection import train_test_split\n",
    "\n",
    "# split into training and test sets\n",
    "X_train, X_test, y_train, y_test = train_test_split(movies.drop(drop_cols + ['is_top10'], axis=1), movies['is_top10'], test_size=0.2, random_state=42, stratify=movies['is_top10'])\n",
    "\n",
    "# # split into training and validation sets\n",
    "# tvshows_X_train, tvshows_X_val, tvshows_y_train, tvshows_y_val = train_test_split(tvshows_X_train, tvshows_y_train, test_size=0.2, random_state=42, stratify=tvshows_y_train)"
   ]
  },
  {
   "cell_type": "markdown",
   "metadata": {},
   "source": [
    "# XGBOOST"
   ]
  },
  {
   "cell_type": "code",
   "execution_count": 415,
   "metadata": {},
   "outputs": [],
   "source": [
    "from sklearn.preprocessing import OneHotEncoder\n",
    "from sklearn.compose import ColumnTransformer\n",
    "from sklearn.experimental import enable_iterative_imputer\n",
    "from sklearn.impute import SimpleImputer, IterativeImputer, KNNImputer\n",
    "from sklearn.feature_extraction.text import CountVectorizer\n",
    "from sklearn.preprocessing import FunctionTransformer\n",
    "from sklearn.pipeline import Pipeline\n",
    "from xgboost import XGBClassifier\n",
    "from sklearn.model_selection import GridSearchCV\n",
    "from sklearn.preprocessing import Normalizer"
   ]
  },
  {
   "cell_type": "code",
   "execution_count": 416,
   "metadata": {},
   "outputs": [],
   "source": [
    "from nltk import word_tokenize          \n",
    "from nltk.stem import WordNetLemmatizer \n",
    "from nltk.stem import SnowballStemmer\n",
    "class LemmaTokenizer(object):\n",
    "    def __init__(self):\n",
    "        self.wnl = WordNetLemmatizer()\n",
    "    def __call__(self, articles):\n",
    "        return [self.wnl.lemmatize(t) for t in word_tokenize(articles)]\n",
    "        \n",
    "class StemTokenizer(object):\n",
    "    def __init__(self):\n",
    "        self.stemmer = SnowballStemmer('english')\n",
    "    def __call__(self, articles):\n",
    "        return [self.stemmer.stem(t) for t in word_tokenize(articles)]\n",
    "\n",
    "\n",
    "tf_vectorizer = CountVectorizer(tokenizer=LemmaTokenizer(),\n",
    "                       strip_accents = 'unicode',\n",
    "                       stop_words = 'english',\n",
    "                       lowercase = True)\n",
    "\n"
   ]
  },
  {
   "cell_type": "code",
   "execution_count": 417,
   "metadata": {},
   "outputs": [],
   "source": [
    "from sklearn.feature_extraction import text\n",
    "\n",
    "custom_stop_words = []\n",
    "# add lemmatized stop words to stop_words list\n",
    "\n",
    "for i in text.ENGLISH_STOP_WORDS:\n",
    "    custom_stop_words.append(SnowballStemmer('english').stem(i))"
   ]
  },
  {
   "cell_type": "code",
   "execution_count": 418,
   "metadata": {},
   "outputs": [],
   "source": [
    "new_stop_words = text.ENGLISH_STOP_WORDS.union(custom_stop_words)"
   ]
  },
  {
   "cell_type": "code",
   "execution_count": 419,
   "metadata": {},
   "outputs": [],
   "source": [
    "def get_feature_names(estimator, numeric_features=['release_year', 'titleType', 'genres', 'summary', 'nudity', 'violence', 'profanity', 'alcohol', 'frightening', 'language', 'director_rank', 'actor_rank', 'writer_rank']):\n",
    "    \"\"\"Get feature names from a pipeline or column transformer.\"\"\"\n",
    "    feature_names = []\n",
    "    for transformer in estimator.transformers_:\n",
    "        try:\n",
    "            if transformer[0] == 'rankings_pipeline':\n",
    "                feature_names.append(['director_rank', 'actor_rank', 'writer_rank'])\n",
    "            elif type(transformer[1]) == CountVectorizer:\n",
    "                feature_names.append(transformer[2] + \"_\" + transformer[1].get_feature_names_out())\n",
    "            else:\n",
    "                feature_names.append(transformer[1].get_feature_names_out())\n",
    "        except:\n",
    "            pass\n",
    "    feature_names = np.concatenate(feature_names)\n",
    "    unchanged_features = [feature for feature in estimator.feature_names_in_ if feature not in numeric_features]\n",
    "    feature_names = np.concatenate([feature_names, unchanged_features])\n",
    "    return feature_names"
   ]
  },
  {
   "cell_type": "markdown",
   "metadata": {},
   "source": [
    "## XGB with BOW, No Reviews or Votes"
   ]
  },
  {
   "cell_type": "code",
   "execution_count": 420,
   "metadata": {},
   "outputs": [
    {
     "data": {
      "text/plain": [
       "{'xgb__learning_rate': 0.05,\n",
       " 'xgb__max_depth': 3,\n",
       " 'xgb__n_estimators': 100,\n",
       " 'xgb__subsample': 0.9,\n",
       " 'xgb_transformer__bagofwords__min_df': 0.02,\n",
       " 'xgb_transformer__rankings_pipeline__missingimputer__n_neighbors': 15}"
      ]
     },
     "execution_count": 420,
     "metadata": {},
     "output_type": "execute_result"
    }
   ],
   "source": [
    "rankings_pipeline = Pipeline([\n",
    "    #('imputer', SimpleImputer(strategy='mean')),\n",
    "    #('imputer', IterativeImputer()),\n",
    "    ('missingimputer', KNNImputer()),\n",
    "    ('logger', FunctionTransformer(np.log1p))\n",
    "])\n",
    "\n",
    "xgb_transformer = ColumnTransformer(\n",
    "    [\n",
    "        (\"onehot_titleType\",OneHotEncoder(handle_unknown='ignore'), ['titleType']),                 # one-hot encode titleType\n",
    "        #(\"onehot_release_year\",OneHotEncoder(handle_unknown='ignore'), ['release_year']),           # discrete release year\n",
    "\n",
    "        (\"bagofwords\", CountVectorizer(stop_words='english'), 'summary'),              # One hot encoding\n",
    "        #(\"tfidf\", TfidfVectorizer(tokenizer=LemmaTokenizer(), stop_words='english'), 'summary'),                  # TF-IDF\n",
    "        (\"genres_count\", CountVectorizer(min_df=0.01), 'genres'),\n",
    "        (\"rankings_pipeline\", rankings_pipeline, ['director_rank', 'actor_rank', 'writer_rank']),   # log transform rankings\n",
    "        (\"onehot_v\",OneHotEncoder(handle_unknown='ignore'), ['violence']),                          # one-hot encode violence\n",
    "        (\"onehot_n\",OneHotEncoder(handle_unknown='ignore'), ['nudity']),                            # one-hot encode nudity\n",
    "        (\"onehot_p\",OneHotEncoder(handle_unknown='ignore'), ['profanity']),                         # one-hot encode profanity\n",
    "        (\"onehot_a\",OneHotEncoder(handle_unknown='ignore'), ['alcohol']),                           # one-hot encode alcohol\n",
    "        (\"onehot_f\",OneHotEncoder(handle_unknown='ignore'), ['frightening']),                       # one-hot encode frightening\n",
    "        (\"onehot_l\",OneHotEncoder(min_frequency=0.01, handle_unknown='infrequent_if_exist'), ['language']),        # one-hot encode language\n",
    "    ],\n",
    "    remainder='passthrough')\n",
    "# Recreate pipeline using XGBoost\n",
    "xgb_pipe = Pipeline(\n",
    "    steps=[\n",
    "        ('xgb_transformer', xgb_transformer),\n",
    "        #('normalizer', sklearn.preprocessing.Normalizer()),\n",
    "        ('xgb', XGBClassifier())\n",
    "    ]\n",
    ")\n",
    "\n",
    "xgb_gs_bow_drop = GridSearchCV(\n",
    "    xgb_pipe,\n",
    "    param_grid={\n",
    "        'xgb__max_depth': [3,4,5],\n",
    "        'xgb__learning_rate': [0.03, 0.05],\n",
    "        'xgb__n_estimators': [100],\n",
    "        'xgb__subsample': [0.8, 0.85, 0.9],\n",
    "        'xgb_transformer__bagofwords__min_df': [0.01, 0.015, 0.02],\n",
    "        'xgb_transformer__rankings_pipeline__missingimputer__n_neighbors': [5, 10, 15],\n",
    "    },\n",
    "    scoring={\"AUC\": \"roc_auc\", \"F1\": \"f1\", \"Accuracy\": \"accuracy\"},\n",
    "    refit=\"AUC\",\n",
    "    cv=5,\n",
    "    verbose=0,\n",
    "    n_jobs=-1,\n",
    ")\n",
    "# fit xgb_gs_bow to training set\n",
    "xgb_gs_bow_drop.fit(X_train.drop(columns=['averageRating', 'numVotes']), y_train)\n",
    "xgb_gs_bow_drop.best_params_"
   ]
  },
  {
   "cell_type": "code",
   "execution_count": 421,
   "metadata": {},
   "outputs": [],
   "source": [
    "def get_results_model(model, X_test=X_test, y_test=y_test, name=\"\"):\n",
    "    y_pred = model.predict(X_test)\n",
    "    y_pred_proba = model.predict_proba(X_test)[:,1]\n",
    "    print(f\"{name} AUC: %0.5f\" % roc_auc_score(y_test, y_pred_proba))\n",
    "    print(f\"{name} F1: %0.5f\" % f1_score(y_test, y_pred))\n",
    "    print(f\"{name} Accuracy: %0.5f\" % accuracy_score(y_test, y_pred))\n",
    "    return y_pred, y_pred_proba\n",
    "\n",
    "def get_results_preds(y_labels, y_preds_proba, y_preds,  name=\"\"):\n",
    "\n",
    "    print(f\"{name} AUC: %0.5f\" % roc_auc_score(y_labels, y_preds_proba))\n",
    "    print(f\"{name} F1: %0.5f\" % f1_score(y_labels, y_preds))\n",
    "    print(f\"{name} Accuracy: %0.5f\" % accuracy_score(y_labels, y_preds))"
   ]
  },
  {
   "cell_type": "code",
   "execution_count": 422,
   "metadata": {},
   "outputs": [
    {
     "name": "stdout",
     "output_type": "stream",
     "text": [
      "XGBoost Bag of Words, Best score: 0.89153\n",
      " AUC: 0.86769\n",
      " F1: 0.51613\n",
      " Accuracy: 0.84043\n"
     ]
    }
   ],
   "source": [
    "# save best xgb_gs_bow model as a variable\n",
    "best_xgb_gs_bow_drop = xgb_gs_bow_drop.best_estimator_\n",
    "\n",
    "# output auc, f1-score, and accuracy on training set\n",
    "from sklearn.metrics import roc_auc_score, f1_score, accuracy_score\n",
    "\n",
    "# output best score from xgb_gs_bow\n",
    "print(\"XGBoost Bag of Words, Best score: %0.5f\" % xgb_gs_bow_drop.best_score_)\n",
    "\n",
    "y_pred, y_pred_proba = get_results_model(best_xgb_gs_bow_drop, X_test.drop(columns=['averageRating', 'numVotes']))"
   ]
  },
  {
   "cell_type": "code",
   "execution_count": 423,
   "metadata": {},
   "outputs": [],
   "source": [
    "xgb_gs_bow_drop_feature_names = get_feature_names(best_xgb_gs_bow_drop['xgb_transformer'], ['titleType', 'genres', 'summary', 'nudity', 'violence', 'profanity', 'alcohol', 'frightening', 'language', 'director_rank', 'actor_rank', 'writer_rank'])"
   ]
  },
  {
   "cell_type": "code",
   "execution_count": 424,
   "metadata": {},
   "outputs": [
    {
     "name": "stderr",
     "output_type": "stream",
     "text": [
      "ntree_limit is deprecated, use `iteration_range` or model slicing instead.\n"
     ]
    },
    {
     "data": {
      "image/png": "[encoded data removed]",
      "text/plain": [
       "<Figure size 576x684 with 2 Axes>"
      ]
     },
     "metadata": {
      "needs_background": "light"
     },
     "output_type": "display_data"
    }
   ],
   "source": [
    "# make shap values\n",
    "transformed_test = best_xgb_gs_bow_drop['xgb_transformer'].transform(X_test.drop(columns=['averageRating', 'numVotes']))\n",
    "explainer = shap.TreeExplainer(best_xgb_gs_bow_drop['xgb'])\n",
    "shap_values = explainer.shap_values(xgb.DMatrix(transformed_test, y_test))\n",
    "\n",
    "# plot shap values\n",
    "shap.summary_plot(shap_values, pd.DataFrame(transformed_test.todense()), feature_names=xgb_gs_bow_drop_feature_names)"
   ]
  }
 ],
 "metadata": {
  "kernelspec": {
   "display_name": "Python 3.9.12 ('base')",
   "language": "python",
   "name": "python3"
  },
  "language_info": {
   "codemirror_mode": {
    "name": "ipython",
    "version": 3
   },
   "file_extension": ".py",
   "mimetype": "text/x-python",
   "name": "python",
   "nbconvert_exporter": "python",
   "pygments_lexer": "ipython3",
   "version": "3.9.12"
  },
  "orig_nbformat": 4,
  "vscode": {
   "interpreter": {
    "hash": "9065f229f78de392276990b09d69cf52daf9e7892e0a6186d0873b2049073fcb"
   }
  }
 },
 "nbformat": 4,
 "nbformat_minor": 2
}
