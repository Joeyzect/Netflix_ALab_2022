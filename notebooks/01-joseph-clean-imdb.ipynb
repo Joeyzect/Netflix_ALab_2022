{
 "cells": [
  {
   "cell_type": "code",
   "execution_count": 1,
   "metadata": {},
   "outputs": [],
   "source": [
    "import pandas as pd"
   ]
  },
  {
   "cell_type": "code",
   "execution_count": 3,
   "metadata": {},
   "outputs": [
    {
     "name": "stderr",
     "output_type": "stream",
     "text": [
      "C:\\Users\\Joeyz\\AppData\\Local\\Temp\\ipykernel_8720\\2103146585.py:2: DtypeWarning: Columns (4) have mixed types. Specify dtype option on import or set low_memory=False.\n",
      "  imdb = pd.read_csv(\n"
     ]
    }
   ],
   "source": [
    "# Read in the data\n",
    "imdb = pd.read_csv(\n",
    "    \"../data/external/title.basics.tsv\",\n",
    "    sep=\"\\t\",\n",
    "    dtype={\"startYear\": str, \"endYear\": str, \"runtimeMinutes\": str},\n",
    ")"
   ]
  },
  {
   "cell_type": "code",
   "execution_count": 4,
   "metadata": {},
   "outputs": [
    {
     "data": {
      "text/html": [
       "<div>\n",
       "<style scoped>\n",
       "    .dataframe tbody tr th:only-of-type {\n",
       "        vertical-align: middle;\n",
       "    }\n",
       "\n",
       "    .dataframe tbody tr th {\n",
       "        vertical-align: top;\n",
       "    }\n",
       "\n",
       "    .dataframe thead th {\n",
       "        text-align: right;\n",
       "    }\n",
       "</style>\n",
       "<table border=\"1\" class=\"dataframe\">\n",
       "  <thead>\n",
       "    <tr style=\"text-align: right;\">\n",
       "      <th></th>\n",
       "      <th>tconst</th>\n",
       "      <th>titleType</th>\n",
       "      <th>primaryTitle</th>\n",
       "      <th>originalTitle</th>\n",
       "      <th>isAdult</th>\n",
       "      <th>startYear</th>\n",
       "      <th>endYear</th>\n",
       "      <th>runtimeMinutes</th>\n",
       "      <th>genres</th>\n",
       "    </tr>\n",
       "  </thead>\n",
       "  <tbody>\n",
       "    <tr>\n",
       "      <th>2810522</th>\n",
       "      <td>tt13353456</td>\n",
       "      <td>tvSeries</td>\n",
       "      <td>Wonderoos</td>\n",
       "      <td>Wonderoos</td>\n",
       "      <td>0</td>\n",
       "      <td>2020</td>\n",
       "      <td>\\N</td>\n",
       "      <td>\\N</td>\n",
       "      <td>Animation,Family</td>\n",
       "    </tr>\n",
       "  </tbody>\n",
       "</table>\n",
       "</div>"
      ],
      "text/plain": [
       "             tconst titleType primaryTitle originalTitle isAdult startYear  \\\n",
       "2810522  tt13353456  tvSeries    Wonderoos     Wonderoos       0      2020   \n",
       "\n",
       "        endYear runtimeMinutes            genres  \n",
       "2810522      \\N             \\N  Animation,Family  "
      ]
     },
     "execution_count": 4,
     "metadata": {},
     "output_type": "execute_result"
    }
   ],
   "source": [
    "imdb[imdb['tconst']=='tt13353456']"
   ]
  },
  {
   "cell_type": "code",
   "execution_count": 3,
   "metadata": {},
   "outputs": [],
   "source": [
    "# Change year to int\n",
    "imdb[\"startYear\"] = pd.to_numeric(imdb[\"startYear\"], errors=\"coerce\")"
   ]
  },
  {
   "cell_type": "code",
   "execution_count": 9,
   "metadata": {},
   "outputs": [
    {
     "data": {
      "application/javascript": "\n            setTimeout(function() {\n                var nbb_cell_id = 9;\n                var nbb_unformatted_code = \"# movies only\\nimdb_movies = imdb[imdb[\\\"titleType\\\"] == \\\"movie\\\"]\\nimdb_movies = imdb_movies[imdb_movies[\\\"startYear\\\"] >= 2019]\\nimdb_movies[\\\"title\\\"] = imdb_movies[\\\"primaryTitle\\\"].str.lower()\";\n                var nbb_formatted_code = \"# movies only\\nimdb_movies = imdb[imdb[\\\"titleType\\\"] == \\\"movie\\\"]\\nimdb_movies = imdb_movies[imdb_movies[\\\"startYear\\\"] >= 2019]\\nimdb_movies[\\\"title\\\"] = imdb_movies[\\\"primaryTitle\\\"].str.lower()\";\n                var nbb_cells = Jupyter.notebook.get_cells();\n                for (var i = 0; i < nbb_cells.length; ++i) {\n                    if (nbb_cells[i].input_prompt_number == nbb_cell_id) {\n                        if (nbb_cells[i].get_text() == nbb_unformatted_code) {\n                             nbb_cells[i].set_text(nbb_formatted_code);\n                        }\n                        break;\n                    }\n                }\n            }, 500);\n            ",
      "text/plain": [
       "<IPython.core.display.Javascript object>"
      ]
     },
     "metadata": {},
     "output_type": "display_data"
    }
   ],
   "source": [
    "# movies only\n",
    "imdb_movies = imdb[imdb[\"titleType\"] == \"movie\"]\n",
    "imdb_movies = imdb_movies[imdb_movies[\"startYear\"] >= 2019]\n",
    "imdb_movies[\"title\"] = imdb_movies[\"primaryTitle\"].str.lower()\n",
    "#imdb_movies.to_csv(\"../data/processed/imdb_movies.csv\", index=False)"
   ]
  },
  {
   "cell_type": "code",
   "execution_count": 12,
   "metadata": {},
   "outputs": [
    {
     "data": {
      "application/javascript": "\n            setTimeout(function() {\n                var nbb_cell_id = 12;\n                var nbb_unformatted_code = \"#all media except episode\\nimdb_all = imdb[imdb[\\\"titleType\\\"] != \\\"tvEpisode\\\"]\\nimdb_all = imdb_all[imdb_all[\\\"startYear\\\"] >= 2015]\\nimdb_all[\\\"title\\\"] = imdb_all[\\\"primaryTitle\\\"].str.lower()\\nimdb_all.to_csv(\\\"../data/processed/imdb_all.csv\\\", index=False)\";\n                var nbb_formatted_code = \"# all media except episode\\nimdb_all = imdb[imdb[\\\"titleType\\\"] != \\\"tvEpisode\\\"]\\nimdb_all = imdb_all[imdb_all[\\\"startYear\\\"] >= 2015]\\nimdb_all[\\\"title\\\"] = imdb_all[\\\"primaryTitle\\\"].str.lower()\\nimdb_all.to_csv(\\\"../data/processed/imdb_all.csv\\\", index=False)\";\n                var nbb_cells = Jupyter.notebook.get_cells();\n                for (var i = 0; i < nbb_cells.length; ++i) {\n                    if (nbb_cells[i].input_prompt_number == nbb_cell_id) {\n                        if (nbb_cells[i].get_text() == nbb_unformatted_code) {\n                             nbb_cells[i].set_text(nbb_formatted_code);\n                        }\n                        break;\n                    }\n                }\n            }, 500);\n            ",
      "text/plain": [
       "<IPython.core.display.Javascript object>"
      ]
     },
     "metadata": {},
     "output_type": "display_data"
    }
   ],
   "source": [
    "#all media except episode\n",
    "imdb_all = imdb[imdb[\"titleType\"] != \"tvEpisode\"]\n",
    "imdb_all = imdb_all[imdb_all[\"startYear\"] >= 2015]\n",
    "imdb_all[\"title\"] = imdb_all[\"primaryTitle\"].str.lower()\n",
    "imdb_all.to_csv(\"../data/processed/imdb_all.csv\", index=False)\n"
   ]
  },
  {
   "cell_type": "code",
   "execution_count": 7,
   "metadata": {},
   "outputs": [],
   "source": [
    "#tv shows only\n",
    "imdb_tv = imdb[imdb[\"titleType\"].isin([\"tvSeries\", \"tvMiniSeries\"])]\n",
    "imdb_tv = imdb_tv[imdb_tv[\"startYear\"] >= 2000]\n",
    "imdb_tv[\"title\"] = imdb_tv[\"primaryTitle\"].str.lower()\n",
    "imdb_tv.to_csv(\"../data/processed/imdb_tv.csv\", index=False)"
   ]
  }
 ],
 "metadata": {
  "kernelspec": {
   "display_name": "Python 3.10.4 ('netflix_proj')",
   "language": "python",
   "name": "python3"
  },
  "language_info": {
   "codemirror_mode": {
    "name": "ipython",
    "version": 3
   },
   "file_extension": ".py",
   "mimetype": "text/x-python",
   "name": "python",
   "nbconvert_exporter": "python",
   "pygments_lexer": "ipython3",
   "version": "3.10.4"
  },
  "orig_nbformat": 4,
  "vscode": {
   "interpreter": {
    "hash": "a9958285388ffb0985a92a2fa62daaced4f70ddc8281d758effbeb55efac45cc"
   }
  }
 },
 "nbformat": 4,
 "nbformat_minor": 2
}
