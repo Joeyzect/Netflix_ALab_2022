{
 "cells": [
  {
   "cell_type": "code",
   "execution_count": 65,
   "metadata": {},
   "outputs": [],
   "source": [
    "import pandas as pd\n",
    "import numpy as np"
   ]
  },
  {
   "cell_type": "code",
   "execution_count": 66,
   "metadata": {},
   "outputs": [],
   "source": [
    "world = pd.read_csv('/Users/zachwayne/Dropbox (MIT)/Netflix - Seize the Data/all-weeks-countries.tsv', sep='\\t')\n",
    "shows = pd.read_csv('/Users/zachwayne/Dropbox (MIT)/Netflix - Seize the Data/complete_manually_cleaned_data.csv')"
   ]
  },
  {
   "cell_type": "code",
   "execution_count": 67,
   "metadata": {},
   "outputs": [],
   "source": [
    "# drop world data for all countries except France\n",
    "world = world[world['country_name'] == 'Australia']\n",
    "# delete duplicate rows, keeping the one with the highest number of cumulative_weeks_in_top_10\n",
    "world = world.drop_duplicates(subset='show_title', keep='first')"
   ]
  },
  {
   "cell_type": "code",
   "execution_count": 51,
   "metadata": {},
   "outputs": [
    {
     "data": {
      "text/html": [
       "<div>\n",
       "<style scoped>\n",
       "    .dataframe tbody tr th:only-of-type {\n",
       "        vertical-align: middle;\n",
       "    }\n",
       "\n",
       "    .dataframe tbody tr th {\n",
       "        vertical-align: top;\n",
       "    }\n",
       "\n",
       "    .dataframe thead th {\n",
       "        text-align: right;\n",
       "    }\n",
       "</style>\n",
       "<table border=\"1\" class=\"dataframe\">\n",
       "  <thead>\n",
       "    <tr style=\"text-align: right;\">\n",
       "      <th></th>\n",
       "      <th>combined_title</th>\n",
       "      <th>release_year</th>\n",
       "      <th>release_date</th>\n",
       "      <th>is_top10</th>\n",
       "      <th>title</th>\n",
       "      <th>season</th>\n",
       "      <th>is_tv_show</th>\n",
       "      <th>tconst</th>\n",
       "      <th>averageRating</th>\n",
       "      <th>numVotes</th>\n",
       "      <th>titleType</th>\n",
       "      <th>runtimeMinutes</th>\n",
       "      <th>genres</th>\n",
       "    </tr>\n",
       "  </thead>\n",
       "  <tbody>\n",
       "    <tr>\n",
       "      <th>0</th>\n",
       "      <td>#blackAF: Season 1</td>\n",
       "      <td>2020</td>\n",
       "      <td>20200417</td>\n",
       "      <td>False</td>\n",
       "      <td>blackaf</td>\n",
       "      <td>1.0</td>\n",
       "      <td>True</td>\n",
       "      <td>tt10311562</td>\n",
       "      <td>6.8</td>\n",
       "      <td>4892.0</td>\n",
       "      <td>tvSeries</td>\n",
       "      <td>36</td>\n",
       "      <td>Comedy</td>\n",
       "    </tr>\n",
       "    <tr>\n",
       "      <th>1</th>\n",
       "      <td>(Un)Well: Season 1</td>\n",
       "      <td>2020</td>\n",
       "      <td>20200812</td>\n",
       "      <td>False</td>\n",
       "      <td>unwell</td>\n",
       "      <td>1.0</td>\n",
       "      <td>True</td>\n",
       "      <td>tt12759384</td>\n",
       "      <td>6.4</td>\n",
       "      <td>1091.0</td>\n",
       "      <td>tvSeries</td>\n",
       "      <td>\\N</td>\n",
       "      <td>Documentary</td>\n",
       "    </tr>\n",
       "    <tr>\n",
       "      <th>2</th>\n",
       "      <td>10 Days With Santa Claus</td>\n",
       "      <td>2020</td>\n",
       "      <td>20201204</td>\n",
       "      <td>False</td>\n",
       "      <td>10 days with santa claus</td>\n",
       "      <td>NaN</td>\n",
       "      <td>False</td>\n",
       "      <td>tt10803866</td>\n",
       "      <td>6.1</td>\n",
       "      <td>856.0</td>\n",
       "      <td>movie</td>\n",
       "      <td>100</td>\n",
       "      <td>Comedy,Family</td>\n",
       "    </tr>\n",
       "    <tr>\n",
       "      <th>3</th>\n",
       "      <td>100 Humans: Season 1</td>\n",
       "      <td>2020</td>\n",
       "      <td>20200313</td>\n",
       "      <td>False</td>\n",
       "      <td>100 humans</td>\n",
       "      <td>1.0</td>\n",
       "      <td>True</td>\n",
       "      <td>tt11823088</td>\n",
       "      <td>5.8</td>\n",
       "      <td>4153.0</td>\n",
       "      <td>tvSeries</td>\n",
       "      <td>\\N</td>\n",
       "      <td>Reality-TV</td>\n",
       "    </tr>\n",
       "    <tr>\n",
       "      <th>4</th>\n",
       "      <td>1000 Miles from Christmas</td>\n",
       "      <td>2021</td>\n",
       "      <td>20211224</td>\n",
       "      <td>True</td>\n",
       "      <td>1000 miles from christmas</td>\n",
       "      <td>NaN</td>\n",
       "      <td>False</td>\n",
       "      <td>tt13782052</td>\n",
       "      <td>5.8</td>\n",
       "      <td>1531.0</td>\n",
       "      <td>movie</td>\n",
       "      <td>102</td>\n",
       "      <td>Comedy,Romance</td>\n",
       "    </tr>\n",
       "  </tbody>\n",
       "</table>\n",
       "</div>"
      ],
      "text/plain": [
       "              combined_title  release_year  release_date  is_top10  \\\n",
       "0         #blackAF: Season 1          2020      20200417     False   \n",
       "1         (Un)Well: Season 1          2020      20200812     False   \n",
       "2   10 Days With Santa Claus          2020      20201204     False   \n",
       "3       100 Humans: Season 1          2020      20200313     False   \n",
       "4  1000 Miles from Christmas          2021      20211224      True   \n",
       "\n",
       "                       title  season  is_tv_show      tconst  averageRating  \\\n",
       "0                    blackaf     1.0        True  tt10311562            6.8   \n",
       "1                     unwell     1.0        True  tt12759384            6.4   \n",
       "2   10 days with santa claus     NaN       False  tt10803866            6.1   \n",
       "3                 100 humans     1.0        True  tt11823088            5.8   \n",
       "4  1000 miles from christmas     NaN       False  tt13782052            5.8   \n",
       "\n",
       "   numVotes titleType runtimeMinutes          genres  \n",
       "0    4892.0  tvSeries             36          Comedy  \n",
       "1    1091.0  tvSeries             \\N     Documentary  \n",
       "2     856.0     movie            100   Comedy,Family  \n",
       "3    4153.0  tvSeries             \\N      Reality-TV  \n",
       "4    1531.0     movie            102  Comedy,Romance  "
      ]
     },
     "execution_count": 51,
     "metadata": {},
     "output_type": "execute_result"
    }
   ],
   "source": [
    "shows.head()"
   ]
  },
  {
   "cell_type": "code",
   "execution_count": 68,
   "metadata": {},
   "outputs": [],
   "source": [
    "# if world show_title is in shows title, add the cumulative_weeks_in_top_10 to shows dataframe\n",
    "shows['cumulative_weeks_in_top_10'] = np.nan\n",
    "for i in range(len(world)):\n",
    "    for j in range(len(shows)):\n",
    "        if world.iloc[i, 5] in shows.iloc[j, 0]:\n",
    "            shows.iloc[j, 13] = world.iloc[i, 7]\n",
    "# fill in the rest of the cumulative_weeks_in_top_10 with 0\n",
    "shows['cumulative_weeks_in_top_10'] = shows['cumulative_weeks_in_top_10'].fillna(0)"
   ]
  },
  {
   "cell_type": "code",
   "execution_count": null,
   "metadata": {},
   "outputs": [],
   "source": [
    "shows.value_counts('cumulative_weeks_in_top_10')"
   ]
  },
  {
   "cell_type": "code",
   "execution_count": 70,
   "metadata": {},
   "outputs": [],
   "source": [
    "# write to downloads\n",
    "shows.to_csv('/Users/zachwayne/Downloads/Australia.csv', index=False)"
   ]
  },
  {
   "cell_type": "code",
   "execution_count": null,
   "metadata": {},
   "outputs": [],
   "source": []
  }
 ],
 "metadata": {
  "kernelspec": {
   "display_name": "Python 3.9.12 ('base')",
   "language": "python",
   "name": "python3"
  },
  "language_info": {
   "codemirror_mode": {
    "name": "ipython",
    "version": 3
   },
   "file_extension": ".py",
   "mimetype": "text/x-python",
   "name": "python",
   "nbconvert_exporter": "python",
   "pygments_lexer": "ipython3",
   "version": "3.9.12"
  },
  "orig_nbformat": 4,
  "vscode": {
   "interpreter": {
    "hash": "9065f229f78de392276990b09d69cf52daf9e7892e0a6186d0873b2049073fcb"
   }
  }
 },
 "nbformat": 4,
 "nbformat_minor": 2
}
