{
 "cells": [
  {
   "cell_type": "code",
   "execution_count": 2,
   "metadata": {},
   "outputs": [],
   "source": [
    "import pandas as pd"
   ]
  },
  {
   "cell_type": "code",
   "execution_count": 4,
   "metadata": {},
   "outputs": [],
   "source": [
    "netflix_data = pd.read_csv('../data/raw/netflix_branded_titles_with_release_year.csv')"
   ]
  },
  {
   "cell_type": "code",
   "execution_count": 105,
   "metadata": {},
   "outputs": [],
   "source": [
    "netflix_data.rename(columns={'title_desc':'combined_title'}, inplace=True)\n",
    "netflix_data[['title', 'season']] = netflix_data['combined_title'].str.split(': Season ', expand=True)\n",
    "netflix_data['title'] = netflix_data['title'].str.lower()\n",
    "netflix_data['is_tv_show'] = netflix_data['season'].notnull()\n",
    "netflix_data['release_year'] = netflix_data['release_year'].astype('int')\n",
    "\n",
    "netflix_data = netflix_data[~netflix_data['combined_title'].isin(['TIGER & BUNNY 2'])]\n",
    "netflix_data = netflix_data[~((netflix_data['combined_title'] == 'Catching Killers: Season 1') & (netflix_data['release_year'] == 2020))]"
   ]
  },
  {
   "cell_type": "markdown",
   "metadata": {},
   "source": [
    "\n",
    "Manually deleted Tiger & Bunny 2, which was a duplicate in the original netflix data\n",
    "\n",
    "Manually delted 1 of 2 Catching Killers:Season 1"
   ]
  },
  {
   "cell_type": "code",
   "execution_count": 106,
   "metadata": {},
   "outputs": [],
   "source": [
    "good_file_names_movie = ['../data/interim/movies_matched.csv',\n",
    "                         '../data/processed/good_batch_1.csv',\n",
    "                         '../data/processed/good_batch_2.csv',\n",
    "                ]\n",
    "good_file_names_tv = ['../data/interim/tv_matched.csv',\n",
    "                      '../data/processed/good_batch_tv_1.csv', \n",
    "                      '../data/processed/good_batch_tv_2.csv',\n",
    "                      '../data/processed/good_batch_tv_3.csv',\n",
    "                      ]\n",
    "\n",
    "good_data_movies = pd.concat((pd.read_csv(file_name) for file_name in good_file_names_movie)).drop_duplicates(subset=['title'])\n",
    "good_data_tv = pd.concat((pd.read_csv(file_name) for file_name in good_file_names_tv)).drop_duplicates(subset=['title'])"
   ]
  },
  {
   "cell_type": "code",
   "execution_count": 107,
   "metadata": {},
   "outputs": [],
   "source": [
    "good_data_movies['tconst'] = good_data_movies['tconst'].str.replace('TV_SERIES_', \"\")"
   ]
  },
  {
   "cell_type": "code",
   "execution_count": 108,
   "metadata": {},
   "outputs": [],
   "source": [
    "tconst_table = pd.concat([good_data_movies, good_data_tv[['tconst', 'title', 'release_year']]])"
   ]
  },
  {
   "cell_type": "code",
   "execution_count": 109,
   "metadata": {},
   "outputs": [],
   "source": [
    "merged_final = netflix_data.merge(tconst_table, how='left', on=['title'])[['tconst', 'combined_title', 'release_year_x', 'is_top10', 'title', 'season', 'is_tv_show']].drop_duplicates()"
   ]
  },
  {
   "cell_type": "markdown",
   "metadata": {},
   "source": [
    "Finally, Fix the movies that are actually TV shows."
   ]
  },
  {
   "cell_type": "code",
   "execution_count": 113,
   "metadata": {},
   "outputs": [],
   "source": [
    "good_data_movies_tv_convert = pd.concat((pd.read_csv(file_name) for file_name in good_file_names_movie)).drop_duplicates(subset=['title'])"
   ]
  },
  {
   "cell_type": "code",
   "execution_count": 115,
   "metadata": {},
   "outputs": [],
   "source": [
    "movie_to_tv = good_data_movies_tv_convert[good_data_movies_tv_convert['tconst'].str.contains('TV_SERIES_')]"
   ]
  },
  {
   "cell_type": "code",
   "execution_count": 118,
   "metadata": {},
   "outputs": [],
   "source": [
    "merged_final.loc[merged_final['title'].isin(movie_to_tv['title']), 'is_tv_show'] = True"
   ]
  },
  {
   "cell_type": "markdown",
   "metadata": {},
   "source": [
    "Create Final CSV"
   ]
  },
  {
   "cell_type": "code",
   "execution_count": 120,
   "metadata": {},
   "outputs": [],
   "source": [
    "#merged_final.to_csv('../data/final_data/netflix_final_data.csv', index=False)"
   ]
  },
  {
   "cell_type": "markdown",
   "metadata": {},
   "source": [
    "JK discovered there were more mismatched ones based on merging to ratings file"
   ]
  },
  {
   "cell_type": "code",
   "execution_count": null,
   "metadata": {},
   "outputs": [],
   "source": [
    "failed_merges = pd.read_csv('../data/interim/failed_merges.csv')"
   ]
  },
  {
   "cell_type": "code",
   "execution_count": null,
   "metadata": {},
   "outputs": [],
   "source": [
    "merged_final.loc[merged_final['tconst'].isna(), 'tconst'] = failed_merges['tconst'].values.tolist()"
   ]
  },
  {
   "cell_type": "code",
   "execution_count": null,
   "metadata": {},
   "outputs": [],
   "source": [
    "merged_final.to_csv('../data/final_data/netflix_final_data.csv', index=False)"
   ]
  }
 ],
 "metadata": {
  "kernelspec": {
   "display_name": "Python 3.10.4 ('netflix_proj')",
   "language": "python",
   "name": "python3"
  },
  "language_info": {
   "codemirror_mode": {
    "name": "ipython",
    "version": 3
   },
   "file_extension": ".py",
   "mimetype": "text/x-python",
   "name": "python",
   "nbconvert_exporter": "python",
   "pygments_lexer": "ipython3",
   "version": "3.10.4"
  },
  "orig_nbformat": 4,
  "vscode": {
   "interpreter": {
    "hash": "a9958285388ffb0985a92a2fa62daaced4f70ddc8281d758effbeb55efac45cc"
   }
  }
 },
 "nbformat": 4,
 "nbformat_minor": 2
}
